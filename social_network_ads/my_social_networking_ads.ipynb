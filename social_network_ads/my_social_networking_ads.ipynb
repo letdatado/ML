{
 "cells": [
  {
   "cell_type": "markdown",
   "metadata": {},
   "source": [
    "## Introduction: \n",
    "This is a social networking Advertisments dataset. The dataset is very simple, consisting of two features and a label. \n",
    "\n",
    "### Data Dictionary\n",
    "\n",
    "|Feature |Description|\n",
    "|:----|:----|\n",
    "|Age | Age of the Customer |\n",
    "|Estimated Salary | Estimated Salary of the Customer |\n",
    "|Puchased | Whether purchased (1) or Not (0) |\n",
    "\n",
    "\n",
    "### Objective: \n",
    "Given the age and estimated salary, whether the customer was persuaded to make the purchase through the company's advertising efforts\n",
    "\n"
   ]
  },
  {
   "cell_type": "markdown",
   "metadata": {},
   "source": [
    "## Importing Libraries"
   ]
  },
  {
   "cell_type": "code",
   "execution_count": 1,
   "metadata": {},
   "outputs": [],
   "source": [
    "import numpy as np\n",
    "import pandas as pd\n",
    "import matplotlib.pyplot as plt\n",
    "import matplotlib.style as style\n",
    "import seaborn as sns\n",
    "%matplotlib inline "
   ]
  },
  {
   "cell_type": "markdown",
   "metadata": {},
   "source": [
    "#### Pre Processing Libraries\n"
   ]
  },
  {
   "cell_type": "code",
   "execution_count": 2,
   "metadata": {},
   "outputs": [],
   "source": [
    "from sklearn.preprocessing import StandardScaler\n",
    "from sklearn.preprocessing import Normalizer\n",
    "from sklearn.preprocessing import RobustScaler\n",
    "from sklearn.preprocessing import MinMaxScaler"
   ]
  },
  {
   "cell_type": "markdown",
   "metadata": {},
   "source": [
    "#### Model Selection Libraries"
   ]
  },
  {
   "cell_type": "code",
   "execution_count": 3,
   "metadata": {},
   "outputs": [],
   "source": [
    "from sklearn.model_selection import train_test_split\n",
    "from sklearn.model_selection import KFold\n",
    "from sklearn.model_selection import cross_val_score\n",
    "from sklearn.model_selection import GridSearchCV"
   ]
  },
  {
   "cell_type": "markdown",
   "metadata": {},
   "source": [
    "#### Metrics Libraries"
   ]
  },
  {
   "cell_type": "code",
   "execution_count": 4,
   "metadata": {},
   "outputs": [],
   "source": [
    "from sklearn.metrics import classification_report\n",
    "from sklearn.metrics import confusion_matrix\n",
    "from sklearn.metrics import plot_confusion_matrix\n",
    "from sklearn.metrics import accuracy_score\n",
    "from sklearn.metrics import mean_squared_error"
   ]
  },
  {
   "cell_type": "markdown",
   "metadata": {},
   "source": [
    "#### Models Libraries"
   ]
  },
  {
   "cell_type": "code",
   "execution_count": 5,
   "metadata": {},
   "outputs": [],
   "source": [
    "\n",
    "from sklearn.neighbors import KNeighborsClassifier \n",
    "from sklearn.linear_model import LogisticRegression # Linear Model\n",
    "from sklearn.svm import LinearSVC                   # Linear Model\n",
    "from sklearn.tree import DecisionTreeClassifier\n",
    "from sklearn.ensemble import RandomForestClassifier"
   ]
  },
  {
   "cell_type": "markdown",
   "metadata": {},
   "source": [
    "#### Pipeline Library"
   ]
  },
  {
   "cell_type": "code",
   "execution_count": 6,
   "metadata": {},
   "outputs": [],
   "source": [
    "from sklearn.pipeline import Pipeline"
   ]
  },
  {
   "cell_type": "markdown",
   "metadata": {},
   "source": [
    "## Loading dataset"
   ]
  },
  {
   "cell_type": "code",
   "execution_count": 7,
   "metadata": {},
   "outputs": [],
   "source": [
    "ads = pd.read_csv('Social_Network_Ads.csv')"
   ]
  },
  {
   "cell_type": "code",
   "execution_count": 8,
   "metadata": {},
   "outputs": [
    {
     "data": {
      "text/html": [
       "<div>\n",
       "<style scoped>\n",
       "    .dataframe tbody tr th:only-of-type {\n",
       "        vertical-align: middle;\n",
       "    }\n",
       "\n",
       "    .dataframe tbody tr th {\n",
       "        vertical-align: top;\n",
       "    }\n",
       "\n",
       "    .dataframe thead th {\n",
       "        text-align: right;\n",
       "    }\n",
       "</style>\n",
       "<table border=\"1\" class=\"dataframe\">\n",
       "  <thead>\n",
       "    <tr style=\"text-align: right;\">\n",
       "      <th></th>\n",
       "      <th>Age</th>\n",
       "      <th>EstimatedSalary</th>\n",
       "      <th>Purchased</th>\n",
       "    </tr>\n",
       "  </thead>\n",
       "  <tbody>\n",
       "    <tr>\n",
       "      <th>0</th>\n",
       "      <td>19</td>\n",
       "      <td>19000</td>\n",
       "      <td>0</td>\n",
       "    </tr>\n",
       "    <tr>\n",
       "      <th>1</th>\n",
       "      <td>35</td>\n",
       "      <td>20000</td>\n",
       "      <td>0</td>\n",
       "    </tr>\n",
       "    <tr>\n",
       "      <th>2</th>\n",
       "      <td>26</td>\n",
       "      <td>43000</td>\n",
       "      <td>0</td>\n",
       "    </tr>\n",
       "    <tr>\n",
       "      <th>3</th>\n",
       "      <td>27</td>\n",
       "      <td>57000</td>\n",
       "      <td>0</td>\n",
       "    </tr>\n",
       "    <tr>\n",
       "      <th>4</th>\n",
       "      <td>19</td>\n",
       "      <td>76000</td>\n",
       "      <td>0</td>\n",
       "    </tr>\n",
       "  </tbody>\n",
       "</table>\n",
       "</div>"
      ],
      "text/plain": [
       "   Age  EstimatedSalary  Purchased\n",
       "0   19            19000          0\n",
       "1   35            20000          0\n",
       "2   26            43000          0\n",
       "3   27            57000          0\n",
       "4   19            76000          0"
      ]
     },
     "execution_count": 8,
     "metadata": {},
     "output_type": "execute_result"
    }
   ],
   "source": [
    "ads.head()"
   ]
  },
  {
   "cell_type": "code",
   "execution_count": 9,
   "metadata": {},
   "outputs": [
    {
     "data": {
      "text/html": [
       "<div>\n",
       "<style scoped>\n",
       "    .dataframe tbody tr th:only-of-type {\n",
       "        vertical-align: middle;\n",
       "    }\n",
       "\n",
       "    .dataframe tbody tr th {\n",
       "        vertical-align: top;\n",
       "    }\n",
       "\n",
       "    .dataframe thead th {\n",
       "        text-align: right;\n",
       "    }\n",
       "</style>\n",
       "<table border=\"1\" class=\"dataframe\">\n",
       "  <thead>\n",
       "    <tr style=\"text-align: right;\">\n",
       "      <th></th>\n",
       "      <th>Age</th>\n",
       "      <th>EstimatedSalary</th>\n",
       "      <th>Purchased</th>\n",
       "    </tr>\n",
       "  </thead>\n",
       "  <tbody>\n",
       "    <tr>\n",
       "      <th>395</th>\n",
       "      <td>46</td>\n",
       "      <td>41000</td>\n",
       "      <td>1</td>\n",
       "    </tr>\n",
       "    <tr>\n",
       "      <th>396</th>\n",
       "      <td>51</td>\n",
       "      <td>23000</td>\n",
       "      <td>1</td>\n",
       "    </tr>\n",
       "    <tr>\n",
       "      <th>397</th>\n",
       "      <td>50</td>\n",
       "      <td>20000</td>\n",
       "      <td>1</td>\n",
       "    </tr>\n",
       "    <tr>\n",
       "      <th>398</th>\n",
       "      <td>36</td>\n",
       "      <td>33000</td>\n",
       "      <td>0</td>\n",
       "    </tr>\n",
       "    <tr>\n",
       "      <th>399</th>\n",
       "      <td>49</td>\n",
       "      <td>36000</td>\n",
       "      <td>1</td>\n",
       "    </tr>\n",
       "  </tbody>\n",
       "</table>\n",
       "</div>"
      ],
      "text/plain": [
       "     Age  EstimatedSalary  Purchased\n",
       "395   46            41000          1\n",
       "396   51            23000          1\n",
       "397   50            20000          1\n",
       "398   36            33000          0\n",
       "399   49            36000          1"
      ]
     },
     "execution_count": 9,
     "metadata": {},
     "output_type": "execute_result"
    }
   ],
   "source": [
    "ads.tail()"
   ]
  },
  {
   "cell_type": "markdown",
   "metadata": {},
   "source": [
    "## Summary Statistics and Information"
   ]
  },
  {
   "cell_type": "code",
   "execution_count": 10,
   "metadata": {},
   "outputs": [
    {
     "data": {
      "text/plain": [
       "(400, 3)"
      ]
     },
     "execution_count": 10,
     "metadata": {},
     "output_type": "execute_result"
    }
   ],
   "source": [
    "ads.shape"
   ]
  },
  {
   "cell_type": "code",
   "execution_count": 11,
   "metadata": {},
   "outputs": [
    {
     "data": {
      "text/html": [
       "<div>\n",
       "<style scoped>\n",
       "    .dataframe tbody tr th:only-of-type {\n",
       "        vertical-align: middle;\n",
       "    }\n",
       "\n",
       "    .dataframe tbody tr th {\n",
       "        vertical-align: top;\n",
       "    }\n",
       "\n",
       "    .dataframe thead th {\n",
       "        text-align: right;\n",
       "    }\n",
       "</style>\n",
       "<table border=\"1\" class=\"dataframe\">\n",
       "  <thead>\n",
       "    <tr style=\"text-align: right;\">\n",
       "      <th></th>\n",
       "      <th>Age</th>\n",
       "      <th>EstimatedSalary</th>\n",
       "      <th>Purchased</th>\n",
       "    </tr>\n",
       "  </thead>\n",
       "  <tbody>\n",
       "    <tr>\n",
       "      <th>count</th>\n",
       "      <td>400.000000</td>\n",
       "      <td>400.000000</td>\n",
       "      <td>400.000000</td>\n",
       "    </tr>\n",
       "    <tr>\n",
       "      <th>mean</th>\n",
       "      <td>37.655000</td>\n",
       "      <td>69742.500000</td>\n",
       "      <td>0.357500</td>\n",
       "    </tr>\n",
       "    <tr>\n",
       "      <th>std</th>\n",
       "      <td>10.482877</td>\n",
       "      <td>34096.960282</td>\n",
       "      <td>0.479864</td>\n",
       "    </tr>\n",
       "    <tr>\n",
       "      <th>min</th>\n",
       "      <td>18.000000</td>\n",
       "      <td>15000.000000</td>\n",
       "      <td>0.000000</td>\n",
       "    </tr>\n",
       "    <tr>\n",
       "      <th>25%</th>\n",
       "      <td>29.750000</td>\n",
       "      <td>43000.000000</td>\n",
       "      <td>0.000000</td>\n",
       "    </tr>\n",
       "    <tr>\n",
       "      <th>50%</th>\n",
       "      <td>37.000000</td>\n",
       "      <td>70000.000000</td>\n",
       "      <td>0.000000</td>\n",
       "    </tr>\n",
       "    <tr>\n",
       "      <th>75%</th>\n",
       "      <td>46.000000</td>\n",
       "      <td>88000.000000</td>\n",
       "      <td>1.000000</td>\n",
       "    </tr>\n",
       "    <tr>\n",
       "      <th>max</th>\n",
       "      <td>60.000000</td>\n",
       "      <td>150000.000000</td>\n",
       "      <td>1.000000</td>\n",
       "    </tr>\n",
       "  </tbody>\n",
       "</table>\n",
       "</div>"
      ],
      "text/plain": [
       "              Age  EstimatedSalary   Purchased\n",
       "count  400.000000       400.000000  400.000000\n",
       "mean    37.655000     69742.500000    0.357500\n",
       "std     10.482877     34096.960282    0.479864\n",
       "min     18.000000     15000.000000    0.000000\n",
       "25%     29.750000     43000.000000    0.000000\n",
       "50%     37.000000     70000.000000    0.000000\n",
       "75%     46.000000     88000.000000    1.000000\n",
       "max     60.000000    150000.000000    1.000000"
      ]
     },
     "execution_count": 11,
     "metadata": {},
     "output_type": "execute_result"
    }
   ],
   "source": [
    "ads.describe(include='all')"
   ]
  },
  {
   "cell_type": "code",
   "execution_count": 12,
   "metadata": {},
   "outputs": [
    {
     "name": "stdout",
     "output_type": "stream",
     "text": [
      "<class 'pandas.core.frame.DataFrame'>\n",
      "RangeIndex: 400 entries, 0 to 399\n",
      "Data columns (total 3 columns):\n",
      " #   Column           Non-Null Count  Dtype\n",
      "---  ------           --------------  -----\n",
      " 0   Age              400 non-null    int64\n",
      " 1   EstimatedSalary  400 non-null    int64\n",
      " 2   Purchased        400 non-null    int64\n",
      "dtypes: int64(3)\n",
      "memory usage: 9.5 KB\n"
     ]
    }
   ],
   "source": [
    "ads.info()"
   ]
  },
  {
   "cell_type": "code",
   "execution_count": 13,
   "metadata": {},
   "outputs": [
    {
     "data": {
      "text/plain": [
       "Index(['Age', 'EstimatedSalary', 'Purchased'], dtype='object')"
      ]
     },
     "execution_count": 13,
     "metadata": {},
     "output_type": "execute_result"
    }
   ],
   "source": [
    "ads.columns"
   ]
  },
  {
   "cell_type": "code",
   "execution_count": 14,
   "metadata": {},
   "outputs": [
    {
     "name": "stdout",
     "output_type": "stream",
     "text": [
      "Age:\n",
      "unique entries: [19 35 26 27 32 25 20 18 29 47 45 46 48 49 31 21 28 33 30 23 24 22 59 34\n",
      " 39 38 37 42 40 36 41 58 55 52 60 56 53 50 51 57 44 43 54]\n",
      "EstimatedSalary:\n",
      "unique entries: [ 19000  20000  43000  57000  76000  58000  84000 150000  33000  65000\n",
      "  80000  52000  86000  18000  82000  25000  26000  28000  29000  22000\n",
      "  49000  41000  23000  30000  74000 137000  16000  44000  90000  27000\n",
      "  72000  31000  17000  51000 108000  15000  79000  54000 135000  89000\n",
      "  32000  83000  55000  48000 117000  87000  66000 120000  63000  68000\n",
      " 113000 112000  42000  88000  62000 118000  85000  81000  50000 116000\n",
      " 123000  73000  37000  59000 149000  21000  35000  71000  61000  75000\n",
      "  53000 107000  96000  45000  47000 100000  38000  69000 148000 115000\n",
      "  34000  60000  70000  36000  39000 134000 101000 130000 114000 142000\n",
      "  78000 143000  91000 144000 102000 126000 133000 147000 104000 146000\n",
      " 122000  97000  95000 131000  77000 125000 106000 141000  93000 138000\n",
      " 119000 105000  99000 129000  46000  64000 139000]\n",
      "Purchased:\n",
      "unique entries: [0 1]\n"
     ]
    }
   ],
   "source": [
    "for col in ads.columns:\n",
    "    unique = ads[col].unique()\n",
    "    print('{}:\\nunique entries: {}'.format(col, unique))"
   ]
  },
  {
   "cell_type": "code",
   "execution_count": 15,
   "metadata": {},
   "outputs": [
    {
     "name": "stdout",
     "output_type": "stream",
     "text": [
      "Age:\n",
      "35    32\n",
      "37    20\n",
      "41    16\n",
      "42    16\n",
      "26    16\n",
      "39    15\n",
      "40    15\n",
      "47    14\n",
      "48    14\n",
      "38    13\n",
      "27    13\n",
      "28    12\n",
      "46    12\n",
      "36    12\n",
      "31    11\n",
      "30    11\n",
      "29    10\n",
      "49    10\n",
      "32     9\n",
      "33     9\n",
      "24     9\n",
      "20     7\n",
      "19     7\n",
      "60     7\n",
      "59     7\n",
      "45     7\n",
      "25     6\n",
      "34     6\n",
      "58     6\n",
      "52     6\n",
      "23     6\n",
      "57     5\n",
      "22     5\n",
      "18     5\n",
      "53     5\n",
      "21     4\n",
      "50     4\n",
      "54     4\n",
      "55     3\n",
      "43     3\n",
      "56     3\n",
      "51     3\n",
      "44     2\n",
      "Name: Age, dtype: int64\n",
      "EstimatedSalary:\n",
      "72000     12\n",
      "80000     11\n",
      "79000     10\n",
      "71000      9\n",
      "75000      9\n",
      "          ..\n",
      "142000     1\n",
      "100000     1\n",
      "37000      1\n",
      "114000     1\n",
      "64000      1\n",
      "Name: EstimatedSalary, Length: 117, dtype: int64\n",
      "Purchased:\n",
      "0    257\n",
      "1    143\n",
      "Name: Purchased, dtype: int64\n"
     ]
    }
   ],
   "source": [
    "for col in ads.columns:\n",
    "    values = ads[col].value_counts(dropna=False, ascending=False)\n",
    "    print('{}:\\n{}'.format(col, values))\n",
    "    "
   ]
  },
  {
   "cell_type": "markdown",
   "metadata": {},
   "source": [
    "**Observations:**\n",
    "- No null values in this dataset\n",
    "- Our dataset has 3 columns and 400 rows\n",
    "- All columns are of integer type\n",
    "- The ages of customers in this dataset range from 18 to 60\n",
    "- The salaries of customers in this dataset range from USD 15,000 to USD 150,000\n",
    "- Out of 400 customers, 257 made purchases while 143 did not make any purchases"
   ]
  },
  {
   "cell_type": "markdown",
   "metadata": {},
   "source": [
    "## Data Exploration"
   ]
  },
  {
   "cell_type": "code",
   "execution_count": 16,
   "metadata": {},
   "outputs": [
    {
     "data": {
      "text/plain": [
       "35    0.08\n",
       "37    0.05\n",
       "41    0.04\n",
       "42    0.04\n",
       "26    0.04\n",
       "Name: Age, dtype: float64"
      ]
     },
     "execution_count": 16,
     "metadata": {},
     "output_type": "execute_result"
    }
   ],
   "source": [
    "ads['Age'].value_counts(normalize=True, ascending=False).head()"
   ]
  },
  {
   "cell_type": "code",
   "execution_count": 17,
   "metadata": {},
   "outputs": [],
   "source": [
    "def age_bracket(age):\n",
    "    if age >= 18 and age <= 26:\n",
    "        return '18-26'\n",
    "    elif age >= 27 and age <= 33:\n",
    "        return '27-33'\n",
    "    elif age >= 34 and age <= 42:\n",
    "        return '34-42'\n",
    "    elif age >= 43 and age <= 51:\n",
    "        return '43-51'\n",
    "    elif age >= 52 and age <= 60:\n",
    "        return '52-60'\n",
    "    else:\n",
    "        return NaN \n",
    "    "
   ]
  },
  {
   "cell_type": "code",
   "execution_count": 18,
   "metadata": {},
   "outputs": [],
   "source": [
    "ads1 = ads.copy()\n",
    "ads1['age_bracket'] = ads1['Age'].apply(age_bracket)"
   ]
  },
  {
   "cell_type": "code",
   "execution_count": 19,
   "metadata": {},
   "outputs": [
    {
     "data": {
      "text/plain": [
       "34-42    145\n",
       "27-33     75\n",
       "43-51     69\n",
       "18-26     65\n",
       "52-60     46\n",
       "Name: age_bracket, dtype: int64"
      ]
     },
     "execution_count": 19,
     "metadata": {},
     "output_type": "execute_result"
    }
   ],
   "source": [
    "ads1.age_bracket.value_counts()"
   ]
  },
  {
   "cell_type": "code",
   "execution_count": 20,
   "metadata": {},
   "outputs": [
    {
     "data": {
      "text/plain": [
       "['Solarize_Light2',\n",
       " '_classic_test_patch',\n",
       " 'bmh',\n",
       " 'classic',\n",
       " 'dark_background',\n",
       " 'fast',\n",
       " 'fivethirtyeight',\n",
       " 'ggplot',\n",
       " 'grayscale',\n",
       " 'seaborn',\n",
       " 'seaborn-bright',\n",
       " 'seaborn-colorblind',\n",
       " 'seaborn-dark',\n",
       " 'seaborn-dark-palette',\n",
       " 'seaborn-darkgrid',\n",
       " 'seaborn-deep',\n",
       " 'seaborn-muted',\n",
       " 'seaborn-notebook',\n",
       " 'seaborn-paper',\n",
       " 'seaborn-pastel',\n",
       " 'seaborn-poster',\n",
       " 'seaborn-talk',\n",
       " 'seaborn-ticks',\n",
       " 'seaborn-white',\n",
       " 'seaborn-whitegrid',\n",
       " 'tableau-colorblind10']"
      ]
     },
     "execution_count": 20,
     "metadata": {},
     "output_type": "execute_result"
    }
   ],
   "source": [
    "style.available"
   ]
  },
  {
   "cell_type": "code",
   "execution_count": 21,
   "metadata": {},
   "outputs": [
    {
     "data": {
      "image/png": "[encoded data removed]",
      "text/plain": [
       "<Figure size 576x432 with 1 Axes>"
      ]
     },
     "metadata": {},
     "output_type": "display_data"
    }
   ],
   "source": [
    "style.use('ggplot')\n",
    "fig, ax = plt.subplots(figsize=(8,6))\n",
    "sns.countplot(x='age_bracket', data=ads1, hue='Purchased')\n",
    "ax.set_ylim(0,150)\n",
    "plt.title(\"Impact of Age on Purchases made\")\n",
    "plt.show()"
   ]
  },
  {
   "cell_type": "code",
   "execution_count": 22,
   "metadata": {},
   "outputs": [
    {
     "data": {
      "text/plain": [
       "age_bracket\n",
       "18-26     65\n",
       "27-33     75\n",
       "34-42    145\n",
       "43-51     69\n",
       "52-60     46\n",
       "Name: Age, dtype: int64"
      ]
     },
     "execution_count": 22,
     "metadata": {},
     "output_type": "execute_result"
    }
   ],
   "source": [
    "ads1_ab = ads1.groupby('age_bracket').count()['Age']\n",
    "ads1_ab"
   ]
  },
  {
   "cell_type": "code",
   "execution_count": 23,
   "metadata": {},
   "outputs": [],
   "source": [
    "def salary_bracket(salary):\n",
    "    if salary >= 15000 and salary <= 42000:\n",
    "        return '15K-42K'\n",
    "    elif salary > 42000 and salary <= 69000:\n",
    "        return '42K-69K'\n",
    "    elif salary > 69000 and salary <= 96000:\n",
    "        return '69K-96K'\n",
    "    elif salary > 96000 and salary <= 123000:\n",
    "        return '96K-123K'\n",
    "    elif salary >= 123000 and salary <= 150000:\n",
    "        return '123K-150K'\n",
    "    else:\n",
    "        return NaN \n",
    "    "
   ]
  },
  {
   "cell_type": "code",
   "execution_count": 24,
   "metadata": {},
   "outputs": [],
   "source": [
    "ads1['salary_bracket'] = ads1['EstimatedSalary'].apply(salary_bracket)"
   ]
  },
  {
   "cell_type": "code",
   "execution_count": 25,
   "metadata": {},
   "outputs": [
    {
     "data": {
      "text/plain": [
       "salary_bracket\n",
       "123K-150K     38\n",
       "15K-42K       95\n",
       "42K-69K      104\n",
       "69K-96K      125\n",
       "96K-123K      38\n",
       "Name: EstimatedSalary, dtype: int64"
      ]
     },
     "execution_count": 25,
     "metadata": {},
     "output_type": "execute_result"
    }
   ],
   "source": [
    "ads1_sb = ads1.groupby('salary_bracket').count()['EstimatedSalary']\n",
    "ads1_sb"
   ]
  },
  {
   "cell_type": "code",
   "execution_count": 26,
   "metadata": {},
   "outputs": [
    {
     "data": {
      "image/png": "[encoded data removed]",
      "text/plain": [
       "<Figure size 576x432 with 1 Axes>"
      ]
     },
     "metadata": {},
     "output_type": "display_data"
    }
   ],
   "source": [
    "style.use('ggplot')\n",
    "fig, ax = plt.subplots(figsize=(8,6))\n",
    "sns.countplot(x='salary_bracket', data=ads1, hue='Purchased')\n",
    "ax.set_ylim(0,150)\n",
    "plt.title(\"Impact of Estimated Salary on Purchases made\")\n",
    "plt.show()"
   ]
  },
  {
   "cell_type": "code",
   "execution_count": 27,
   "metadata": {},
   "outputs": [
    {
     "data": {
      "text/html": [
       "<div>\n",
       "<style scoped>\n",
       "    .dataframe tbody tr th:only-of-type {\n",
       "        vertical-align: middle;\n",
       "    }\n",
       "\n",
       "    .dataframe tbody tr th {\n",
       "        vertical-align: top;\n",
       "    }\n",
       "\n",
       "    .dataframe thead th {\n",
       "        text-align: right;\n",
       "    }\n",
       "</style>\n",
       "<table border=\"1\" class=\"dataframe\">\n",
       "  <thead>\n",
       "    <tr style=\"text-align: right;\">\n",
       "      <th></th>\n",
       "      <th>Age</th>\n",
       "      <th>EstimatedSalary</th>\n",
       "      <th>Purchased</th>\n",
       "    </tr>\n",
       "  </thead>\n",
       "  <tbody>\n",
       "    <tr>\n",
       "      <th>Age</th>\n",
       "      <td>1.000000</td>\n",
       "      <td>0.155238</td>\n",
       "      <td>0.622454</td>\n",
       "    </tr>\n",
       "    <tr>\n",
       "      <th>EstimatedSalary</th>\n",
       "      <td>0.155238</td>\n",
       "      <td>1.000000</td>\n",
       "      <td>0.362083</td>\n",
       "    </tr>\n",
       "    <tr>\n",
       "      <th>Purchased</th>\n",
       "      <td>0.622454</td>\n",
       "      <td>0.362083</td>\n",
       "      <td>1.000000</td>\n",
       "    </tr>\n",
       "  </tbody>\n",
       "</table>\n",
       "</div>"
      ],
      "text/plain": [
       "                      Age  EstimatedSalary  Purchased\n",
       "Age              1.000000         0.155238   0.622454\n",
       "EstimatedSalary  0.155238         1.000000   0.362083\n",
       "Purchased        0.622454         0.362083   1.000000"
      ]
     },
     "execution_count": 27,
     "metadata": {},
     "output_type": "execute_result"
    }
   ],
   "source": [
    "ads.corr()"
   ]
  },
  {
   "cell_type": "code",
   "execution_count": 28,
   "metadata": {},
   "outputs": [
    {
     "data": {
      "image/png": "[encoded data removed]",
      "text/plain": [
       "<Figure size 419.875x360 with 6 Axes>"
      ]
     },
     "metadata": {},
     "output_type": "display_data"
    }
   ],
   "source": [
    "sns.pairplot(ads1, hue='Purchased', kind=\"scatter\", markers=[\"o\", \"D\"], palette=\"Set1\")\n",
    "plt.show()"
   ]
  },
  {
   "cell_type": "code",
   "execution_count": 29,
   "metadata": {},
   "outputs": [
    {
     "data": {
      "image/png": "[encoded data removed]",
      "text/plain": [
       "<Figure size 432x432 with 2 Axes>"
      ]
     },
     "metadata": {},
     "output_type": "display_data"
    }
   ],
   "source": [
    "import matplotlib\n",
    "fig, ax = plt.subplots(1, 1, figsize=(6, 6))\n",
    "corr = ads1.corr()\n",
    "colors = [\"#45b5aa\",\"lightgray\", \"#ff6f61\"]\n",
    "cmap = matplotlib.colors.LinearSegmentedColormap.from_list(\"\", colors)\n",
    "mask = np.triu(np.ones_like(corr, dtype=np.bool))\n",
    "sns.heatmap(corr,\n",
    "            mask=mask,\n",
    "            square=True, \n",
    "            linewidth=2.5, \n",
    "            vmax=1, vmin=-1, \n",
    "            cmap=cmap, \n",
    "            cbar=True, \n",
    "            ax=ax,annot=True)\n",
    "# please do some nice work on it \n",
    "ax.spines['top'].set_visible(True)\n",
    "plt.show()"
   ]
  },
  {
   "cell_type": "code",
   "execution_count": 30,
   "metadata": {},
   "outputs": [],
   "source": [
    "# Keep in mind that we still have ads1 as copy as well\n",
    "ads2 = ads.copy()"
   ]
  },
  {
   "cell_type": "markdown",
   "metadata": {},
   "source": [
    "## Splitting the Data into Features and Label\n"
   ]
  },
  {
   "cell_type": "code",
   "execution_count": 31,
   "metadata": {},
   "outputs": [],
   "source": [
    "X = ads2.loc[:, ['Age', 'EstimatedSalary']]\n",
    "y = ads2.loc[:, 'Purchased']"
   ]
  },
  {
   "cell_type": "code",
   "execution_count": 32,
   "metadata": {},
   "outputs": [
    {
     "data": {
      "text/plain": [
       "(400, 2)"
      ]
     },
     "execution_count": 32,
     "metadata": {},
     "output_type": "execute_result"
    }
   ],
   "source": [
    "X.shape"
   ]
  },
  {
   "cell_type": "code",
   "execution_count": 33,
   "metadata": {},
   "outputs": [
    {
     "data": {
      "text/plain": [
       "(400,)"
      ]
     },
     "execution_count": 33,
     "metadata": {},
     "output_type": "execute_result"
    }
   ],
   "source": [
    "y.shape"
   ]
  },
  {
   "cell_type": "code",
   "execution_count": 34,
   "metadata": {},
   "outputs": [],
   "source": [
    "X_train, X_test, y_train, y_test = train_test_split(X, y, test_size=0.2, random_state=42)"
   ]
  },
  {
   "cell_type": "markdown",
   "metadata": {},
   "source": [
    "## Applying Models"
   ]
  },
  {
   "cell_type": "markdown",
   "metadata": {},
   "source": [
    "### Logistic Regression"
   ]
  },
  {
   "cell_type": "markdown",
   "metadata": {},
   "source": [
    "#### Make a Pipeline with Scaler to avoid Data Leakage"
   ]
  },
  {
   "cell_type": "code",
   "execution_count": 35,
   "metadata": {},
   "outputs": [],
   "source": [
    "lr_pipe = Pipeline([('sc', StandardScaler()), ('lr', LogisticRegression())])"
   ]
  },
  {
   "cell_type": "code",
   "execution_count": 36,
   "metadata": {},
   "outputs": [
    {
     "name": "stdout",
     "output_type": "stream",
     "text": [
      "Train Score:\n",
      "0.840625\n",
      "Test Score:\n",
      "0.8625\n",
      "\n",
      "Accuracy Score:\n",
      "0.8625\n"
     ]
    },
    {
     "data": {
      "image/png": "[encoded data removed]",
      "text/plain": [
       "<Figure size 432x288 with 2 Axes>"
      ]
     },
     "metadata": {},
     "output_type": "display_data"
    }
   ],
   "source": [
    "# Train the model\n",
    "lr_pipe.fit(X_train, y_train)\n",
    "\n",
    "# Get train and test scores\n",
    "print('Train Score:\\n{}\\nTest Score:\\n{}'.format(lr_pipe.score(X_train, y_train), lr_pipe.score(X_test, y_test)))\n",
    "\n",
    "# Predict\n",
    "y_pred = lr_pipe.predict(X_test)\n",
    "print('\\nAccuracy Score:\\n{}'.format(accuracy_score(y_test, y_pred)))\n",
    "\n",
    "# Plot Confusion Matrix\n",
    "plot_confusion_matrix(lr_pipe, X_test, y_test)\n",
    "plt.title('Logistic Regression\\'s Confusion Matrix')\n",
    "\n",
    "plt.show()"
   ]
  },
  {
   "cell_type": "code",
   "execution_count": 37,
   "metadata": {},
   "outputs": [
    {
     "data": {
      "text/plain": [
       "[('sc', StandardScaler()), ('lr', LogisticRegression())]"
      ]
     },
     "execution_count": 37,
     "metadata": {},
     "output_type": "execute_result"
    }
   ],
   "source": [
    "lr_pipe.steps"
   ]
  },
  {
   "cell_type": "markdown",
   "metadata": {},
   "source": [
    "##### Lets look into the scores of each fold"
   ]
  },
  {
   "cell_type": "code",
   "execution_count": 38,
   "metadata": {},
   "outputs": [
    {
     "name": "stdout",
     "output_type": "stream",
     "text": [
      "Cross_validation scores:\n",
      "[0.675 0.9   0.925 0.9   0.925 0.725 0.925 0.75  0.9   0.625]\n",
      "Mean score = 0.825\n"
     ]
    }
   ],
   "source": [
    "kfold = KFold(n_splits=10)\n",
    "print('Cross_validation scores:\\n{}'.format(cross_val_score(lr_pipe, X, y, cv=kfold)))\n",
    "print('Mean score = {}'.format(cross_val_score(lr_pipe, X, y, cv=kfold).mean()))\n"
   ]
  },
  {
   "cell_type": "markdown",
   "metadata": {},
   "source": [
    "##### Lets look into score for each fold with shuffle=True"
   ]
  },
  {
   "cell_type": "code",
   "execution_count": 39,
   "metadata": {},
   "outputs": [
    {
     "name": "stdout",
     "output_type": "stream",
     "text": [
      "Cross_validation scores:\n",
      "[0.875 0.85  0.875 0.85  0.9   0.85  0.825 0.75  0.75  0.925]\n",
      "Mean score = 0.8400000000000001\n"
     ]
    }
   ],
   "source": [
    "kfold = KFold(n_splits=10, shuffle=True)\n",
    "print('Cross_validation scores:\\n{}'.format(cross_val_score(lr_pipe, X, y, cv=kfold)))\n",
    "print('Mean score = {}'.format(cross_val_score(lr_pipe, X, y, cv=kfold).mean()))\n"
   ]
  },
  {
   "cell_type": "markdown",
   "metadata": {},
   "source": [
    "### KNN Classifier"
   ]
  },
  {
   "cell_type": "markdown",
   "metadata": {},
   "source": [
    "#### Make a Pipeline with Scaler to avoid Data Leakage"
   ]
  },
  {
   "cell_type": "code",
   "execution_count": 40,
   "metadata": {},
   "outputs": [],
   "source": [
    "# Pipeline \n",
    "knn_pipe = Pipeline([('sc',StandardScaler()), ('knn', KNeighborsClassifier())])"
   ]
  },
  {
   "cell_type": "code",
   "execution_count": 41,
   "metadata": {},
   "outputs": [
    {
     "name": "stdout",
     "output_type": "stream",
     "text": [
      "Train Score:\n",
      "0.909375\n",
      "Test Score\n",
      "0.9125\n",
      "\n",
      "Accuracy Score : 0.9125\n"
     ]
    },
    {
     "data": {
      "image/png": "[encoded data removed]",
      "text/plain": [
       "<Figure size 432x288 with 2 Axes>"
      ]
     },
     "metadata": {},
     "output_type": "display_data"
    }
   ],
   "source": [
    "# Train the model\n",
    "knn_pipe.fit(X_train, y_train)\n",
    "\n",
    "# Get train and test scores\n",
    "print('Train Score:\\n{}\\nTest Score\\n{}'.format(knn_pipe.score(X_train, y_train), knn_pipe.score(X_test, y_test)))\n",
    "\n",
    "# Predict\n",
    "y_pred = knn_pipe.predict(X_test)\n",
    "print('\\nAccuracy Score : {}'.format(accuracy_score(y_test, y_pred)))\n",
    "\n",
    "# Plot Confusion Matrix\n",
    "plot_confusion_matrix(knn_pipe,X_test, y_test)\n",
    "plt.title('KNN Classifier\\'s Confusion Matrix')\n",
    "\n",
    "plt.show()"
   ]
  },
  {
   "cell_type": "markdown",
   "metadata": {},
   "source": [
    "##### Lets look into score for each fold"
   ]
  },
  {
   "cell_type": "code",
   "execution_count": 42,
   "metadata": {},
   "outputs": [
    {
     "name": "stdout",
     "output_type": "stream",
     "text": [
      "Cross-validation scores:\n",
      "[1.    0.9   0.925 0.925 0.925 0.725 0.925 0.8   0.925 0.875]\n",
      "Mean score = 0.8925000000000001\n"
     ]
    }
   ],
   "source": [
    "kfold = KFold(n_splits=10)\n",
    "print(\"Cross-validation scores:\\n{}\".format(cross_val_score(knn_pipe, X, y, cv=kfold)))\n",
    "print('Mean score = {}'.format(cross_val_score(knn_pipe, X, y, cv=kfold).mean()))\n",
    "\n"
   ]
  },
  {
   "cell_type": "markdown",
   "metadata": {},
   "source": [
    "##### Lets look into score for each fold with shuffle=True"
   ]
  },
  {
   "cell_type": "code",
   "execution_count": 43,
   "metadata": {},
   "outputs": [
    {
     "name": "stdout",
     "output_type": "stream",
     "text": [
      "Cross-validation scores:\n",
      "[0.9   0.95  0.8   0.9   0.925 0.9   0.85  0.925 0.925 0.9  ]\n",
      "Mean score = 0.89\n"
     ]
    }
   ],
   "source": [
    "kfold = KFold(n_splits=10, shuffle=True)\n",
    "print(\"Cross-validation scores:\\n{}\".format(cross_val_score(knn_pipe, X, y, cv=kfold)))\n",
    "print('Mean score = {}'.format(cross_val_score(knn_pipe, X, y, cv=kfold).mean()))"
   ]
  },
  {
   "cell_type": "markdown",
   "metadata": {},
   "source": [
    "**Observations:**\n",
    "- Without using Cross validation, KNClassifier() showed the highest test score of around 91%. However, this score dropped significatly after using cross-validation to around 76%. \n",
    "- By analysing the results of each fold, we can see the differences among the test scores of each fold.\n",
    "- So we need to consider the score we got through Cross-Validation\n"
   ]
  },
  {
   "cell_type": "markdown",
   "metadata": {},
   "source": [
    "### Decision Tree Classifier"
   ]
  },
  {
   "cell_type": "markdown",
   "metadata": {},
   "source": [
    "<font color=red> Scaling is not required in DecisionTree as it is a tree based model"
   ]
  },
  {
   "cell_type": "code",
   "execution_count": 44,
   "metadata": {},
   "outputs": [
    {
     "name": "stdout",
     "output_type": "stream",
     "text": [
      "Train Score:\n",
      "0.996875\n",
      "Test Score\n",
      "0.8375\n",
      "\n",
      "Accuracy Score : 0.8375\n"
     ]
    },
    {
     "data": {
      "image/png": "[encoded data removed]",
      "text/plain": [
       "<Figure size 432x288 with 2 Axes>"
      ]
     },
     "metadata": {},
     "output_type": "display_data"
    }
   ],
   "source": [
    "tree = DecisionTreeClassifier()\n",
    "tree.fit(X_train, y_train)\n",
    "print('Train Score:\\n{}\\nTest Score\\n{}'.format(tree.score(X_train, y_train), tree.score(X_test, y_test)))\n",
    "\n",
    "y_pred = tree.predict(X_test)\n",
    "print('\\nAccuracy Score : {}'.format(accuracy_score(y_test, y_pred)))\n",
    "\n",
    "plot_confusion_matrix(tree,X_test, y_test)\n",
    "plt.title('Decision Tree Classifier\\'s Confusion Matrix')\n",
    "\n",
    "plt.show()"
   ]
  },
  {
   "cell_type": "markdown",
   "metadata": {},
   "source": [
    "##### Lets look into score for each fold"
   ]
  },
  {
   "cell_type": "code",
   "execution_count": 45,
   "metadata": {},
   "outputs": [
    {
     "name": "stdout",
     "output_type": "stream",
     "text": [
      "Cross-validation scores:\n",
      "[0.85  0.9   0.975 1.    0.925 0.7   0.85  0.725 0.825 0.775]\n",
      "Mean score = 0.8550000000000001\n"
     ]
    }
   ],
   "source": [
    "kfold = KFold(n_splits=10)\n",
    "print(\"Cross-validation scores:\\n{}\".format(cross_val_score(tree, X, y, cv=kfold)))\n",
    "print('Mean score = {}'.format(cross_val_score(tree, X, y, cv=kfold).mean()))\n",
    "\n"
   ]
  },
  {
   "cell_type": "markdown",
   "metadata": {},
   "source": [
    "##### Lets look into score for each fold with shuffle=True"
   ]
  },
  {
   "cell_type": "code",
   "execution_count": 46,
   "metadata": {},
   "outputs": [
    {
     "name": "stdout",
     "output_type": "stream",
     "text": [
      "Cross-validation scores:\n",
      "[0.85  0.85  0.8   0.85  0.925 0.9   0.825 0.8   0.9   0.875]\n",
      "Mean score = 0.8574999999999999\n"
     ]
    }
   ],
   "source": [
    "kfold = KFold(n_splits=10, shuffle=True)\n",
    "print(\"Cross-validation scores:\\n{}\".format(cross_val_score(tree, X, y, cv=kfold)))\n",
    "print('Mean score = {}'.format(cross_val_score(tree, X, y, cv=kfold).mean()))"
   ]
  },
  {
   "cell_type": "markdown",
   "metadata": {},
   "source": [
    "**Observations:**\n",
    "- Without using Cross validation, DecisionTreeClassifier() showed the test score of around 83.75%. This score got an increase of a percent or two after using cross-validation to around 85%. \n",
    "- By analysing the results of each fold, we can see the differences among the test scores of each fold.\n",
    "- Therefore, we need to consider the score we got through Cross-Validation with shuffle=True\n"
   ]
  },
  {
   "cell_type": "markdown",
   "metadata": {},
   "source": [
    "### Random Forest Classifier"
   ]
  },
  {
   "cell_type": "markdown",
   "metadata": {},
   "source": [
    "<font color=red> Scaling is not required in RandonForest as it is a tree based model"
   ]
  },
  {
   "cell_type": "code",
   "execution_count": 47,
   "metadata": {},
   "outputs": [
    {
     "name": "stdout",
     "output_type": "stream",
     "text": [
      "Train Score:\n",
      "0.996875\n",
      "Test Score\n",
      "0.9\n",
      "\n",
      "Accuracy Score : 0.9\n"
     ]
    },
    {
     "data": {
      "image/png": "[encoded data removed]",
      "text/plain": [
       "<Figure size 432x288 with 2 Axes>"
      ]
     },
     "metadata": {},
     "output_type": "display_data"
    }
   ],
   "source": [
    "rf = RandomForestClassifier()\n",
    "rf.fit(X_train, y_train)\n",
    "print('Train Score:\\n{}\\nTest Score\\n{}'.format(rf.score(X_train, y_train), rf.score(X_test, y_test)))\n",
    "\n",
    "y_pred = rf.predict(X_test)\n",
    "print('\\nAccuracy Score : {}'.format(accuracy_score(y_test, y_pred)))\n",
    "\n",
    "plot_confusion_matrix(rf ,X_test, y_test)\n",
    "plt.title('Random Forests Classifier\\'s Confusion Matrix')\n",
    "\n",
    "plt.show()"
   ]
  },
  {
   "cell_type": "markdown",
   "metadata": {},
   "source": [
    "##### Lets look into score for each fold"
   ]
  },
  {
   "cell_type": "code",
   "execution_count": 48,
   "metadata": {},
   "outputs": [
    {
     "name": "stdout",
     "output_type": "stream",
     "text": [
      "Cross-validation scores:\n",
      "[0.95  0.875 0.95  0.95  0.925 0.7   0.925 0.8   0.925 0.875]\n",
      "Mean score = 0.8925000000000001\n"
     ]
    }
   ],
   "source": [
    "kfold = KFold(n_splits=10)\n",
    "print(\"Cross-validation scores:\\n{}\".format(cross_val_score(rf, X, y, cv=kfold)))\n",
    "print('Mean score = {}'.format(cross_val_score(rf, X, y, cv=kfold).mean()))\n",
    "\n"
   ]
  },
  {
   "cell_type": "markdown",
   "metadata": {},
   "source": [
    "##### Lets look into score for each fold with Shuffle=True"
   ]
  },
  {
   "cell_type": "code",
   "execution_count": 49,
   "metadata": {},
   "outputs": [
    {
     "name": "stdout",
     "output_type": "stream",
     "text": [
      "Cross-validation scores:\n",
      "[0.8   0.9   0.85  0.925 0.925 0.85  0.85  0.825 0.925 0.975]\n",
      "Mean score = 0.8899999999999999\n"
     ]
    }
   ],
   "source": [
    "kfold = KFold(n_splits=10, shuffle=True)\n",
    "print(\"Cross-validation scores:\\n{}\".format(cross_val_score(rf, X, y, cv=kfold)))\n",
    "print('Mean score = {}'.format(cross_val_score(rf, X, y, cv=kfold).mean()))"
   ]
  },
  {
   "cell_type": "markdown",
   "metadata": {},
   "source": [
    "**Observations:**\n",
    "- Without using Cross validation, RandomForestClassifier() showed the test score of around 88%. The score remained almost the same after using Cross-Validation\n",
    "- By analysing the results of each fold, we again see the differences among the test scores of each folds.\n",
    "\n"
   ]
  },
  {
   "cell_type": "markdown",
   "metadata": {},
   "source": [
    "## Moving on with the **Random Forest Classifier's** Model"
   ]
  },
  {
   "cell_type": "markdown",
   "metadata": {},
   "source": [
    "Lets try to improve the score and do the rest of the work on this model"
   ]
  },
  {
   "cell_type": "code",
   "execution_count": 50,
   "metadata": {},
   "outputs": [],
   "source": [
    "# Lets make the parameters Grid\n",
    "param_grid = { \n",
    "    'rf__n_estimators': [50, 100, 150],\n",
    "    'rf__max_features': ['auto', 'sqrt', 'log2'],\n",
    "    'rf__max_depth' : [4,5,6,7,8],\n",
    "    'rf__criterion' : ['gini', 'entropy']\n",
    "}"
   ]
  },
  {
   "cell_type": "code",
   "execution_count": 51,
   "metadata": {},
   "outputs": [],
   "source": [
    "rf_pipe = Pipeline([('rf', RandomForestClassifier())])"
   ]
  },
  {
   "cell_type": "code",
   "execution_count": 52,
   "metadata": {},
   "outputs": [
    {
     "name": "stdout",
     "output_type": "stream",
     "text": [
      "Test Set score with Grid Search:\n",
      "0.9375\n"
     ]
    }
   ],
   "source": [
    "# Setting up grid-search metaestimator\n",
    "rf_grid = GridSearchCV(rf_pipe, param_grid, cv=5)\n",
    "\n",
    "# Train the grid-search meta-estimator to find the best model\n",
    "rf_grid.fit(X_train, y_train)\n",
    "\n",
    "# Print the Test scores\n",
    "print('Test Set score with Grid Search:\\n{}'.format(rf_grid.score(X_test, y_test)))"
   ]
  },
  {
   "cell_type": "code",
   "execution_count": 53,
   "metadata": {},
   "outputs": [
    {
     "name": "stdout",
     "output_type": "stream",
     "text": [
      "Best Parameters obtained through GridSearchCV:\n",
      "{'rf__criterion': 'gini', 'rf__max_depth': 4, 'rf__max_features': 'auto', 'rf__n_estimators': 50}\n"
     ]
    }
   ],
   "source": [
    "# Print the best Parameters\n",
    "print('Best Parameters obtained through GridSearchCV:\\n{}'.format(rf_grid.best_params_))"
   ]
  },
  {
   "cell_type": "code",
   "execution_count": 54,
   "metadata": {},
   "outputs": [
    {
     "name": "stdout",
     "output_type": "stream",
     "text": [
      "Best Estimator obtained through GridSearchCV:\n",
      "Pipeline(steps=[('rf', RandomForestClassifier(max_depth=4, n_estimators=50))])\n"
     ]
    }
   ],
   "source": [
    "# Print the best Estimators\n",
    "print(\"Best Estimator obtained through GridSearchCV:\\n{}\".format(rf_grid.best_estimator_))"
   ]
  },
  {
   "cell_type": "code",
   "execution_count": 55,
   "metadata": {},
   "outputs": [
    {
     "name": "stdout",
     "output_type": "stream",
     "text": [
      "Best CV score obtained through GridSearchCV:\n",
      "0.909375\n"
     ]
    }
   ],
   "source": [
    "# Print The best CV score, Though not required\n",
    "print('Best CV score obtained through GridSearchCV:\\n{}'.format(rf_grid.best_score_))\n"
   ]
  },
  {
   "cell_type": "markdown",
   "metadata": {},
   "source": [
    "**Observations:**"
   ]
  },
  {
   "cell_type": "markdown",
   "metadata": {},
   "source": [
    "- GridSearchCV helped enhancing the scores further. The test score with GridSeachCV is around 91%\n",
    "\n",
    "\n",
    "- Following parameters were found to be the best performing ones\n",
    "    - criterion: 'gini', max_depth= 4, max_features: 'auto', 'n_estimators': 100"
   ]
  },
  {
   "cell_type": "code",
   "execution_count": null,
   "metadata": {},
   "outputs": [],
   "source": []
  },
  {
   "cell_type": "markdown",
   "metadata": {},
   "source": [
    "<font color=red> The results of a grid search can be found in the cv_results_ attribute, which is a dictionary storing all aspects of the search. It is best looked at after converting it to a pandas DataFrame"
   ]
  },
  {
   "cell_type": "code",
   "execution_count": 56,
   "metadata": {},
   "outputs": [
    {
     "data": {
      "text/html": [
       "<div>\n",
       "<style scoped>\n",
       "    .dataframe tbody tr th:only-of-type {\n",
       "        vertical-align: middle;\n",
       "    }\n",
       "\n",
       "    .dataframe tbody tr th {\n",
       "        vertical-align: top;\n",
       "    }\n",
       "\n",
       "    .dataframe thead th {\n",
       "        text-align: right;\n",
       "    }\n",
       "</style>\n",
       "<table border=\"1\" class=\"dataframe\">\n",
       "  <thead>\n",
       "    <tr style=\"text-align: right;\">\n",
       "      <th></th>\n",
       "      <th>mean_fit_time</th>\n",
       "      <th>std_fit_time</th>\n",
       "      <th>mean_score_time</th>\n",
       "      <th>std_score_time</th>\n",
       "      <th>param_rf__criterion</th>\n",
       "      <th>param_rf__max_depth</th>\n",
       "      <th>param_rf__max_features</th>\n",
       "      <th>param_rf__n_estimators</th>\n",
       "      <th>params</th>\n",
       "      <th>split0_test_score</th>\n",
       "      <th>split1_test_score</th>\n",
       "      <th>split2_test_score</th>\n",
       "      <th>split3_test_score</th>\n",
       "      <th>split4_test_score</th>\n",
       "      <th>mean_test_score</th>\n",
       "      <th>std_test_score</th>\n",
       "      <th>rank_test_score</th>\n",
       "    </tr>\n",
       "  </thead>\n",
       "  <tbody>\n",
       "    <tr>\n",
       "      <th>0</th>\n",
       "      <td>0.084763</td>\n",
       "      <td>0.014830</td>\n",
       "      <td>0.006398</td>\n",
       "      <td>0.003199</td>\n",
       "      <td>gini</td>\n",
       "      <td>4</td>\n",
       "      <td>auto</td>\n",
       "      <td>50</td>\n",
       "      <td>{'rf__criterion': 'gini', 'rf__max_depth': 4, ...</td>\n",
       "      <td>0.9375</td>\n",
       "      <td>0.953125</td>\n",
       "      <td>0.921875</td>\n",
       "      <td>0.859375</td>\n",
       "      <td>0.875</td>\n",
       "      <td>0.909375</td>\n",
       "      <td>0.036174</td>\n",
       "      <td>1</td>\n",
       "    </tr>\n",
       "    <tr>\n",
       "      <th>1</th>\n",
       "      <td>0.182335</td>\n",
       "      <td>0.029232</td>\n",
       "      <td>0.007989</td>\n",
       "      <td>0.000005</td>\n",
       "      <td>gini</td>\n",
       "      <td>4</td>\n",
       "      <td>auto</td>\n",
       "      <td>100</td>\n",
       "      <td>{'rf__criterion': 'gini', 'rf__max_depth': 4, ...</td>\n",
       "      <td>0.9375</td>\n",
       "      <td>0.953125</td>\n",
       "      <td>0.906250</td>\n",
       "      <td>0.859375</td>\n",
       "      <td>0.875</td>\n",
       "      <td>0.906250</td>\n",
       "      <td>0.035630</td>\n",
       "      <td>4</td>\n",
       "    </tr>\n",
       "    <tr>\n",
       "      <th>2</th>\n",
       "      <td>0.231891</td>\n",
       "      <td>0.010111</td>\n",
       "      <td>0.017603</td>\n",
       "      <td>0.007831</td>\n",
       "      <td>gini</td>\n",
       "      <td>4</td>\n",
       "      <td>auto</td>\n",
       "      <td>150</td>\n",
       "      <td>{'rf__criterion': 'gini', 'rf__max_depth': 4, ...</td>\n",
       "      <td>0.9375</td>\n",
       "      <td>0.953125</td>\n",
       "      <td>0.906250</td>\n",
       "      <td>0.859375</td>\n",
       "      <td>0.875</td>\n",
       "      <td>0.906250</td>\n",
       "      <td>0.035630</td>\n",
       "      <td>4</td>\n",
       "    </tr>\n",
       "    <tr>\n",
       "      <th>3</th>\n",
       "      <td>0.071959</td>\n",
       "      <td>0.005058</td>\n",
       "      <td>0.006409</td>\n",
       "      <td>0.006000</td>\n",
       "      <td>gini</td>\n",
       "      <td>4</td>\n",
       "      <td>sqrt</td>\n",
       "      <td>50</td>\n",
       "      <td>{'rf__criterion': 'gini', 'rf__max_depth': 4, ...</td>\n",
       "      <td>0.9375</td>\n",
       "      <td>0.953125</td>\n",
       "      <td>0.921875</td>\n",
       "      <td>0.859375</td>\n",
       "      <td>0.875</td>\n",
       "      <td>0.909375</td>\n",
       "      <td>0.036174</td>\n",
       "      <td>1</td>\n",
       "    </tr>\n",
       "    <tr>\n",
       "      <th>4</th>\n",
       "      <td>0.159934</td>\n",
       "      <td>0.018217</td>\n",
       "      <td>0.011185</td>\n",
       "      <td>0.003926</td>\n",
       "      <td>gini</td>\n",
       "      <td>4</td>\n",
       "      <td>sqrt</td>\n",
       "      <td>100</td>\n",
       "      <td>{'rf__criterion': 'gini', 'rf__max_depth': 4, ...</td>\n",
       "      <td>0.9375</td>\n",
       "      <td>0.953125</td>\n",
       "      <td>0.890625</td>\n",
       "      <td>0.859375</td>\n",
       "      <td>0.875</td>\n",
       "      <td>0.903125</td>\n",
       "      <td>0.036174</td>\n",
       "      <td>18</td>\n",
       "    </tr>\n",
       "  </tbody>\n",
       "</table>\n",
       "</div>"
      ],
      "text/plain": [
       "   mean_fit_time  std_fit_time  mean_score_time  std_score_time  \\\n",
       "0       0.084763      0.014830         0.006398        0.003199   \n",
       "1       0.182335      0.029232         0.007989        0.000005   \n",
       "2       0.231891      0.010111         0.017603        0.007831   \n",
       "3       0.071959      0.005058         0.006409        0.006000   \n",
       "4       0.159934      0.018217         0.011185        0.003926   \n",
       "\n",
       "  param_rf__criterion param_rf__max_depth param_rf__max_features  \\\n",
       "0                gini                   4                   auto   \n",
       "1                gini                   4                   auto   \n",
       "2                gini                   4                   auto   \n",
       "3                gini                   4                   sqrt   \n",
       "4                gini                   4                   sqrt   \n",
       "\n",
       "  param_rf__n_estimators                                             params  \\\n",
       "0                     50  {'rf__criterion': 'gini', 'rf__max_depth': 4, ...   \n",
       "1                    100  {'rf__criterion': 'gini', 'rf__max_depth': 4, ...   \n",
       "2                    150  {'rf__criterion': 'gini', 'rf__max_depth': 4, ...   \n",
       "3                     50  {'rf__criterion': 'gini', 'rf__max_depth': 4, ...   \n",
       "4                    100  {'rf__criterion': 'gini', 'rf__max_depth': 4, ...   \n",
       "\n",
       "   split0_test_score  split1_test_score  split2_test_score  split3_test_score  \\\n",
       "0             0.9375           0.953125           0.921875           0.859375   \n",
       "1             0.9375           0.953125           0.906250           0.859375   \n",
       "2             0.9375           0.953125           0.906250           0.859375   \n",
       "3             0.9375           0.953125           0.921875           0.859375   \n",
       "4             0.9375           0.953125           0.890625           0.859375   \n",
       "\n",
       "   split4_test_score  mean_test_score  std_test_score  rank_test_score  \n",
       "0              0.875         0.909375        0.036174                1  \n",
       "1              0.875         0.906250        0.035630                4  \n",
       "2              0.875         0.906250        0.035630                4  \n",
       "3              0.875         0.909375        0.036174                1  \n",
       "4              0.875         0.903125        0.036174               18  "
      ]
     },
     "execution_count": 56,
     "metadata": {},
     "output_type": "execute_result"
    }
   ],
   "source": [
    "rf_grid_results = pd.DataFrame(rf_grid.cv_results_)\n",
    "rf_grid_results.head()"
   ]
  },
  {
   "cell_type": "code",
   "execution_count": null,
   "metadata": {},
   "outputs": [],
   "source": []
  }
 ],
 "metadata": {
  "kernelspec": {
   "display_name": "Python 3",
   "language": "python",
   "name": "python3"
  },
  "language_info": {
   "codemirror_mode": {
    "name": "ipython",
    "version": 3
   },
   "file_extension": ".py",
   "mimetype": "text/x-python",
   "name": "python",
   "nbconvert_exporter": "python",
   "pygments_lexer": "ipython3",
   "version": "3.8.3"
  }
 },
 "nbformat": 4,
 "nbformat_minor": 4
}
