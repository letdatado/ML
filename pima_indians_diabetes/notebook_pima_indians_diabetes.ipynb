{
 "cells": [
  {
   "cell_type": "markdown",
   "id": "4bd2a330",
   "metadata": {},
   "source": [
    "Thats how it goes like\n",
    "\n",
    "<font color = 'green'>\n",
    "    \n",
    "Step 1: Define Problem.\n",
    "    \n",
    "Step 2: Prepare Data.\n",
    "    \n",
    "Step 3: Evaluate Models.\n",
    "    \n",
    "Step 4: Finalize Model.\n",
    "\n",
    "---\n",
    "## Step 2\n",
    "    \n",
    "- Data Cleaning: Identifying and correcting mistakes or errors in the data.\n",
    "- Feature Selection: Identifying those input variables that are most relevant to the task.\n",
    "- Data Transforms: Changing the scale or distribution of variables.\n",
    "- Feature Engineering: Deriving new variables from available data.\n",
    "- Dimensionality Reduction: Creating compact projections of the data.\n",
    "\n",
    "---\n",
    "\n"
   ]
  },
  {
   "cell_type": "markdown",
   "id": "49c3e7de",
   "metadata": {},
   "source": [
    "# TITLE\n",
    "![d](diabetes.jpg)"
   ]
  },
  {
   "cell_type": "code",
   "execution_count": 1,
   "id": "c6938b61",
   "metadata": {},
   "outputs": [],
   "source": [
    "# Import libraries\n",
    "import numpy as np\n",
    "import pandas as pd\n",
    "import matplotlib.pyplot as plt\n",
    "import seaborn as sns \n",
    "%matplotlib inline"
   ]
  },
  {
   "cell_type": "code",
   "execution_count": 2,
   "id": "01cf7879",
   "metadata": {},
   "outputs": [
    {
     "data": {
      "text/html": [
       "<div>\n",
       "<style scoped>\n",
       "    .dataframe tbody tr th:only-of-type {\n",
       "        vertical-align: middle;\n",
       "    }\n",
       "\n",
       "    .dataframe tbody tr th {\n",
       "        vertical-align: top;\n",
       "    }\n",
       "\n",
       "    .dataframe thead th {\n",
       "        text-align: right;\n",
       "    }\n",
       "</style>\n",
       "<table border=\"1\" class=\"dataframe\">\n",
       "  <thead>\n",
       "    <tr style=\"text-align: right;\">\n",
       "      <th></th>\n",
       "      <th>0</th>\n",
       "      <th>1</th>\n",
       "      <th>2</th>\n",
       "      <th>3</th>\n",
       "      <th>4</th>\n",
       "      <th>5</th>\n",
       "      <th>6</th>\n",
       "      <th>7</th>\n",
       "      <th>8</th>\n",
       "    </tr>\n",
       "  </thead>\n",
       "  <tbody>\n",
       "    <tr>\n",
       "      <th>0</th>\n",
       "      <td>6</td>\n",
       "      <td>148</td>\n",
       "      <td>72</td>\n",
       "      <td>35</td>\n",
       "      <td>0</td>\n",
       "      <td>33.6</td>\n",
       "      <td>0.627</td>\n",
       "      <td>50</td>\n",
       "      <td>1</td>\n",
       "    </tr>\n",
       "    <tr>\n",
       "      <th>1</th>\n",
       "      <td>1</td>\n",
       "      <td>85</td>\n",
       "      <td>66</td>\n",
       "      <td>29</td>\n",
       "      <td>0</td>\n",
       "      <td>26.6</td>\n",
       "      <td>0.351</td>\n",
       "      <td>31</td>\n",
       "      <td>0</td>\n",
       "    </tr>\n",
       "    <tr>\n",
       "      <th>2</th>\n",
       "      <td>8</td>\n",
       "      <td>183</td>\n",
       "      <td>64</td>\n",
       "      <td>0</td>\n",
       "      <td>0</td>\n",
       "      <td>23.3</td>\n",
       "      <td>0.672</td>\n",
       "      <td>32</td>\n",
       "      <td>1</td>\n",
       "    </tr>\n",
       "    <tr>\n",
       "      <th>3</th>\n",
       "      <td>1</td>\n",
       "      <td>89</td>\n",
       "      <td>66</td>\n",
       "      <td>23</td>\n",
       "      <td>94</td>\n",
       "      <td>28.1</td>\n",
       "      <td>0.167</td>\n",
       "      <td>21</td>\n",
       "      <td>0</td>\n",
       "    </tr>\n",
       "    <tr>\n",
       "      <th>4</th>\n",
       "      <td>0</td>\n",
       "      <td>137</td>\n",
       "      <td>40</td>\n",
       "      <td>35</td>\n",
       "      <td>168</td>\n",
       "      <td>43.1</td>\n",
       "      <td>2.288</td>\n",
       "      <td>33</td>\n",
       "      <td>1</td>\n",
       "    </tr>\n",
       "  </tbody>\n",
       "</table>\n",
       "</div>"
      ],
      "text/plain": [
       "   0    1   2   3    4     5      6   7  8\n",
       "0  6  148  72  35    0  33.6  0.627  50  1\n",
       "1  1   85  66  29    0  26.6  0.351  31  0\n",
       "2  8  183  64   0    0  23.3  0.672  32  1\n",
       "3  1   89  66  23   94  28.1  0.167  21  0\n",
       "4  0  137  40  35  168  43.1  2.288  33  1"
      ]
     },
     "execution_count": 2,
     "metadata": {},
     "output_type": "execute_result"
    }
   ],
   "source": [
    "pima = pd.read_csv('pima-indians-diabetes.csv', header=None)\n",
    "pima.head()"
   ]
  },
  {
   "cell_type": "code",
   "execution_count": 3,
   "id": "b884608e",
   "metadata": {},
   "outputs": [
    {
     "data": {
      "text/plain": [
       "0    500\n",
       "1    268\n",
       "Name: 8, dtype: int64"
      ]
     },
     "execution_count": 3,
     "metadata": {},
     "output_type": "execute_result"
    }
   ],
   "source": [
    "pima.iloc[:, -1].value_counts()"
   ]
  },
  {
   "cell_type": "markdown",
   "id": "6e20ca65",
   "metadata": {},
   "source": [
    "- We are definitely into an Imbalanced dataset"
   ]
  },
  {
   "cell_type": "markdown",
   "id": "792dde68",
   "metadata": {},
   "source": [
    "## Data Cleaning"
   ]
  },
  {
   "cell_type": "markdown",
   "id": "cb1092ea",
   "metadata": {},
   "source": [
    "#### Check for Null and Invalid Values "
   ]
  },
  {
   "cell_type": "code",
   "execution_count": 4,
   "id": "efc3ea62",
   "metadata": {},
   "outputs": [
    {
     "data": {
      "text/plain": [
       "False"
      ]
     },
     "execution_count": 4,
     "metadata": {},
     "output_type": "execute_result"
    }
   ],
   "source": [
    "pima.isnull().sum().any()"
   ]
  },
  {
   "cell_type": "code",
   "execution_count": 5,
   "id": "bcc6a94d",
   "metadata": {},
   "outputs": [
    {
     "name": "stdout",
     "output_type": "stream",
     "text": [
      "0     111\n",
      "1     135\n",
      "2     103\n",
      "3      75\n",
      "4      68\n",
      "5      57\n",
      "6      50\n",
      "7      45\n",
      "8      38\n",
      "9      28\n",
      "10     24\n",
      "11     11\n",
      "12      9\n",
      "13     10\n",
      "14      2\n",
      "15      1\n",
      "17      1\n",
      "Name: 0, dtype: int64\n",
      "0      5\n",
      "44     1\n",
      "56     1\n",
      "57     2\n",
      "61     1\n",
      "      ..\n",
      "195    2\n",
      "196    3\n",
      "197    4\n",
      "198    1\n",
      "199    1\n",
      "Name: 1, Length: 136, dtype: int64\n",
      "0      35\n",
      "24      1\n",
      "30      2\n",
      "38      1\n",
      "40      1\n",
      "44      4\n",
      "46      2\n",
      "48      5\n",
      "50     13\n",
      "52     11\n",
      "54     11\n",
      "55      2\n",
      "56     12\n",
      "58     21\n",
      "60     37\n",
      "61      1\n",
      "62     34\n",
      "64     43\n",
      "65      7\n",
      "66     30\n",
      "68     45\n",
      "70     57\n",
      "72     44\n",
      "74     52\n",
      "75      8\n",
      "76     39\n",
      "78     45\n",
      "80     40\n",
      "82     30\n",
      "84     23\n",
      "85      6\n",
      "86     21\n",
      "88     25\n",
      "90     22\n",
      "92      8\n",
      "94      6\n",
      "95      1\n",
      "96      4\n",
      "98      3\n",
      "100     3\n",
      "102     1\n",
      "104     2\n",
      "106     3\n",
      "108     2\n",
      "110     3\n",
      "114     1\n",
      "122     1\n",
      "Name: 2, dtype: int64\n",
      "0     227\n",
      "7       2\n",
      "8       2\n",
      "10      5\n",
      "11      6\n",
      "12      7\n",
      "13     11\n",
      "14      6\n",
      "15     14\n",
      "16      6\n",
      "17     14\n",
      "18     20\n",
      "19     18\n",
      "20     13\n",
      "21     10\n",
      "22     16\n",
      "23     22\n",
      "24     12\n",
      "25     16\n",
      "26     16\n",
      "27     23\n",
      "28     20\n",
      "29     17\n",
      "30     27\n",
      "31     19\n",
      "32     31\n",
      "33     20\n",
      "34      8\n",
      "35     15\n",
      "36     14\n",
      "37     16\n",
      "38      7\n",
      "39     18\n",
      "40     16\n",
      "41     15\n",
      "42     11\n",
      "43      6\n",
      "44      5\n",
      "45      6\n",
      "46      8\n",
      "47      4\n",
      "48      4\n",
      "49      3\n",
      "50      3\n",
      "51      1\n",
      "52      2\n",
      "54      2\n",
      "56      1\n",
      "60      1\n",
      "63      1\n",
      "99      1\n",
      "Name: 3, dtype: int64\n",
      "0      374\n",
      "14       1\n",
      "15       1\n",
      "16       1\n",
      "18       2\n",
      "      ... \n",
      "579      1\n",
      "600      1\n",
      "680      1\n",
      "744      1\n",
      "846      1\n",
      "Name: 4, Length: 186, dtype: int64\n",
      "0.0     11\n",
      "18.2     3\n",
      "18.4     1\n",
      "19.1     1\n",
      "19.3     1\n",
      "        ..\n",
      "53.2     1\n",
      "55.0     1\n",
      "57.3     1\n",
      "59.4     1\n",
      "67.1     1\n",
      "Name: 5, Length: 248, dtype: int64\n",
      "0.078    1\n",
      "0.084    1\n",
      "0.085    2\n",
      "0.088    2\n",
      "0.089    1\n",
      "        ..\n",
      "1.893    1\n",
      "2.137    1\n",
      "2.288    1\n",
      "2.329    1\n",
      "2.420    1\n",
      "Name: 6, Length: 517, dtype: int64\n",
      "21    63\n",
      "22    72\n",
      "23    38\n",
      "24    46\n",
      "25    48\n",
      "26    33\n",
      "27    32\n",
      "28    35\n",
      "29    29\n",
      "30    21\n",
      "31    24\n",
      "32    16\n",
      "33    17\n",
      "34    14\n",
      "35    10\n",
      "36    16\n",
      "37    19\n",
      "38    16\n",
      "39    12\n",
      "40    13\n",
      "41    22\n",
      "42    18\n",
      "43    13\n",
      "44     8\n",
      "45    15\n",
      "46    13\n",
      "47     6\n",
      "48     5\n",
      "49     5\n",
      "50     8\n",
      "51     8\n",
      "52     8\n",
      "53     5\n",
      "54     6\n",
      "55     4\n",
      "56     3\n",
      "57     5\n",
      "58     7\n",
      "59     3\n",
      "60     5\n",
      "61     2\n",
      "62     4\n",
      "63     4\n",
      "64     1\n",
      "65     3\n",
      "66     4\n",
      "67     3\n",
      "68     1\n",
      "69     2\n",
      "70     1\n",
      "72     1\n",
      "81     1\n",
      "Name: 7, dtype: int64\n",
      "0    500\n",
      "1    268\n",
      "Name: 8, dtype: int64\n"
     ]
    }
   ],
   "source": [
    "for col in pima.columns:\n",
    "    print(pima[col].value_counts(dropna=False).sort_index())"
   ]
  },
  {
   "cell_type": "markdown",
   "id": "ba5e73d8",
   "metadata": {},
   "source": [
    "- Utilizing the domain knowledge, We found that the following columns have an invalid zero minimum value:\n",
    "    - Plasma glucose concentration\n",
    "    - Diastolic blood pressur\n",
    "    - Triceps skinfold thickness\n",
    "    - 2-Hour serum insulin\n",
    "    - Body mass index"
   ]
  },
  {
   "cell_type": "markdown",
   "id": "4b1b75c6",
   "metadata": {},
   "source": [
    "Having identified some of the missing values, lets label them correctly with np.nan"
   ]
  },
  {
   "cell_type": "code",
   "execution_count": 6,
   "id": "0d462c77",
   "metadata": {},
   "outputs": [],
   "source": [
    "# Cols with invalid zeros\n",
    "zero_as_nan = pima.iloc[:,[1, 2, 3, 4, 5]]\n",
    "\n",
    "# Replace the cols\n",
    "zero_as_nan = zero_as_nan.replace(0, np.nan)"
   ]
  },
  {
   "cell_type": "code",
   "execution_count": 7,
   "id": "947cff09",
   "metadata": {},
   "outputs": [],
   "source": [
    "# Replace the chunk from df object\n",
    "pima.iloc[:,[1, 2, 3, 4, 5]] = zero_as_nan"
   ]
  },
  {
   "cell_type": "code",
   "execution_count": 8,
   "id": "2ebfaecc",
   "metadata": {},
   "outputs": [
    {
     "name": "stdout",
     "output_type": "stream",
     "text": [
      "<class 'pandas.core.frame.DataFrame'>\n",
      "RangeIndex: 768 entries, 0 to 767\n",
      "Data columns (total 9 columns):\n",
      " #   Column  Non-Null Count  Dtype  \n",
      "---  ------  --------------  -----  \n",
      " 0   0       768 non-null    int64  \n",
      " 1   1       763 non-null    float64\n",
      " 2   2       733 non-null    float64\n",
      " 3   3       541 non-null    float64\n",
      " 4   4       394 non-null    float64\n",
      " 5   5       757 non-null    float64\n",
      " 6   6       768 non-null    float64\n",
      " 7   7       768 non-null    int64  \n",
      " 8   8       768 non-null    int64  \n",
      "dtypes: float64(6), int64(3)\n",
      "memory usage: 54.1 KB\n"
     ]
    }
   ],
   "source": [
    "pima.info()"
   ]
  },
  {
   "cell_type": "code",
   "execution_count": 9,
   "id": "14f7f163",
   "metadata": {},
   "outputs": [
    {
     "data": {
      "image/png": "[encoded data removed]",
      "text/plain": [
       "<Figure size 1080x576 with 2 Axes>"
      ]
     },
     "metadata": {
      "needs_background": "light"
     },
     "output_type": "display_data"
    }
   ],
   "source": [
    "plt.figure(figsize=(15,8))\n",
    "sns.heatmap(pima.isnull().transpose(),\n",
    "            cmap='YlGnBu',\n",
    "            cbar_kws={'label': 'Missing Data'})\n",
    "plt.xlabel('Samples', fontsize=12)\n",
    "plt.ylabel('Features', fontsize=12)\n",
    "plt.title('Missing Values as NaN', fontsize=20, weight='bold',c='grey')\n",
    "plt.show()"
   ]
  },
  {
   "cell_type": "markdown",
   "id": "39bcbbf3",
   "metadata": {},
   "source": [
    "Lets consider the easiest solution, drop all samples with nans and compute the accuracy"
   ]
  },
  {
   "cell_type": "code",
   "execution_count": 10,
   "id": "0e0cad27",
   "metadata": {},
   "outputs": [
    {
     "name": "stdout",
     "output_type": "stream",
     "text": [
      "Shape of dataset before dropping all the samples with NaN: (768, 9)\n",
      "Shape of dataset after dropping all the samples with NaNs: (392, 9)\n"
     ]
    }
   ],
   "source": [
    "print('Shape of dataset before dropping all the samples with NaN:', pima.shape)\n",
    "\n",
    "pima_zeronull = pima.dropna()\n",
    "print('Shape of dataset after dropping all the samples with NaNs:', pima_zeronull.shape)"
   ]
  },
  {
   "cell_type": "markdown",
   "id": "794ad0af",
   "metadata": {},
   "source": [
    "- There is clearly a heavy loss of data. More than half of the samples wiped off"
   ]
  },
  {
   "cell_type": "code",
   "execution_count": 11,
   "id": "b0caee61",
   "metadata": {},
   "outputs": [],
   "source": [
    "# import libraries\n",
    "from sklearn.discriminant_analysis import LinearDiscriminantAnalysis\n",
    "from sklearn.model_selection import KFold\n",
    "from sklearn.model_selection import cross_val_score"
   ]
  },
  {
   "cell_type": "code",
   "execution_count": 12,
   "id": "44560a12",
   "metadata": {},
   "outputs": [
    {
     "name": "stdout",
     "output_type": "stream",
     "text": [
      "0.7832051282051282\n"
     ]
    }
   ],
   "source": [
    "data = pima_zeronull.values\n",
    "X = data[:,:-1]\n",
    "y = data[:, -1]\n",
    "# Instantiate the Algo\n",
    "lda = LinearDiscriminantAnalysis()\n",
    "# Define the evaluation procedure\n",
    "cv = KFold(n_splits=10, shuffle=True, random_state=1)\n",
    "# Evaluate the model\n",
    "result = cross_val_score(lda, X, y, cv=cv, scoring='accuracy')\n",
    "# print the results\n",
    "print(np.mean(result))"
   ]
  },
  {
   "cell_type": "code",
   "execution_count": 13,
   "id": "b64a6b0e",
   "metadata": {},
   "outputs": [
    {
     "data": {
      "text/plain": [
       "(array([0., 1.]), array([262, 130], dtype=int64))"
      ]
     },
     "execution_count": 13,
     "metadata": {},
     "output_type": "execute_result"
    }
   ],
   "source": [
    "np.unique(y, return_counts=True)"
   ]
  },
  {
   "cell_type": "markdown",
   "id": "1b06c786",
   "metadata": {},
   "source": [
    "- This clarfies that the reduction in dataset for the null values has not helped reduce the class imbalance!"
   ]
  },
  {
   "cell_type": "markdown",
   "id": "512337f7",
   "metadata": {},
   "source": [
    "<font color = 'red'> From this point, no further procedure in the book on this dataset "
   ]
  },
  {
   "cell_type": "code",
   "execution_count": null,
   "id": "e6557575",
   "metadata": {},
   "outputs": [],
   "source": []
  }
 ],
 "metadata": {
  "kernelspec": {
   "display_name": "Python 3 (ipykernel)",
   "language": "python",
   "name": "python3"
  },
  "language_info": {
   "codemirror_mode": {
    "name": "ipython",
    "version": 3
   },
   "file_extension": ".py",
   "mimetype": "text/x-python",
   "name": "python",
   "nbconvert_exporter": "python",
   "pygments_lexer": "ipython3",
   "version": "3.9.7"
  }
 },
 "nbformat": 4,
 "nbformat_minor": 5
}
