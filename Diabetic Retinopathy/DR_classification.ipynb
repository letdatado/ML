{
 "cells": [
  {
   "cell_type": "markdown",
   "id": "2d663ee2",
   "metadata": {},
   "source": [
    "# Investigation of the problem of detection of Diabetic Retinopathy using Machine Learning\n",
    "![DR](DR.png)\n",
    "\n",
    "\n",
    "\n",
    "\n",
    "## Introduction:\n",
    "Diabetic retinopathy (DR) is a consequence of diabetes which manifests itself in the retina. DR is a major cause of visual impairment globally. In 2011, 366 million people were diagnosed with diabetes and a further 280 million people were at risk of developing it. Approximately 40% of diabetic patients suffer from DR. \n",
    "\n",
    "## Resources: \n",
    "The dataset can be found [here](http://archive.ics.uci.edu/ml/datasets/Diabetic+Retinopathy+Debrecen+Data+Set)\n",
    "\n",
    "I took the title image from [here](https://www.ophthalytics.com/wp-content/uploads/2021/08/Copy-of-WEBSITE-CONTENT-1536x878.png)\n",
    "\n",
    "### Attributes:\n",
    "- (0) The binary result of quality assessment. 0 = bad quality 1 = sufficient quality.\n",
    "- (1) The binary result of pre-screening, where 1 indicates severe retinal abnormality and 0 its lack.\n",
    "- (2-7) The results of MA detection. Each feature value stand for the number of MAs found at the confidence levels alpha = 0.5, . . . , 1, respectively.\n",
    "- (8-15) contain the same information as 2-7) for exudates. However, as exudates are represented by a set of points rather than the number of pixels constructing the lesions, these features are normalized by dividing the number of lesions with the diameter of the ROI to compensate different image sizes.\n",
    "- (16) The euclidean distance of the center of the macula and the center of the optic disc to provide important information regarding the patients' condition. This feature is also normalized with the diameter of the ROI.\n",
    "- (17) The diameter of the optic disc.\n",
    "- (18) The binary result of the AM/FM-based classification.\n",
    "- (19) Class label. 1 = contains signs of DR (Accumulative label for the Messidor classes 1, 2, 3), 0 = no signs of DR.\n",
    "\n",
    "## Aim\n",
    "- To produce a machine learning system for the detection of signs of DR. The system will be  trained and tested on The Diabetic Retinopathy Debrecen Data Set Data Set. \n",
    "- To write a research report on the background, rationale, development, implementation, evaluation and conclusions of your machine learning system. \n",
    "\n",
    "## Problem Statement:\n",
    "Machine Learning has the potential to support the development of innovative solutions for improved real-life and real-time healthcare delivery. For this coursework, your aim is to investigate the problem of detection of DR using machine learning. In doing so, you would be expected to perform the following tasks:\n",
    "- Investigate the Diabetic Retinopathy Debrecen Dataset, and develop basic understanding of the significance and meaning of data attributes and features\n",
    "- Develop pre-processing and/or feature extraction techniques (if needed)\n",
    "- Develop and Implement (using Python or Matlab) a machine learning system that can be implemented to demonstrate your ideas \n",
    "- Demonstrate the feasibility of your design by evaluating your system using machine learning metrics\n",
    "- Discuss your findings making recommendations for further investigation and improved implementation.\n",
    "Write a 1000 words report to present your work and findings\n",
    "\n",
    "\n",
    "---"
   ]
  },
  {
   "cell_type": "code",
   "execution_count": 1,
   "id": "edff35d6",
   "metadata": {},
   "outputs": [],
   "source": [
    "# Importing general purpose Libraries\n",
    "import numpy as np\n",
    "import pandas as pd\n",
    "import matplotlib.pyplot as plt\n",
    "import seaborn as sns\n",
    "%matplotlib inline\n",
    "\n",
    "# Importing ML libraries\n",
    "from sklearn.model_selection import train_test_split, cross_val_score, RepeatedStratifiedKFold\n",
    "from sklearn.preprocessing import MinMaxScaler, StandardScaler, RobustScaler, Normalizer, PowerTransformer, QuantileTransformer\n",
    "from sklearn.pipeline import Pipeline, make_pipeline\n",
    "from sklearn.feature_selection import VarianceThreshold\n",
    "from sklearn.metrics import classification_report, confusion_matrix, plot_confusion_matrix, accuracy_score,precision_recall_fscore_support\n",
    "from sklearn.neighbors import KNeighborsClassifier,LocalOutlierFactor\n",
    "from sklearn.linear_model import LogisticRegression \n",
    "from sklearn.svm import LinearSVC                   \n",
    "from sklearn.naive_bayes import GaussianNB\n",
    "from sklearn.ensemble import RandomForestClassifier, IsolationForest\n",
    "from sklearn.svm import OneClassSVM\n",
    "from sklearn.feature_selection import RFE, RFECV\n",
    "from statsmodels.stats.outliers_influence import variance_inflation_factor\n",
    "from sklearn.decomposition import PCA, TruncatedSVD\n",
    "from sklearn.metrics import confusion_matrix"
   ]
  },
  {
   "cell_type": "code",
   "execution_count": 2,
   "id": "067bb65d",
   "metadata": {},
   "outputs": [
    {
     "data": {
      "text/html": [
       "<div>\n",
       "<style scoped>\n",
       "    .dataframe tbody tr th:only-of-type {\n",
       "        vertical-align: middle;\n",
       "    }\n",
       "\n",
       "    .dataframe tbody tr th {\n",
       "        vertical-align: top;\n",
       "    }\n",
       "\n",
       "    .dataframe thead th {\n",
       "        text-align: right;\n",
       "    }\n",
       "</style>\n",
       "<table border=\"1\" class=\"dataframe\">\n",
       "  <thead>\n",
       "    <tr style=\"text-align: right;\">\n",
       "      <th></th>\n",
       "      <th>A</th>\n",
       "      <th>B</th>\n",
       "      <th>C</th>\n",
       "      <th>D</th>\n",
       "      <th>E</th>\n",
       "      <th>F</th>\n",
       "      <th>G</th>\n",
       "      <th>H</th>\n",
       "      <th>I</th>\n",
       "      <th>J</th>\n",
       "      <th>K</th>\n",
       "      <th>L</th>\n",
       "      <th>M</th>\n",
       "      <th>N</th>\n",
       "      <th>O</th>\n",
       "      <th>P</th>\n",
       "      <th>Q</th>\n",
       "      <th>R</th>\n",
       "      <th>S</th>\n",
       "      <th>T</th>\n",
       "    </tr>\n",
       "  </thead>\n",
       "  <tbody>\n",
       "    <tr>\n",
       "      <th>0</th>\n",
       "      <td>1</td>\n",
       "      <td>1</td>\n",
       "      <td>22</td>\n",
       "      <td>22</td>\n",
       "      <td>22</td>\n",
       "      <td>19</td>\n",
       "      <td>18</td>\n",
       "      <td>14</td>\n",
       "      <td>49.895756</td>\n",
       "      <td>17.775994</td>\n",
       "      <td>5.270920</td>\n",
       "      <td>0.771761</td>\n",
       "      <td>0.018632</td>\n",
       "      <td>0.006864</td>\n",
       "      <td>0.003923</td>\n",
       "      <td>0.003923</td>\n",
       "      <td>0.486903</td>\n",
       "      <td>0.100025</td>\n",
       "      <td>1</td>\n",
       "      <td>0</td>\n",
       "    </tr>\n",
       "    <tr>\n",
       "      <th>1</th>\n",
       "      <td>1</td>\n",
       "      <td>1</td>\n",
       "      <td>24</td>\n",
       "      <td>24</td>\n",
       "      <td>22</td>\n",
       "      <td>18</td>\n",
       "      <td>16</td>\n",
       "      <td>13</td>\n",
       "      <td>57.709936</td>\n",
       "      <td>23.799994</td>\n",
       "      <td>3.325423</td>\n",
       "      <td>0.234185</td>\n",
       "      <td>0.003903</td>\n",
       "      <td>0.003903</td>\n",
       "      <td>0.003903</td>\n",
       "      <td>0.003903</td>\n",
       "      <td>0.520908</td>\n",
       "      <td>0.144414</td>\n",
       "      <td>0</td>\n",
       "      <td>0</td>\n",
       "    </tr>\n",
       "    <tr>\n",
       "      <th>2</th>\n",
       "      <td>1</td>\n",
       "      <td>1</td>\n",
       "      <td>62</td>\n",
       "      <td>60</td>\n",
       "      <td>59</td>\n",
       "      <td>54</td>\n",
       "      <td>47</td>\n",
       "      <td>33</td>\n",
       "      <td>55.831441</td>\n",
       "      <td>27.993933</td>\n",
       "      <td>12.687485</td>\n",
       "      <td>4.852282</td>\n",
       "      <td>1.393889</td>\n",
       "      <td>0.373252</td>\n",
       "      <td>0.041817</td>\n",
       "      <td>0.007744</td>\n",
       "      <td>0.530904</td>\n",
       "      <td>0.128548</td>\n",
       "      <td>0</td>\n",
       "      <td>1</td>\n",
       "    </tr>\n",
       "    <tr>\n",
       "      <th>3</th>\n",
       "      <td>1</td>\n",
       "      <td>1</td>\n",
       "      <td>55</td>\n",
       "      <td>53</td>\n",
       "      <td>53</td>\n",
       "      <td>50</td>\n",
       "      <td>43</td>\n",
       "      <td>31</td>\n",
       "      <td>40.467228</td>\n",
       "      <td>18.445954</td>\n",
       "      <td>9.118901</td>\n",
       "      <td>3.079428</td>\n",
       "      <td>0.840261</td>\n",
       "      <td>0.272434</td>\n",
       "      <td>0.007653</td>\n",
       "      <td>0.001531</td>\n",
       "      <td>0.483284</td>\n",
       "      <td>0.114790</td>\n",
       "      <td>0</td>\n",
       "      <td>0</td>\n",
       "    </tr>\n",
       "    <tr>\n",
       "      <th>4</th>\n",
       "      <td>1</td>\n",
       "      <td>1</td>\n",
       "      <td>44</td>\n",
       "      <td>44</td>\n",
       "      <td>44</td>\n",
       "      <td>41</td>\n",
       "      <td>39</td>\n",
       "      <td>27</td>\n",
       "      <td>18.026254</td>\n",
       "      <td>8.570709</td>\n",
       "      <td>0.410381</td>\n",
       "      <td>0.000000</td>\n",
       "      <td>0.000000</td>\n",
       "      <td>0.000000</td>\n",
       "      <td>0.000000</td>\n",
       "      <td>0.000000</td>\n",
       "      <td>0.475935</td>\n",
       "      <td>0.123572</td>\n",
       "      <td>0</td>\n",
       "      <td>1</td>\n",
       "    </tr>\n",
       "  </tbody>\n",
       "</table>\n",
       "</div>"
      ],
      "text/plain": [
       "   A  B   C   D   E   F   G   H          I          J          K         L  \\\n",
       "0  1  1  22  22  22  19  18  14  49.895756  17.775994   5.270920  0.771761   \n",
       "1  1  1  24  24  22  18  16  13  57.709936  23.799994   3.325423  0.234185   \n",
       "2  1  1  62  60  59  54  47  33  55.831441  27.993933  12.687485  4.852282   \n",
       "3  1  1  55  53  53  50  43  31  40.467228  18.445954   9.118901  3.079428   \n",
       "4  1  1  44  44  44  41  39  27  18.026254   8.570709   0.410381  0.000000   \n",
       "\n",
       "          M         N         O         P         Q         R  S  T  \n",
       "0  0.018632  0.006864  0.003923  0.003923  0.486903  0.100025  1  0  \n",
       "1  0.003903  0.003903  0.003903  0.003903  0.520908  0.144414  0  0  \n",
       "2  1.393889  0.373252  0.041817  0.007744  0.530904  0.128548  0  1  \n",
       "3  0.840261  0.272434  0.007653  0.001531  0.483284  0.114790  0  0  \n",
       "4  0.000000  0.000000  0.000000  0.000000  0.475935  0.123572  0  1  "
      ]
     },
     "execution_count": 2,
     "metadata": {},
     "output_type": "execute_result"
    }
   ],
   "source": [
    "# Reading in the dataset\n",
    "data = pd.read_csv('data.csv')\n",
    "data.head()"
   ]
  },
  {
   "cell_type": "markdown",
   "id": "c1d367fb",
   "metadata": {},
   "source": [
    "---\n",
    "## Data Exploration\n",
    "*Investigate the Diabetic Retinopathy Debrecen Dataset, and develop basic understanding of the significance and meaning of data attributes and features*"
   ]
  },
  {
   "cell_type": "code",
   "execution_count": 3,
   "id": "58a14d81",
   "metadata": {},
   "outputs": [
    {
     "data": {
      "text/plain": [
       "(1150, 20)"
      ]
     },
     "execution_count": 3,
     "metadata": {},
     "output_type": "execute_result"
    }
   ],
   "source": [
    "# shape of the data\n",
    "data.shape"
   ]
  },
  {
   "cell_type": "code",
   "execution_count": 4,
   "id": "67b37df4",
   "metadata": {},
   "outputs": [
    {
     "name": "stdout",
     "output_type": "stream",
     "text": [
      "Column T, our target variable\n"
     ]
    },
    {
     "data": {
      "text/plain": [
       "1    611\n",
       "0    539\n",
       "Name: T, dtype: int64"
      ]
     },
     "execution_count": 4,
     "metadata": {},
     "output_type": "execute_result"
    }
   ],
   "source": [
    "# Frequency table against the target variable\n",
    "print('Column T, our target variable')\n",
    "data['T'].value_counts()"
   ]
  },
  {
   "cell_type": "code",
   "execution_count": 5,
   "id": "961889f3",
   "metadata": {},
   "outputs": [
    {
     "name": "stdout",
     "output_type": "stream",
     "text": [
      "<class 'pandas.core.frame.DataFrame'>\n",
      "RangeIndex: 1150 entries, 0 to 1149\n",
      "Data columns (total 20 columns):\n",
      " #   Column  Non-Null Count  Dtype  \n",
      "---  ------  --------------  -----  \n",
      " 0   A       1150 non-null   int64  \n",
      " 1   B       1150 non-null   int64  \n",
      " 2   C       1150 non-null   int64  \n",
      " 3   D       1150 non-null   int64  \n",
      " 4   E       1150 non-null   int64  \n",
      " 5   F       1150 non-null   int64  \n",
      " 6   G       1150 non-null   int64  \n",
      " 7   H       1150 non-null   int64  \n",
      " 8   I       1150 non-null   float64\n",
      " 9   J       1150 non-null   float64\n",
      " 10  K       1150 non-null   float64\n",
      " 11  L       1150 non-null   float64\n",
      " 12  M       1150 non-null   float64\n",
      " 13  N       1150 non-null   float64\n",
      " 14  O       1150 non-null   float64\n",
      " 15  P       1150 non-null   float64\n",
      " 16  Q       1150 non-null   float64\n",
      " 17  R       1150 non-null   float64\n",
      " 18  S       1150 non-null   int64  \n",
      " 19  T       1150 non-null   int64  \n",
      "dtypes: float64(10), int64(10)\n",
      "memory usage: 179.8 KB\n"
     ]
    }
   ],
   "source": [
    "# Information about columns\n",
    "data.info()"
   ]
  },
  {
   "cell_type": "code",
   "execution_count": 6,
   "id": "af2cb0ca",
   "metadata": {},
   "outputs": [
    {
     "data": {
      "text/html": [
       "<div>\n",
       "<style scoped>\n",
       "    .dataframe tbody tr th:only-of-type {\n",
       "        vertical-align: middle;\n",
       "    }\n",
       "\n",
       "    .dataframe tbody tr th {\n",
       "        vertical-align: top;\n",
       "    }\n",
       "\n",
       "    .dataframe thead th {\n",
       "        text-align: right;\n",
       "    }\n",
       "</style>\n",
       "<table border=\"1\" class=\"dataframe\">\n",
       "  <thead>\n",
       "    <tr style=\"text-align: right;\">\n",
       "      <th></th>\n",
       "      <th>A</th>\n",
       "      <th>B</th>\n",
       "      <th>C</th>\n",
       "      <th>D</th>\n",
       "      <th>E</th>\n",
       "      <th>F</th>\n",
       "      <th>G</th>\n",
       "      <th>H</th>\n",
       "      <th>I</th>\n",
       "      <th>J</th>\n",
       "      <th>K</th>\n",
       "      <th>L</th>\n",
       "      <th>M</th>\n",
       "      <th>N</th>\n",
       "      <th>O</th>\n",
       "      <th>P</th>\n",
       "      <th>Q</th>\n",
       "      <th>R</th>\n",
       "      <th>S</th>\n",
       "      <th>T</th>\n",
       "    </tr>\n",
       "  </thead>\n",
       "  <tbody>\n",
       "    <tr>\n",
       "      <th>count</th>\n",
       "      <td>1150.000000</td>\n",
       "      <td>1150.000000</td>\n",
       "      <td>1150.000000</td>\n",
       "      <td>1150.000000</td>\n",
       "      <td>1150.000000</td>\n",
       "      <td>1150.000000</td>\n",
       "      <td>1150.000000</td>\n",
       "      <td>1150.000000</td>\n",
       "      <td>1150.000000</td>\n",
       "      <td>1150.000000</td>\n",
       "      <td>1150.000000</td>\n",
       "      <td>1150.000000</td>\n",
       "      <td>1150.000000</td>\n",
       "      <td>1150.000000</td>\n",
       "      <td>1150.000000</td>\n",
       "      <td>1150.000000</td>\n",
       "      <td>1150.000000</td>\n",
       "      <td>1150.000000</td>\n",
       "      <td>1150.000000</td>\n",
       "      <td>1150.000000</td>\n",
       "    </tr>\n",
       "    <tr>\n",
       "      <th>mean</th>\n",
       "      <td>0.996522</td>\n",
       "      <td>0.918261</td>\n",
       "      <td>38.455652</td>\n",
       "      <td>36.935652</td>\n",
       "      <td>35.165217</td>\n",
       "      <td>32.319130</td>\n",
       "      <td>28.766087</td>\n",
       "      <td>21.165217</td>\n",
       "      <td>64.092042</td>\n",
       "      <td>23.101974</td>\n",
       "      <td>8.710657</td>\n",
       "      <td>1.838046</td>\n",
       "      <td>0.561207</td>\n",
       "      <td>0.212467</td>\n",
       "      <td>0.085749</td>\n",
       "      <td>0.037258</td>\n",
       "      <td>0.523184</td>\n",
       "      <td>0.108448</td>\n",
       "      <td>0.336522</td>\n",
       "      <td>0.531304</td>\n",
       "    </tr>\n",
       "    <tr>\n",
       "      <th>std</th>\n",
       "      <td>0.058900</td>\n",
       "      <td>0.274086</td>\n",
       "      <td>25.615270</td>\n",
       "      <td>24.099938</td>\n",
       "      <td>22.800199</td>\n",
       "      <td>21.110754</td>\n",
       "      <td>19.507158</td>\n",
       "      <td>15.100609</td>\n",
       "      <td>58.510523</td>\n",
       "      <td>21.606898</td>\n",
       "      <td>11.570802</td>\n",
       "      <td>3.924575</td>\n",
       "      <td>2.485141</td>\n",
       "      <td>1.057569</td>\n",
       "      <td>0.398883</td>\n",
       "      <td>0.179033</td>\n",
       "      <td>0.028051</td>\n",
       "      <td>0.017943</td>\n",
       "      <td>0.472725</td>\n",
       "      <td>0.499236</td>\n",
       "    </tr>\n",
       "    <tr>\n",
       "      <th>min</th>\n",
       "      <td>0.000000</td>\n",
       "      <td>0.000000</td>\n",
       "      <td>1.000000</td>\n",
       "      <td>1.000000</td>\n",
       "      <td>1.000000</td>\n",
       "      <td>1.000000</td>\n",
       "      <td>1.000000</td>\n",
       "      <td>1.000000</td>\n",
       "      <td>0.349274</td>\n",
       "      <td>0.000000</td>\n",
       "      <td>0.000000</td>\n",
       "      <td>0.000000</td>\n",
       "      <td>0.000000</td>\n",
       "      <td>0.000000</td>\n",
       "      <td>0.000000</td>\n",
       "      <td>0.000000</td>\n",
       "      <td>0.367762</td>\n",
       "      <td>0.057906</td>\n",
       "      <td>0.000000</td>\n",
       "      <td>0.000000</td>\n",
       "    </tr>\n",
       "    <tr>\n",
       "      <th>25%</th>\n",
       "      <td>1.000000</td>\n",
       "      <td>1.000000</td>\n",
       "      <td>16.000000</td>\n",
       "      <td>16.000000</td>\n",
       "      <td>15.000000</td>\n",
       "      <td>14.000000</td>\n",
       "      <td>11.000000</td>\n",
       "      <td>8.000000</td>\n",
       "      <td>22.268987</td>\n",
       "      <td>7.944090</td>\n",
       "      <td>1.242384</td>\n",
       "      <td>0.081871</td>\n",
       "      <td>0.000000</td>\n",
       "      <td>0.000000</td>\n",
       "      <td>0.000000</td>\n",
       "      <td>0.000000</td>\n",
       "      <td>0.502843</td>\n",
       "      <td>0.095824</td>\n",
       "      <td>0.000000</td>\n",
       "      <td>0.000000</td>\n",
       "    </tr>\n",
       "    <tr>\n",
       "      <th>50%</th>\n",
       "      <td>1.000000</td>\n",
       "      <td>1.000000</td>\n",
       "      <td>35.000000</td>\n",
       "      <td>35.000000</td>\n",
       "      <td>32.000000</td>\n",
       "      <td>29.000000</td>\n",
       "      <td>25.000000</td>\n",
       "      <td>18.000000</td>\n",
       "      <td>44.233267</td>\n",
       "      <td>17.041567</td>\n",
       "      <td>4.433600</td>\n",
       "      <td>0.484892</td>\n",
       "      <td>0.022323</td>\n",
       "      <td>0.001551</td>\n",
       "      <td>0.000000</td>\n",
       "      <td>0.000000</td>\n",
       "      <td>0.523277</td>\n",
       "      <td>0.106624</td>\n",
       "      <td>0.000000</td>\n",
       "      <td>1.000000</td>\n",
       "    </tr>\n",
       "    <tr>\n",
       "      <th>75%</th>\n",
       "      <td>1.000000</td>\n",
       "      <td>1.000000</td>\n",
       "      <td>55.000000</td>\n",
       "      <td>53.000000</td>\n",
       "      <td>51.000000</td>\n",
       "      <td>48.000000</td>\n",
       "      <td>43.000000</td>\n",
       "      <td>32.000000</td>\n",
       "      <td>87.839132</td>\n",
       "      <td>31.310584</td>\n",
       "      <td>11.775557</td>\n",
       "      <td>1.925969</td>\n",
       "      <td>0.192363</td>\n",
       "      <td>0.038503</td>\n",
       "      <td>0.004834</td>\n",
       "      <td>0.003851</td>\n",
       "      <td>0.543583</td>\n",
       "      <td>0.119633</td>\n",
       "      <td>1.000000</td>\n",
       "      <td>1.000000</td>\n",
       "    </tr>\n",
       "    <tr>\n",
       "      <th>max</th>\n",
       "      <td>1.000000</td>\n",
       "      <td>1.000000</td>\n",
       "      <td>151.000000</td>\n",
       "      <td>132.000000</td>\n",
       "      <td>120.000000</td>\n",
       "      <td>105.000000</td>\n",
       "      <td>97.000000</td>\n",
       "      <td>89.000000</td>\n",
       "      <td>403.939108</td>\n",
       "      <td>167.131427</td>\n",
       "      <td>106.070092</td>\n",
       "      <td>59.766121</td>\n",
       "      <td>51.423208</td>\n",
       "      <td>20.098605</td>\n",
       "      <td>5.937799</td>\n",
       "      <td>3.086753</td>\n",
       "      <td>0.592217</td>\n",
       "      <td>0.219199</td>\n",
       "      <td>1.000000</td>\n",
       "      <td>1.000000</td>\n",
       "    </tr>\n",
       "  </tbody>\n",
       "</table>\n",
       "</div>"
      ],
      "text/plain": [
       "                 A            B            C            D            E  \\\n",
       "count  1150.000000  1150.000000  1150.000000  1150.000000  1150.000000   \n",
       "mean      0.996522     0.918261    38.455652    36.935652    35.165217   \n",
       "std       0.058900     0.274086    25.615270    24.099938    22.800199   \n",
       "min       0.000000     0.000000     1.000000     1.000000     1.000000   \n",
       "25%       1.000000     1.000000    16.000000    16.000000    15.000000   \n",
       "50%       1.000000     1.000000    35.000000    35.000000    32.000000   \n",
       "75%       1.000000     1.000000    55.000000    53.000000    51.000000   \n",
       "max       1.000000     1.000000   151.000000   132.000000   120.000000   \n",
       "\n",
       "                 F            G            H            I            J  \\\n",
       "count  1150.000000  1150.000000  1150.000000  1150.000000  1150.000000   \n",
       "mean     32.319130    28.766087    21.165217    64.092042    23.101974   \n",
       "std      21.110754    19.507158    15.100609    58.510523    21.606898   \n",
       "min       1.000000     1.000000     1.000000     0.349274     0.000000   \n",
       "25%      14.000000    11.000000     8.000000    22.268987     7.944090   \n",
       "50%      29.000000    25.000000    18.000000    44.233267    17.041567   \n",
       "75%      48.000000    43.000000    32.000000    87.839132    31.310584   \n",
       "max     105.000000    97.000000    89.000000   403.939108   167.131427   \n",
       "\n",
       "                 K            L            M            N            O  \\\n",
       "count  1150.000000  1150.000000  1150.000000  1150.000000  1150.000000   \n",
       "mean      8.710657     1.838046     0.561207     0.212467     0.085749   \n",
       "std      11.570802     3.924575     2.485141     1.057569     0.398883   \n",
       "min       0.000000     0.000000     0.000000     0.000000     0.000000   \n",
       "25%       1.242384     0.081871     0.000000     0.000000     0.000000   \n",
       "50%       4.433600     0.484892     0.022323     0.001551     0.000000   \n",
       "75%      11.775557     1.925969     0.192363     0.038503     0.004834   \n",
       "max     106.070092    59.766121    51.423208    20.098605     5.937799   \n",
       "\n",
       "                 P            Q            R            S            T  \n",
       "count  1150.000000  1150.000000  1150.000000  1150.000000  1150.000000  \n",
       "mean      0.037258     0.523184     0.108448     0.336522     0.531304  \n",
       "std       0.179033     0.028051     0.017943     0.472725     0.499236  \n",
       "min       0.000000     0.367762     0.057906     0.000000     0.000000  \n",
       "25%       0.000000     0.502843     0.095824     0.000000     0.000000  \n",
       "50%       0.000000     0.523277     0.106624     0.000000     1.000000  \n",
       "75%       0.003851     0.543583     0.119633     1.000000     1.000000  \n",
       "max       3.086753     0.592217     0.219199     1.000000     1.000000  "
      ]
     },
     "execution_count": 6,
     "metadata": {},
     "output_type": "execute_result"
    }
   ],
   "source": [
    "# Summary Statistics\n",
    "data.describe()"
   ]
  },
  {
   "cell_type": "code",
   "execution_count": 7,
   "id": "d6526da6",
   "metadata": {},
   "outputs": [
    {
     "name": "stdout",
     "output_type": "stream",
     "text": [
      "1    1146\n",
      "0       4\n",
      "Name: A, dtype: int64\n",
      "1    1056\n",
      "0      94\n",
      "Name: B, dtype: int64\n",
      "16     37\n",
      "12     29\n",
      "17     27\n",
      "19     26\n",
      "15     24\n",
      "       ..\n",
      "126     1\n",
      "101     1\n",
      "93      1\n",
      "83      1\n",
      "147     1\n",
      "Name: C, Length: 110, dtype: int64\n",
      "15     35\n",
      "16     28\n",
      "13     27\n",
      "14     26\n",
      "12     26\n",
      "       ..\n",
      "131     1\n",
      "92      1\n",
      "110     1\n",
      "130     1\n",
      "132     1\n",
      "Name: D, Length: 104, dtype: int64\n",
      "13     39\n",
      "16     30\n",
      "9      26\n",
      "11     26\n",
      "12     26\n",
      "       ..\n",
      "80      1\n",
      "98      1\n",
      "100     1\n",
      "93      1\n",
      "113     1\n",
      "Name: E, Length: 99, dtype: int64\n",
      "11    36\n",
      "9     33\n",
      "13    32\n",
      "12    31\n",
      "14    30\n",
      "      ..\n",
      "89     1\n",
      "94     1\n",
      "98     1\n",
      "92     1\n",
      "82     1\n",
      "Name: F, Length: 91, dtype: int64\n",
      "11    41\n",
      "10    41\n",
      "12    35\n",
      "8     32\n",
      "7     32\n",
      "      ..\n",
      "76     1\n",
      "79     1\n",
      "86     1\n",
      "75     1\n",
      "97     1\n",
      "Name: G, Length: 84, dtype: int64\n",
      "9     55\n",
      "8     54\n",
      "5     51\n",
      "6     43\n",
      "4     43\n",
      "      ..\n",
      "89     1\n",
      "56     1\n",
      "77     1\n",
      "65     1\n",
      "68     1\n",
      "Name: H, Length: 69, dtype: int64\n",
      "26.723328    2\n",
      "6.193941     2\n",
      "26.347993    2\n",
      "15.871188    2\n",
      "66.751648    2\n",
      "            ..\n",
      "17.806279    1\n",
      "72.129520    1\n",
      "15.491090    1\n",
      "54.611185    1\n",
      "40.525739    1\n",
      "Name: I, Length: 1140, dtype: int64\n",
      "14.492224    2\n",
      "1.625616     2\n",
      "13.666809    2\n",
      "3.694036     2\n",
      "32.166708    2\n",
      "            ..\n",
      "8.705123     1\n",
      "33.867700    1\n",
      "4.974087     1\n",
      "27.765696    1\n",
      "12.604947    1\n",
      "Name: J, Length: 1140, dtype: int64\n",
      "0.000000     12\n",
      "1.467007      2\n",
      "0.903438      2\n",
      "2.523529      2\n",
      "2.556415      2\n",
      "             ..\n",
      "0.935407      1\n",
      "12.301626     1\n",
      "3.564530      1\n",
      "0.091673      1\n",
      "4.740919      1\n",
      "Name: K, Length: 1129, dtype: int64\n",
      "0.000000    111\n",
      "1.326130      2\n",
      "0.129273      2\n",
      "0.192468      2\n",
      "2.175708      2\n",
      "           ... \n",
      "7.571765      1\n",
      "1.346498      1\n",
      "0.009323      1\n",
      "0.673435      1\n",
      "1.077570      1\n",
      "Name: L, Length: 1031, dtype: int64\n",
      "0.000000    333\n",
      "0.001521      3\n",
      "0.006155      2\n",
      "0.040814      2\n",
      "0.558174      2\n",
      "           ... \n",
      "0.116819      1\n",
      "0.016836      1\n",
      "8.310988      1\n",
      "3.106912      1\n",
      "0.563518      1\n",
      "Name: M, Length: 794, dtype: int64\n",
      "0.000000    536\n",
      "0.003909      4\n",
      "0.001017      4\n",
      "0.012324      3\n",
      "0.001914      3\n",
      "           ... \n",
      "1.239964      1\n",
      "3.766077      1\n",
      "0.001531      1\n",
      "0.039965      1\n",
      "0.326860      1\n",
      "Name: N, Length: 578, dtype: int64\n",
      "0.000000    696\n",
      "0.003909      6\n",
      "0.000978      4\n",
      "0.003923      3\n",
      "0.001914      3\n",
      "           ... \n",
      "1.102666      1\n",
      "0.001537      1\n",
      "0.136501      1\n",
      "0.006198      1\n",
      "0.239568      1\n",
      "Name: O, Length: 415, dtype: int64\n",
      "0.000000    766\n",
      "0.003909      6\n",
      "0.003923      3\n",
      "0.000992      3\n",
      "0.003893      3\n",
      "           ... \n",
      "0.371996      1\n",
      "0.001537      1\n",
      "0.047545      1\n",
      "0.004132      1\n",
      "0.174584      1\n",
      "Name: P, Length: 351, dtype: int64\n",
      "0.541183    2\n",
      "0.543196    2\n",
      "0.516888    2\n",
      "0.544443    2\n",
      "0.486570    2\n",
      "           ..\n",
      "0.549340    1\n",
      "0.484263    1\n",
      "0.529271    1\n",
      "0.523667    1\n",
      "0.485972    1\n",
      "Name: Q, Length: 1131, dtype: int64\n",
      "0.107603    3\n",
      "0.103653    2\n",
      "0.110068    2\n",
      "0.109722    2\n",
      "0.098043    2\n",
      "           ..\n",
      "0.110768    1\n",
      "0.104293    1\n",
      "0.118506    1\n",
      "0.107357    1\n",
      "0.106690    1\n",
      "Name: R, Length: 1109, dtype: int64\n",
      "0    763\n",
      "1    387\n",
      "Name: S, dtype: int64\n",
      "1    611\n",
      "0    539\n",
      "Name: T, dtype: int64\n"
     ]
    }
   ],
   "source": [
    "# Frequency table for each column\n",
    "for col in data.columns:\n",
    "    print(data[col].value_counts())"
   ]
  },
  {
   "cell_type": "code",
   "execution_count": 8,
   "id": "c8adb6d1",
   "metadata": {},
   "outputs": [
    {
     "data": {
      "image/png": "[encoded data removed]",
      "text/plain": [
       "<Figure size 720x360 with 1 Axes>"
      ]
     },
     "metadata": {
      "needs_background": "light"
     },
     "output_type": "display_data"
    }
   ],
   "source": [
    "# Box Plot\n",
    "plt.figure(figsize=(10,5))\n",
    "data.boxplot()\n",
    "plt.show()"
   ]
  },
  {
   "cell_type": "code",
   "execution_count": 9,
   "id": "fbe48126",
   "metadata": {},
   "outputs": [
    {
     "data": {
      "text/plain": [
       "<Figure size 720x360 with 0 Axes>"
      ]
     },
     "metadata": {},
     "output_type": "display_data"
    },
    {
     "data": {
      "image/png": "[encoded data removed]",
      "text/plain": [
       "<Figure size 432x288 with 20 Axes>"
      ]
     },
     "metadata": {
      "needs_background": "light"
     },
     "output_type": "display_data"
    }
   ],
   "source": [
    "# Hist plot\n",
    "plt.figure(figsize=(10,5))\n",
    "data.hist()\n",
    "plt.show()"
   ]
  },
  {
   "cell_type": "markdown",
   "id": "09970cd2",
   "metadata": {},
   "source": [
    "- The following obervations can be made\n",
    "    1. There are hints of the presence of some categorical variables\n",
    "    2. Apart from a couple of features, none of the features look like Gaussian\n",
    "    3. Apparently there are outliers (I am not sure as of now that whether they are the outliers OR that's how our data is)\n",
    "---\n",
    "\n",
    "## Data Cleaning\n",
    "*Develop pre-processing and/or feature extraction techniques (if needed)*"
   ]
  },
  {
   "cell_type": "code",
   "execution_count": 10,
   "id": "2f5251de",
   "metadata": {},
   "outputs": [
    {
     "data": {
      "text/plain": [
       "0"
      ]
     },
     "execution_count": 10,
     "metadata": {},
     "output_type": "execute_result"
    }
   ],
   "source": [
    "# Do we have any null values \n",
    "data.isnull().sum().sum()"
   ]
  },
  {
   "cell_type": "code",
   "execution_count": 11,
   "id": "88e75ab2",
   "metadata": {},
   "outputs": [
    {
     "data": {
      "text/plain": [
       "5"
      ]
     },
     "execution_count": 11,
     "metadata": {},
     "output_type": "execute_result"
    }
   ],
   "source": [
    "# Do we have any duplicates\n",
    "data.duplicated().sum()"
   ]
  },
  {
   "cell_type": "code",
   "execution_count": 12,
   "id": "214d2cc1",
   "metadata": {},
   "outputs": [
    {
     "data": {
      "text/plain": [
       "(1145, 20)"
      ]
     },
     "execution_count": 12,
     "metadata": {},
     "output_type": "execute_result"
    }
   ],
   "source": [
    "# Removing duplicate rows\n",
    "data = data.drop_duplicates()\n",
    "\n",
    "# After removal\n",
    "data.shape"
   ]
  },
  {
   "cell_type": "markdown",
   "id": "b7095fa6",
   "metadata": {},
   "source": [
    "#### Identifying and treating Outliers"
   ]
  },
  {
   "cell_type": "code",
   "execution_count": 13,
   "id": "80ec45f1",
   "metadata": {},
   "outputs": [
    {
     "name": "stdout",
     "output_type": "stream",
     "text": [
      "With thresh at 0, I got 1145 rows as outliers and lose them\n",
      "With thresh at 5, I got 302 rows as outliers and lose them\n",
      "With thresh at 10, I got 252 rows as outliers and lose them\n",
      "With thresh at 15, I got 234 rows as outliers and lose them\n",
      "With thresh at 20, I got 220 rows as outliers and lose them\n",
      "With thresh at 25, I got 208 rows as outliers and lose them\n",
      "With thresh at 30, I got 196 rows as outliers and lose them\n",
      "With thresh at 35, I got 185 rows as outliers and lose them\n",
      "With thresh at 40, I got 178 rows as outliers and lose them\n",
      "With thresh at 45, I got 172 rows as outliers and lose them\n",
      "With thresh at 50, I got 168 rows as outliers and lose them\n",
      "With thresh at 55, I got 166 rows as outliers and lose them\n",
      "With thresh at 60, I got 163 rows as outliers and lose them\n",
      "With thresh at 65, I got 162 rows as outliers and lose them\n",
      "With thresh at 70, I got 159 rows as outliers and lose them\n"
     ]
    }
   ],
   "source": [
    "def outliers_iqr(df, col, thresh):\n",
    "    Q1 = df[col].quantile(0.25)\n",
    "    Q3 = df[col].quantile(0.75)\n",
    "    IQR = Q3 - Q1\n",
    "    upper_bound = Q1 + thresh*IQR\n",
    "    lower_bound = Q3 - thresh*IQR\n",
    "    \n",
    "    ls = df.index[(df[col] < lower_bound) | (df[col] > upper_bound)]\n",
    "    return ls\n",
    "\n",
    "thresh = np.arange(0,75,5)\n",
    "for t in thresh:\n",
    "    index_list = []\n",
    "    for col in data.columns:\n",
    "        index_list.extend(outliers_iqr(data, col, t))\n",
    "    print('With thresh at {}, I got {} rows as outliers and lose them'.format(t, len(set(index_list))))"
   ]
  },
  {
   "cell_type": "code",
   "execution_count": 14,
   "id": "3a9acd05",
   "metadata": {},
   "outputs": [],
   "source": [
    "def remove_outliers(df, t):\n",
    "    index_list = []\n",
    "    for col in data.columns:\n",
    "        index_list.extend(outliers_iqr(data, col, t))\n",
    "    ls = sorted(set(index_list))\n",
    "    df.drop(index_list, axis=0, inplace=True)\n",
    "    return df\n",
    "    "
   ]
  },
  {
   "cell_type": "markdown",
   "id": "4961bf97",
   "metadata": {},
   "source": [
    "- Identification of the Outliers can be a bit complex here, demanding domain knowledge. I tried using maximum thresh, but it did not improve my scores. So I left it here "
   ]
  },
  {
   "cell_type": "markdown",
   "id": "17e967ad",
   "metadata": {},
   "source": [
    "#### Towards Feature Exploration "
   ]
  },
  {
   "cell_type": "code",
   "execution_count": 15,
   "id": "f96e1a0a",
   "metadata": {},
   "outputs": [
    {
     "data": {
      "text/plain": [
       "False"
      ]
     },
     "execution_count": 15,
     "metadata": {},
     "output_type": "execute_result"
    }
   ],
   "source": [
    "# Do I have any feature of zer-variance\n",
    "(data.nunique() <= 1).any()"
   ]
  },
  {
   "cell_type": "code",
   "execution_count": 16,
   "id": "1933db47",
   "metadata": {},
   "outputs": [
    {
     "name": "stdout",
     "output_type": "stream",
     "text": [
      "A 2\n",
      "B 2\n",
      "C 110\n",
      "D 104\n",
      "E 99\n",
      "F 91\n",
      "G 84\n",
      "H 69\n",
      "I 1140\n",
      "J 1140\n",
      "K 1129\n",
      "L 1031\n",
      "M 794\n",
      "N 578\n",
      "O 415\n",
      "P 351\n",
      "Q 1131\n",
      "R 1109\n",
      "S 2\n",
      "T 2\n"
     ]
    }
   ],
   "source": [
    "# lets look for the cardinality of the features\n",
    "for col in data.columns:\n",
    "    num_unique = len(data[col].unique())\n",
    "    total = data.shape[0]\n",
    "    print(col, num_unique)"
   ]
  },
  {
   "cell_type": "code",
   "execution_count": 17,
   "id": "63592e47",
   "metadata": {},
   "outputs": [
    {
     "data": {
      "text/plain": [
       "<AxesSubplot:>"
      ]
     },
     "execution_count": 17,
     "metadata": {},
     "output_type": "execute_result"
    },
    {
     "data": {
      "image/png": "[encoded data removed]",
      "text/plain": [
       "<Figure size 1440x1080 with 2 Axes>"
      ]
     },
     "metadata": {
      "needs_background": "light"
     },
     "output_type": "display_data"
    }
   ],
   "source": [
    "# Do I have MultiCollinearity in our Dataset\n",
    "plt.figure(figsize=(20,15))\n",
    "sns.heatmap(data.corr(), annot=True, vmin=-1, vmax=1)"
   ]
  },
  {
   "cell_type": "markdown",
   "id": "388adc0a",
   "metadata": {},
   "source": [
    "- Indeed there are some signs of severe Multi-Collinearity. \n",
    "- Suspected Columns are \n",
    "1. `C`, `D`, `E`, `F`, `G`, `H`.\n",
    "2. `I`, `J`, `K`, `L`.\n",
    "3. `M`, `N`\n",
    "4. `O`, `P`\n",
    "\n",
    "\n",
    "Lets also check the Variance Inflation Factors"
   ]
  },
  {
   "cell_type": "code",
   "execution_count": 18,
   "id": "f2a86b39",
   "metadata": {},
   "outputs": [
    {
     "name": "stdout",
     "output_type": "stream",
     "text": [
      "   feature          VIF\n",
      "0        A   175.932296\n",
      "1        B    12.211843\n",
      "2        C   629.428585\n",
      "3        D  1575.694697\n",
      "4        E  1545.434444\n",
      "5        F   885.535679\n",
      "6        G   406.339650\n",
      "7        H    80.380612\n",
      "8        I     7.239366\n",
      "9        J    17.927915\n",
      "10       K    30.934780\n",
      "11       L    22.056749\n",
      "12       M    17.423547\n",
      "13       N    25.369772\n",
      "14       O    30.411699\n",
      "15       P    13.302634\n",
      "16       Q   170.635142\n",
      "17       R    34.554351\n",
      "18       S     2.073901\n"
     ]
    }
   ],
   "source": [
    "# Computing VIF\n",
    "# the independent variables set\n",
    "X = data.iloc[:, :-1]\n",
    "  \n",
    "# VIF dataframe\n",
    "vif_data = pd.DataFrame()\n",
    "vif_data['feature'] = X.columns\n",
    "  \n",
    "# calculating VIF for each feature\n",
    "vif_data['VIF'] = [variance_inflation_factor(X.values, i)\n",
    "                          for i in range(len(X.columns))]\n",
    "  \n",
    "print(vif_data)"
   ]
  },
  {
   "cell_type": "markdown",
   "id": "47e893a4",
   "metadata": {},
   "source": [
    "- Lets consider removing all the columns with high VIFs and linear collinearity except `H`, `L`, `N`,and `O`"
   ]
  },
  {
   "cell_type": "code",
   "execution_count": 19,
   "id": "c0a83ae1",
   "metadata": {},
   "outputs": [],
   "source": [
    "# data1 : Without the following columns\n",
    "data1 = data.drop(['C', 'D', 'E', 'F', 'G', 'I', 'J', 'K', 'N', 'O'], axis=1)"
   ]
  },
  {
   "cell_type": "code",
   "execution_count": 20,
   "id": "49134297",
   "metadata": {},
   "outputs": [
    {
     "name": "stdout",
     "output_type": "stream",
     "text": [
      "Num of Features: 0\n",
      "Accuracy Score: nan\n",
      "Num of Features: 1\n",
      "Accuracy Score: 0.5292524790236461\n",
      "Num of Features: 2\n",
      "Accuracy Score: 0.532743452834986\n",
      "Num of Features: 3\n",
      "Accuracy Score: 0.5880574624968219\n",
      "Num of Features: 4\n",
      "Accuracy Score: 0.5805034324942792\n",
      "Num of Features: 5\n",
      "Accuracy Score: 0.5808110856852277\n",
      "Num of Features: 6\n",
      "Accuracy Score: 0.5703381642512079\n",
      "Num of Features: 7\n",
      "Accuracy Score: 0.5784769895753877\n",
      "Num of Features: 8\n",
      "Accuracy Score: 0.5819832189168573\n",
      "Num of Features: 9\n",
      "Accuracy Score: 0.5983269768624458\n"
     ]
    }
   ],
   "source": [
    "# Lets use RFE on data1\n",
    "for n_cols in range(len(data1.columns)):\n",
    "    X = data1.iloc[:,:-1]\n",
    "    y = data1.iloc[:,-1]\n",
    "    # create pipeline\n",
    "    rfe = RFE(estimator=LogisticRegression(), n_features_to_select=n_cols)\n",
    "    model = LogisticRegression()\n",
    "    pipeline = Pipeline(steps=[('s',rfe),('m',model)])\n",
    "    # evaluate model\n",
    "    cv = RepeatedStratifiedKFold(n_splits=10, n_repeats=3, random_state=1)\n",
    "    n_scores = cross_val_score(pipeline, X, y, scoring='accuracy', cv=cv, n_jobs=-1)\n",
    "    # report performance\n",
    "    print('Num of Features: {}\\nAccuracy Score: {}'.format(n_cols,np.mean(n_scores)))"
   ]
  },
  {
   "cell_type": "markdown",
   "id": "bfcb110d",
   "metadata": {},
   "source": [
    "- It can be seen that the accuracy is badly impacted by the removal of columns using RFE technique.\n",
    "\n",
    "Lets try calculating the accuracies on the data without feature selection"
   ]
  },
  {
   "cell_type": "code",
   "execution_count": 21,
   "id": "de987cb0",
   "metadata": {},
   "outputs": [
    {
     "name": "stdout",
     "output_type": "stream",
     "text": [
      "Num of Features: 0\n",
      "Accuracy Score: nan\n",
      "Num of Features: 1\n",
      "Accuracy Score: 0.5909763539282992\n",
      "Num of Features: 2\n",
      "Accuracy Score: 0.5950800915331809\n",
      "Num of Features: 3\n",
      "Accuracy Score: 0.6014594457157385\n",
      "Num of Features: 4\n",
      "Accuracy Score: 0.662001017035342\n",
      "Num of Features: 5\n",
      "Accuracy Score: 0.714096109839817\n",
      "Num of Features: 6\n",
      "Accuracy Score: 0.7380116959064328\n",
      "Num of Features: 7\n",
      "Accuracy Score: 0.7406229341469618\n",
      "Num of Features: 8\n",
      "Accuracy Score: 0.744701245868294\n",
      "Num of Features: 9\n",
      "Accuracy Score: 0.744980930587338\n",
      "Num of Features: 10\n",
      "Accuracy Score: 0.742051868802441\n",
      "Num of Features: 11\n",
      "Accuracy Score: 0.7458555809814392\n",
      "Num of Features: 12\n",
      "Accuracy Score: 0.7461352657004833\n",
      "Num of Features: 13\n",
      "Accuracy Score: 0.7426493770658532\n",
      "Num of Features: 14\n",
      "Accuracy Score: 0.7435291126366642\n",
      "Num of Features: 15\n",
      "Accuracy Score: 0.740610221205187\n",
      "Num of Features: 16\n",
      "Accuracy Score: 0.7461454360539028\n",
      "Num of Features: 17\n",
      "Accuracy Score: 0.7452631578947368\n",
      "Num of Features: 18\n",
      "Accuracy Score: 0.7496313246885327\n",
      "Num of Features: 19\n",
      "Accuracy Score: 0.7499186371726417\n"
     ]
    }
   ],
   "source": [
    "# Using RFE on data\n",
    "for n_cols in range(len(data.columns)):\n",
    "    X = data.iloc[:,:-1]\n",
    "    y = data.iloc[:,-1]\n",
    "    # create pipeline\n",
    "    rfe = RFE(estimator=LogisticRegression(), n_features_to_select=n_cols)\n",
    "    model = LogisticRegression()\n",
    "    pipeline = Pipeline(steps=[('s',rfe),('m',model)])\n",
    "    # evaluate model\n",
    "    cv = RepeatedStratifiedKFold(n_splits=10, n_repeats=3, random_state=1)\n",
    "    n_scores = cross_val_score(pipeline, X, y, scoring='accuracy', cv=cv, n_jobs=-1)\n",
    "    # report performance\n",
    "    print('Num of Features: {}\\nAccuracy Score: {}'.format(n_cols,np.mean(n_scores)))"
   ]
  },
  {
   "cell_type": "markdown",
   "id": "95e26d69",
   "metadata": {},
   "source": [
    "- The previous accuracies have been retained. To me, it seems like using RFE led us lose some of the columns that are contributing a lot to the model's performance.\n",
    "\n",
    "Lets rather use Dimension Reduction, and see what I can have there\n",
    "#### Dimension Reduction "
   ]
  },
  {
   "cell_type": "code",
   "execution_count": 22,
   "id": "afe66a9e",
   "metadata": {},
   "outputs": [
    {
     "name": "stdout",
     "output_type": "stream",
     "text": [
      "Features: 1, Accuracy: 0.49728705822527336\n",
      "Features: 2, Accuracy: 0.5974091024663107\n",
      "Features: 3, Accuracy: 0.602044241037376\n",
      "Features: 4, Accuracy: 0.6829519450800915\n",
      "Features: 5, Accuracy: 0.6820772946859903\n",
      "Features: 6, Accuracy: 0.6841088227815917\n",
      "Features: 7, Accuracy: 0.7085812356979404\n",
      "Features: 8, Accuracy: 0.7324434274091023\n",
      "Features: 9, Accuracy: 0.7452707856598016\n",
      "Features: 10, Accuracy: 0.744973302822273\n",
      "Features: 11, Accuracy: 0.7467175184337655\n",
      "Features: 12, Accuracy: 0.7472870582252733\n",
      "Features: 13, Accuracy: 0.7516450546656496\n",
      "Features: 14, Accuracy: 0.7472921434019834\n",
      "Features: 15, Accuracy: 0.7484591914569031\n",
      "Features: 16, Accuracy: 0.7472972285786932\n",
      "Features: 17, Accuracy: 0.7472972285786932\n",
      "Features: 18, Accuracy: 0.7475870836511568\n",
      "Features: 19, Accuracy: 0.7472896008136283\n",
      "Features: 20, Accuracy: nan\n"
     ]
    },
    {
     "data": {
      "image/png": "[encoded data removed]",
      "text/plain": [
       "<Figure size 432x288 with 1 Axes>"
      ]
     },
     "metadata": {
      "needs_background": "light"
     },
     "output_type": "display_data"
    }
   ],
   "source": [
    "# Towards Dimension Reduction\n",
    "# get the dataset\n",
    "def get_dataset():\n",
    "    X, y = data.iloc[:,:-1], data.iloc[:, -1]\n",
    "    return X, y\n",
    "\n",
    "# get a list of models to evaluate\n",
    "def get_models(technique):\n",
    "    models = dict()\n",
    "    \n",
    "    for i in range(1,21):\n",
    "        if technique == 'PCA':\n",
    "            steps = [('pca', PCA(n_components=i)), ('m', LogisticRegression())]\n",
    "        elif technique == 'SVD':\n",
    "            steps = [('svd', TruncatedSVD(n_components=i)), ('m', LogisticRegression())]\n",
    "        models[str(i)] = Pipeline(steps=steps)\n",
    "    return models\n",
    "\n",
    "# evaluate a given model using cross-validation\n",
    "def evaluate_model(model, X, y):\n",
    "    cv = RepeatedStratifiedKFold(n_splits=10, n_repeats=3, random_state=1)\n",
    "    scores = cross_val_score(model, X, y, scoring='accuracy', cv=cv, n_jobs=-1)\n",
    "    return scores\n",
    "\n",
    "# define dataset\n",
    "X, y = get_dataset()\n",
    "# get the models to evaluate\n",
    "models = get_models('PCA')\n",
    "# evaluate the models and store results\n",
    "results, names = list(), list()\n",
    "for name, model in models.items():\n",
    "    scores = evaluate_model(model, X, y)\n",
    "    results.append(scores)\n",
    "    names.append(name)\n",
    "    print('Features: {}, Accuracy: {}'.format(name, np.mean(scores)))\n",
    "# plot model performance for comparison\n",
    "plt.boxplot(results, labels=names, showmeans=True)\n",
    "plt.xticks(rotation=45)\n",
    "plt.show()"
   ]
  },
  {
   "cell_type": "markdown",
   "id": "7b456e9c",
   "metadata": {},
   "source": [
    "- Again there is a same pattern of performance. The dataset produces the best accuracies when all the features are involved."
   ]
  },
  {
   "cell_type": "markdown",
   "id": "df9571f3",
   "metadata": {},
   "source": [
    "## Building and Evaluating Model\n",
    "*Demonstrate the feasibility of your design by evaluating your system using machine learning metrics*\n",
    "\n",
    "Here I will develop two functions. Both will use pipeline. One will use Cross_val_score to average the scores. While the other will use train_test_split and generate a report with Confusion matrix and other metrices"
   ]
  },
  {
   "cell_type": "code",
   "execution_count": 23,
   "id": "73ea2a51",
   "metadata": {},
   "outputs": [],
   "source": [
    "# train_and_test returns cross validated scores\n",
    "def train_and_test(df,step):\n",
    "    ndata = df.values\n",
    "    # features\n",
    "    X = ndata[:, :-1]\n",
    "    # labels\n",
    "    y = ndata[:, -1]\n",
    "    # Pipeline Initialization\n",
    "    pipeline = Pipeline(steps=step)\n",
    "    # Cross Validation (Repeated Stratified)\n",
    "    cv = RepeatedStratifiedKFold(n_splits=10, n_repeats=3, random_state=1)\n",
    "    # Scores\n",
    "    scores = cross_val_score(pipeline, X, y, scoring='accuracy', cv=cv, n_jobs=-1)\n",
    "    \n",
    "    # Print\n",
    "    print('\\n')\n",
    "    print('Steps taken:\\n {}'.format(pipeline.steps))\n",
    "    print('\\n')\n",
    "    print('Avg Accuracy: {:.2f}\\nStandard Deviation: {:.2f}'.format(np.mean(scores), np.std(scores)))\n",
    "    \n",
    "# train_and_test_final evalates the model    \n",
    "def train_and_test_final(df,step):\n",
    "    ndata = df.values\n",
    "    # features\n",
    "    X = ndata[:, :-1]\n",
    "    # labels\n",
    "    y = ndata[:, -1]\n",
    "    # Split the dataset into train and test\n",
    "    X_train, X_test, y_train, y_test = train_test_split(X ,y, test_size=0.3)\n",
    "    # Pipeline Initialization\n",
    "    pipeline = Pipeline(steps=step)\n",
    "    # Fit the pipeline\n",
    "    pipeline.fit(X_train, y_train)\n",
    "    # Make Predicions\n",
    "    y_pred =  pipeline.predict(X_test)\n",
    "    # Calculating confusion matrix\n",
    "    conf_mat = confusion_matrix(y_test, y_pred)\n",
    "    # Calculating Accuracy Scores\n",
    "    accuracy = accuracy_score(y_test, y_pred)\n",
    "    # Plotting the matrix\n",
    "    plot_confusion_matrix(pipeline, X_test, y_test)\n",
    "    # Precision, recall, f-score \n",
    "    precision, recall, fscore, support = precision_recall_fscore_support(y_test, y_pred)\n",
    "    # Print \n",
    "    print(pipeline.steps)\n",
    "    print('-'*60)\n",
    "    print('The Accuracy score is: ',accuracy)\n",
    "    print('-'*60)\n",
    "    print('\\n')\n",
    "    print('precision: {}'.format(precision))\n",
    "    print('recall: {}'.format(recall))\n",
    "    print('fscore: {}'.format(fscore))\n",
    "    print('support: {}'.format(support))"
   ]
  },
  {
   "cell_type": "markdown",
   "id": "3c62fef9",
   "metadata": {},
   "source": [
    "#### Logistic Regression\n",
    "\n",
    "<font color = 'grey'> Please note that I will be using `data1` instead of `data` because Logistic Regression model has an assumption that there is near null Collinearity in the dataset. `data1` is just a variant of data that does not contain the columns inducing collinearity"
   ]
  },
  {
   "cell_type": "code",
   "execution_count": 24,
   "id": "4432dd46",
   "metadata": {},
   "outputs": [
    {
     "name": "stdout",
     "output_type": "stream",
     "text": [
      "\n",
      "\n",
      "Steps taken:\n",
      " [('transformer', QuantileTransformer(n_quantiles=90, output_distribution='normal')), ('Dimension_Reduction', TruncatedSVD(n_components=8)), ('model', LogisticRegression())]\n",
      "\n",
      "\n",
      "Avg Accuracy: 0.57\n",
      "Standard Deviation: 0.04\n"
     ]
    }
   ],
   "source": [
    "step_lr_svd18 = [\n",
    "    ('transformer', QuantileTransformer(n_quantiles=90, output_distribution='normal')),\n",
    "    ('Dimension_Reduction', TruncatedSVD(n_components=8)), \n",
    "    ('model',LogisticRegression())]\n",
    "train_and_test(data1,step_lr_svd18)"
   ]
  },
  {
   "cell_type": "code",
   "execution_count": 25,
   "id": "56d38928",
   "metadata": {},
   "outputs": [
    {
     "name": "stdout",
     "output_type": "stream",
     "text": [
      "\n",
      "\n",
      "Steps taken:\n",
      " [('transformer', QuantileTransformer(n_quantiles=90, output_distribution='normal')), ('Dimension_Reduction', PCA(n_components=8)), ('model', LogisticRegression())]\n",
      "\n",
      "\n",
      "Avg Accuracy: 0.57\n",
      "Standard Deviation: 0.04\n"
     ]
    }
   ],
   "source": [
    "step_lr_pca18 = [\n",
    "        ('transformer', QuantileTransformer(n_quantiles=90, output_distribution='normal')),\n",
    "        ('Dimension_Reduction', PCA(n_components=8)), \n",
    "        ('model',LogisticRegression())]\n",
    "train_and_test(data1, step_lr_pca18)"
   ]
  },
  {
   "cell_type": "code",
   "execution_count": 26,
   "id": "dbb618f2",
   "metadata": {},
   "outputs": [
    {
     "name": "stdout",
     "output_type": "stream",
     "text": [
      "\n",
      "\n",
      "Steps taken:\n",
      " [('transformer', PowerTransformer()), ('Dimension_Reduction', PCA(n_components=8)), ('model', LogisticRegression())]\n",
      "\n",
      "\n",
      "Avg Accuracy: 0.62\n",
      "Standard Deviation: 0.04\n"
     ]
    }
   ],
   "source": [
    "step_lr_pt_pca18 = [\n",
    "        ('transformer', PowerTransformer(method='yeo-johnson', standardize=True)),\n",
    "        ('Dimension_Reduction', PCA(n_components=8)), \n",
    "        ('model',LogisticRegression())]\n",
    "train_and_test(data1, step_lr_pt_pca18)"
   ]
  },
  {
   "cell_type": "code",
   "execution_count": 27,
   "id": "10478fd5",
   "metadata": {},
   "outputs": [
    {
     "name": "stdout",
     "output_type": "stream",
     "text": [
      "[('transformer', PowerTransformer()), ('Dimension_Reduction', PCA(n_components=8)), ('model', LogisticRegression())]\n",
      "------------------------------------------------------------\n",
      "The Accuracy score is:  0.6104651162790697\n",
      "------------------------------------------------------------\n",
      "\n",
      "\n",
      "precision: [0.55276382 0.68965517]\n",
      "recall: [0.70967742 0.52910053]\n",
      "fscore: [0.62146893 0.5988024 ]\n",
      "support: [155 189]\n"
     ]
    },
    {
     "data": {
      "image/png": "[encoded data removed]",
      "text/plain": [
       "<Figure size 432x288 with 2 Axes>"
      ]
     },
     "metadata": {
      "needs_background": "light"
     },
     "output_type": "display_data"
    }
   ],
   "source": [
    "# lets evaluate\n",
    "train_and_test_final(data1, step_lr_pt_pca18)"
   ]
  },
  {
   "cell_type": "markdown",
   "id": "191f154b",
   "metadata": {},
   "source": [
    "#### Naive Bayes\n"
   ]
  },
  {
   "cell_type": "code",
   "execution_count": 28,
   "id": "8e59bc2d",
   "metadata": {},
   "outputs": [
    {
     "name": "stdout",
     "output_type": "stream",
     "text": [
      "\n",
      "\n",
      "Steps taken:\n",
      " [('transformer', PowerTransformer()), ('Dimension_Reduction', PCA(n_components=18)), ('model', GaussianNB())]\n",
      "\n",
      "\n",
      "Avg Accuracy: 0.68\n",
      "Standard Deviation: 0.04\n"
     ]
    }
   ],
   "source": [
    "step_nb_pt_pca18 = [\n",
    "        ('transformer', PowerTransformer(method='yeo-johnson')),\n",
    "        ('Dimension_Reduction', PCA(n_components=18)), \n",
    "        ('model',GaussianNB())]\n",
    "\n",
    "train_and_test(data, step_nb_pt_pca18)"
   ]
  },
  {
   "cell_type": "code",
   "execution_count": 29,
   "id": "c878f524",
   "metadata": {},
   "outputs": [
    {
     "name": "stdout",
     "output_type": "stream",
     "text": [
      "\n",
      "\n",
      "Steps taken:\n",
      " [('transformer', PowerTransformer()), ('Dimension_Reduction', TruncatedSVD(n_components=18)), ('model', GaussianNB())]\n",
      "\n",
      "\n",
      "Avg Accuracy: 0.68\n",
      "Standard Deviation: 0.04\n"
     ]
    }
   ],
   "source": [
    "step_nb_pt_svd18 = [\n",
    "        ('transformer', PowerTransformer(method='yeo-johnson')),\n",
    "        ('Dimension_Reduction', TruncatedSVD(n_components=18)), \n",
    "        ('model',GaussianNB())]\n",
    "\n",
    "train_and_test(data, step_nb_pt_svd18)"
   ]
  },
  {
   "cell_type": "code",
   "execution_count": 30,
   "id": "9596544a",
   "metadata": {},
   "outputs": [
    {
     "name": "stdout",
     "output_type": "stream",
     "text": [
      "\n",
      "\n",
      "Steps taken:\n",
      " [('transformer', QuantileTransformer(n_quantiles=90, output_distribution='normal')), ('Dimension_Reduction', PCA(n_components=18)), ('model', GaussianNB())]\n",
      "\n",
      "\n",
      "Avg Accuracy: 0.66\n",
      "Standard Deviation: 0.05\n"
     ]
    }
   ],
   "source": [
    "step_nb_qt_pca18 = [\n",
    "        ('transformer', QuantileTransformer(n_quantiles=90, output_distribution='normal')),\n",
    "        ('Dimension_Reduction', PCA(n_components=18)), \n",
    "        ('model',GaussianNB())]\n",
    "\n",
    "train_and_test(data, step_nb_qt_pca18)"
   ]
  },
  {
   "cell_type": "code",
   "execution_count": 31,
   "id": "63c871f6",
   "metadata": {},
   "outputs": [
    {
     "name": "stdout",
     "output_type": "stream",
     "text": [
      "[('transformer', QuantileTransformer(n_quantiles=90, output_distribution='normal')), ('Dimension_Reduction', PCA(n_components=18)), ('model', GaussianNB())]\n",
      "------------------------------------------------------------\n",
      "The Accuracy score is:  0.6453488372093024\n",
      "------------------------------------------------------------\n",
      "\n",
      "\n",
      "precision: [0.62121212 0.66037736]\n",
      "recall: [0.53246753 0.73684211]\n",
      "fscore: [0.57342657 0.69651741]\n",
      "support: [154 190]\n"
     ]
    },
    {
     "data": {
      "image/png": "[encoded data removed]",
      "text/plain": [
       "<Figure size 432x288 with 2 Axes>"
      ]
     },
     "metadata": {
      "needs_background": "light"
     },
     "output_type": "display_data"
    }
   ],
   "source": [
    "# lets evaluate\n",
    "train_and_test_final(data, step_nb_qt_pca18)"
   ]
  },
  {
   "cell_type": "markdown",
   "id": "5e3c537c",
   "metadata": {},
   "source": [
    "#### Linear SVM\n",
    "\n",
    "Its important for Linear SVM to have our data on the same scale!"
   ]
  },
  {
   "cell_type": "code",
   "execution_count": 32,
   "id": "8ce89b4f",
   "metadata": {},
   "outputs": [
    {
     "name": "stdout",
     "output_type": "stream",
     "text": [
      "\n",
      "\n",
      "Steps taken:\n",
      " [('transformer', PowerTransformer()), ('Dimension_Reduction', PCA(n_components=18)), ('model', LinearSVC())]\n",
      "\n",
      "\n",
      "Avg Accuracy: 0.74\n",
      "Standard Deviation: 0.04\n"
     ]
    }
   ],
   "source": [
    "step_svm_pt_pca18 = [\n",
    "        ('transformer', PowerTransformer(method='yeo-johnson', standardize=True)),\n",
    "        ('Dimension_Reduction', PCA(n_components=18)), \n",
    "        ('model',LinearSVC())]\n",
    "\n",
    "train_and_test(data, step_svm_pt_pca18)"
   ]
  },
  {
   "cell_type": "code",
   "execution_count": 33,
   "id": "39a68a98",
   "metadata": {},
   "outputs": [
    {
     "name": "stdout",
     "output_type": "stream",
     "text": [
      "\n",
      "\n",
      "Steps taken:\n",
      " [('transformer', PowerTransformer()), ('Dimension_Reduction', TruncatedSVD(n_components=18)), ('model', LinearSVC())]\n",
      "\n",
      "\n",
      "Avg Accuracy: 0.74\n",
      "Standard Deviation: 0.04\n"
     ]
    }
   ],
   "source": [
    "step_svm_pt_svd18 = [\n",
    "        ('transformer', PowerTransformer(method='yeo-johnson', standardize=True)),\n",
    "        ('Dimension_Reduction', TruncatedSVD(n_components=18)), \n",
    "        ('model',LinearSVC())]\n",
    "\n",
    "train_and_test(data, step_svm_pt_svd18)"
   ]
  },
  {
   "cell_type": "code",
   "execution_count": 34,
   "id": "b74985e0",
   "metadata": {},
   "outputs": [
    {
     "name": "stdout",
     "output_type": "stream",
     "text": [
      "\n",
      "\n",
      "Steps taken:\n",
      " [('scaler', StandardScaler()), ('transformer', QuantileTransformer(n_quantiles=90, output_distribution='normal')), ('Dimension_Reduction', TruncatedSVD(n_components=18)), ('model', LinearSVC())]\n",
      "\n",
      "\n",
      "Avg Accuracy: 0.72\n",
      "Standard Deviation: 0.04\n"
     ]
    }
   ],
   "source": [
    "step_svm_qt_pca18 = [\n",
    "        ('scaler', StandardScaler()),\n",
    "        ('transformer', QuantileTransformer(n_quantiles=90, output_distribution='normal')),\n",
    "        ('Dimension_Reduction', TruncatedSVD(n_components=18)), \n",
    "        ('model',LinearSVC())]\n",
    "\n",
    "train_and_test(data, step_svm_qt_pca18)"
   ]
  },
  {
   "cell_type": "code",
   "execution_count": 35,
   "id": "ad3afa32",
   "metadata": {},
   "outputs": [
    {
     "name": "stdout",
     "output_type": "stream",
     "text": [
      "[('transformer', PowerTransformer()), ('Dimension_Reduction', PCA(n_components=18)), ('model', LinearSVC())]\n",
      "------------------------------------------------------------\n",
      "The Accuracy score is:  0.752906976744186\n",
      "------------------------------------------------------------\n",
      "\n",
      "\n",
      "precision: [0.6974359  0.82550336]\n",
      "recall: [0.83950617 0.67582418]\n",
      "fscore: [0.76190476 0.74320242]\n",
      "support: [162 182]\n"
     ]
    },
    {
     "name": "stderr",
     "output_type": "stream",
     "text": [
      "G:\\Anaconda3\\lib\\site-packages\\numpy\\core\\_methods.py:232: RuntimeWarning: overflow encountered in multiply\n",
      "  x = um.multiply(x, x, out=x)\n",
      "G:\\Anaconda3\\lib\\site-packages\\numpy\\core\\_methods.py:243: RuntimeWarning: overflow encountered in reduce\n",
      "  ret = umr_sum(x, axis, dtype, out, keepdims=keepdims, where=where)\n",
      "G:\\Anaconda3\\lib\\site-packages\\sklearn\\svm\\_base.py:985: ConvergenceWarning: Liblinear failed to converge, increase the number of iterations.\n",
      "  warnings.warn(\"Liblinear failed to converge, increase \"\n"
     ]
    },
    {
     "data": {
      "image/png": "[encoded data removed]",
      "text/plain": [
       "<Figure size 432x288 with 2 Axes>"
      ]
     },
     "metadata": {
      "needs_background": "light"
     },
     "output_type": "display_data"
    }
   ],
   "source": [
    "# lets evaluate\n",
    "train_and_test_final(data, step_svm_pt_pca18)"
   ]
  },
  {
   "cell_type": "code",
   "execution_count": null,
   "id": "8e481346",
   "metadata": {},
   "outputs": [],
   "source": []
  }
 ],
 "metadata": {
  "kernelspec": {
   "display_name": "Python 3 (ipykernel)",
   "language": "python",
   "name": "python3"
  },
  "language_info": {
   "codemirror_mode": {
    "name": "ipython",
    "version": 3
   },
   "file_extension": ".py",
   "mimetype": "text/x-python",
   "name": "python",
   "nbconvert_exporter": "python",
   "pygments_lexer": "ipython3",
   "version": "3.9.7"
  }
 },
 "nbformat": 4,
 "nbformat_minor": 5
}
