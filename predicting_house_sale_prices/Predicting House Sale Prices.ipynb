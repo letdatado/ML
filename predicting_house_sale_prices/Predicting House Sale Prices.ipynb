{
 "cells": [
  {
   "cell_type": "markdown",
   "metadata": {
    "collapsed": true
   },
   "source": [
    "## Introduction "
   ]
  },
  {
   "cell_type": "markdown",
   "metadata": {},
   "source": [
    " This data set describes the sale of individual residential property in Ames, Iowa from 2006 to 2010. The data set contains 2930 observations and a large number of explanatory variables (23 nominal, 23 ordinal, 14 discrete, and 20 continuous) involved in assessing home values. \n",
    " \n",
    "### Data Dictionary:\n",
    "#### https://s3.amazonaws.com/dq-content/307/data_description.txt"
    "MS SubClass: Identifies the type of dwelling involved in the sale.\t\n",
    "\n",
    "        20\t1-STORY 1946 & NEWER ALL STYLES\n",
    "        30\t1-STORY 1945 & OLDER\n",
    "        40\t1-STORY W/FINISHED ATTIC ALL AGES\n",
    "        45\t1-1/2 STORY - UNFINISHED ALL AGES\n",
    "        50\t1-1/2 STORY FINISHED ALL AGES\n",
    "        60\t2-STORY 1946 & NEWER\n",
    "        70\t2-STORY 1945 & OLDER\n",
    "        75\t2-1/2 STORY ALL AGES\n",
    "        80\tSPLIT OR MULTI-LEVEL\n",
    "        85\tSPLIT FOYER\n",
    "        90\tDUPLEX - ALL STYLES AND AGES\n",
    "       120\t1-STORY PUD (Planned Unit Development) - 1946 & NEWER\n",
    "       150\t1-1/2 STORY PUD - ALL AGES\n",
    "       160\t2-STORY PUD - 1946 & NEWER\n",
    "       180\tPUD - MULTILEVEL - INCL SPLIT LEV/FOYER\n",
    "       190\t2 FAMILY CONVERSION - ALL STYLES AND AGES\n",
    "\n",
    "MS Zoning: Identifies the general zoning classification of the sale.\n",
    "\t\t\n",
    "       A\tAgriculture\n",
    "       C\tCommercial\n",
    "       FV\tFloating Village Residential\n",
    "       I\tIndustrial\n",
    "       RH\tResidential High Density\n",
    "       RL\tResidential Low Density\n",
    "       RP\tResidential Low Density Park \n",
    "       RM\tResidential Medium Density\n",
    "\t\n",
    "Lot Frontage: Linear feet of street connected to property\n",
    "\n",
    "Lot Area: Lot size in square feet\n",
    "\n",
    "Street: Type of road access to property\n",
    "\n",
    "       Grvl\tGravel\t\n",
    "       Pave\tPaved\n",
    "       \t\n",
    "Alley: Type of alley access to property\n",
    "\n",
    "       Grvl\tGravel\n",
    "       Pave\tPaved\n",
    "       NA \tNo alley access\n",
    "\t\t\n",
    "Lot Shape: General shape of property\n",
    "\n",
    "       Reg\tRegular\t\n",
    "       IR1\tSlightly irregular\n",
    "       IR2\tModerately Irregular\n",
    "       IR3\tIrregular\n",
    "       \n",
    "Land Contour: Flatness of the property\n",
    "\n",
    "       Lvl\tNear Flat/Level\t\n",
    "       Bnk\tBanked - Quick and significant rise from street grade to building\n",
    "       HLS\tHillside - Significant slope from side to side\n",
    "       Low\tDepression\n",
    "\t\t\n",
    "Utilities: Type of utilities available\n",
    "\t\t\n",
    "       AllPub\tAll public Utilities (E,G,W,& S)\t\n",
    "       NoSewr\tElectricity, Gas, and Water (Septic Tank)\n",
    "       NoSeWa\tElectricity and Gas Only\n",
    "       ELO\tElectricity only\t\n",
    "\t\n",
    "Lot Config: Lot configuration\n",
    "\n",
    "       Inside\tInside lot\n",
    "       Corner\tCorner lot\n",
    "       CulDSac\tCul-de-sac\n",
    "       FR2\tFrontage on 2 sides of property\n",
    "       FR3\tFrontage on 3 sides of property\n",
    "\t\n",
    "Land Slope: Slope of property\n",
    "\t\t\n",
    "       Gtl\tGentle slope\n",
    "       Mod\tModerate Slope\t\n",
    "       Sev\tSevere Slope\n",
    "\t\n",
    "Neighborhood: Physical locations within Ames city limits\n",
    "\n",
    "       Blmngtn\tBloomington Heights\n",
    "       Blueste\tBluestem\n",
    "       BrDale\tBriardale\n",
    "       BrkSide\tBrookside\n",
    "       ClearCr\tClear Creek\n",
    "       CollgCr\tCollege Creek\n",
    "       Crawfor\tCrawford\n",
    "       Edwards\tEdwards\n",
    "       Gilbert\tGilbert\n",
    "       IDOTRR\tIowa DOT and Rail Road\n",
    "       MeadowV\tMeadow Village\n",
    "       Mitchel\tMitchell\n",
    "       Names\tNorth Ames\n",
    "       NoRidge\tNorthridge\n",
    "       NPkVill\tNorthpark Villa\n",
    "       NridgHt\tNorthridge Heights\n",
    "       NWAmes\tNorthwest Ames\n",
    "       OldTown\tOld Town\n",
    "       SWISU\tSouth & West of Iowa State University\n",
    "       Sawyer\tSawyer\n",
    "       SawyerW\tSawyer West\n",
    "       Somerst\tSomerset\n",
    "       StoneBr\tStone Brook\n",
    "       Timber\tTimberland\n",
    "       Veenker\tVeenker\n",
    "\t\t\t\n",
    "Condition1: Proximity to various conditions\n",
    "\t\n",
    "       Artery\tAdjacent to arterial street\n",
    "       Feedr\tAdjacent to feeder street\t\n",
    "       Norm\tNormal\t\n",
    "       RRNn\tWithin 200' of North-South Railroad\n",
    "       RRAn\tAdjacent to North-South Railroad\n",
    "       PosN\tNear positive off-site feature--park, greenbelt, etc.\n",
    "       PosA\tAdjacent to postive off-site feature\n",
    "       RRNe\tWithin 200' of East-West Railroad\n",
    "       RRAe\tAdjacent to East-West Railroad\n",
    "\t\n",
    "Condition2: Proximity to various conditions (if more than one is present)\n",
    "\t\t\n",
    "       Artery\tAdjacent to arterial street\n",
    "       Feedr\tAdjacent to feeder street\t\n",
    "       Norm\tNormal\t\n",
    "       RRNn\tWithin 200' of North-South Railroad\n",
    "       RRAn\tAdjacent to North-South Railroad\n",
    "       PosN\tNear positive off-site feature--park, greenbelt, etc.\n",
    "       PosA\tAdjacent to postive off-site feature\n",
    "       RRNe\tWithin 200' of East-West Railroad\n",
    "       RRAe\tAdjacent to East-West Railroad\n",
    "\t\n",
    "BldgType: Type of dwelling\n",
    "\t\t\n",
    "       1Fam\tSingle-family Detached\t\n",
    "       2FmCon\tTwo-family Conversion; originally built as one-family dwelling\n",
    "       Duplx\tDuplex\n",
    "       TwnhsE\tTownhouse End Unit\n",
    "       TwnhsI\tTownhouse Inside Unit\n",
    "\t\n",
    "House Style: Style of dwelling\n",
    "\t\n",
    "       1Story\tOne story\n",
    "       1.5Fin\tOne and one-half story: 2nd level finished\n",
    "       1.5Unf\tOne and one-half story: 2nd level unfinished\n",
    "       2Story\tTwo story\n",
    "       2.5Fin\tTwo and one-half story: 2nd level finished\n",
    "       2.5Unf\tTwo and one-half story: 2nd level unfinished\n",
    "       SFoyer\tSplit Foyer\n",
    "       SLvl\tSplit Level\n",
    "\t\n",
    "Overall Qual: Rates the overall material and finish of the house\n",
    "\n",
    "       10\tVery Excellent\n",
    "       9\tExcellent\n",
    "       8\tVery Good\n",
    "       7\tGood\n",
    "       6\tAbove Average\n",
    "       5\tAverage\n",
    "       4\tBelow Average\n",
    "       3\tFair\n",
    "       2\tPoor\n",
    "       1\tVery Poor\n",
    "\t\n",
    "Overall Cond: Rates the overall condition of the house\n",
    "\n",
    "       10\tVery Excellent\n",
    "       9\tExcellent\n",
    "       8\tVery Good\n",
    "       7\tGood\n",
    "       6\tAbove Average\t\n",
    "       5\tAverage\n",
    "       4\tBelow Average\t\n",
    "       3\tFair\n",
    "       2\tPoor\n",
    "       1\tVery Poor\n",
    "\t\t\n",
    "Year Built: Original construction date\n",
    "\n",
    "Year Remod/Add: Remodel date (same as construction date if no remodeling or additions)\n",
    "\n",
    "Roof Style: Type of roof\n",
    "\n",
    "       Flat\tFlat\n",
    "       Gable\tGable\n",
    "       Gambrel\tGabrel (Barn)\n",
    "       Hip\tHip\n",
    "       Mansard\tMansard\n",
    "       Shed\tShed\n",
    "\t\t\n",
    "Roof Matl: Roof material\n",
    "\n",
    "       ClyTile\tClay or Tile\n",
    "       CompShg\tStandard (Composite) Shingle\n",
    "       Membran\tMembrane\n",
    "       Metal\tMetal\n",
    "       Roll\tRoll\n",
    "       Tar&Grv\tGravel & Tar\n",
    "       WdShake\tWood Shakes\n",
    "       WdShngl\tWood Shingles\n",
    "\t\t\n",
    "Exterior 1st: Exterior covering on house\n",
    "\n",
    "       AsbShng\tAsbestos Shingles\n",
    "       AsphShn\tAsphalt Shingles\n",
    "       BrkComm\tBrick Common\n",
    "       BrkFace\tBrick Face\n",
    "       CBlock\tCinder Block\n",
    "       CemntBd\tCement Board\n",
    "       HdBoard\tHard Board\n",
    "       ImStucc\tImitation Stucco\n",
    "       MetalSd\tMetal Siding\n",
    "       Other\tOther\n",
    "       Plywood\tPlywood\n",
    "       PreCast\tPreCast\t\n",
    "       Stone\tStone\n",
    "       Stucco\tStucco\n",
    "       VinylSd\tVinyl Siding\n",
    "       Wd Sdng\tWood Siding\n",
    "       WdShing\tWood Shingles\n",
    "\t\n",
    "Exterior 2nd: Exterior covering on house (if more than one material)\n",
    "\n",
    "       AsbShng\tAsbestos Shingles\n",
    "       AsphShn\tAsphalt Shingles\n",
    "       BrkComm\tBrick Common\n",
    "       BrkFace\tBrick Face\n",
    "       CBlock\tCinder Block\n",
    "       CemntBd\tCement Board\n",
    "       HdBoard\tHard Board\n",
    "       ImStucc\tImitation Stucco\n",
    "       MetalSd\tMetal Siding\n",
    "       Other\tOther\n",
    "       Plywood\tPlywood\n",
    "       PreCast\tPreCast\n",
    "       Stone\tStone\n",
    "       Stucco\tStucco\n",
    "       VinylSd\tVinyl Siding\n",
    "       Wd Sdng\tWood Siding\n",
    "       WdShing\tWood Shingles\n",
    "\t\n",
    "Mas Vnr Type: Masonry veneer type\n",
    "\n",
    "       BrkCmn\tBrick Common\n",
    "       BrkFace\tBrick Face\n",
    "       CBlock\tCinder Block\n",
    "       None\tNone\n",
    "       Stone\tStone\n",
    "\t\n",
    "Mas Vnr Area: Masonry veneer area in square feet\n",
    "\n",
    "Exter Qual: Evaluates the quality of the material on the exterior \n",
    "\t\t\n",
    "       Ex\tExcellent\n",
    "       Gd\tGood\n",
    "       TA\tAverage/Typical\n",
    "       Fa\tFair\n",
    "       Po\tPoor\n",
    "\t\t\n",
    "Exter Cond: Evaluates the present condition of the material on the exterior\n",
    "\t\t\n",
    "       Ex\tExcellent\n",
    "       Gd\tGood\n",
    "       TA\tAverage/Typical\n",
    "       Fa\tFair\n",
    "       Po\tPoor\n",
    "\t\t\n",
    "Foundation: Type of foundation\n",
    "\t\t\n",
    "       BrkTil\tBrick & Tile\n",
    "       CBlock\tCinder Block\n",
    "       PConc\tPoured Contrete\t\n",
    "       Slab\tSlab\n",
    "       Stone\tStone\n",
    "       Wood\tWood\n",
    "\t\t\n",
    "Bsmt Qual: Evaluates the height of the basement\n",
    "\n",
    "       Ex\tExcellent (100+ inches)\t\n",
    "       Gd\tGood (90-99 inches)\n",
    "       TA\tTypical (80-89 inches)\n",
    "       Fa\tFair (70-79 inches)\n",
    "       Po\tPoor (<70 inches\n",
    "       NA\tNo Basement\n",
    "\t\t\n",
    "Bsmt Cond: Evaluates the general condition of the basement\n",
    "\n",
    "       Ex\tExcellent\n",
    "       Gd\tGood\n",
    "       TA\tTypical - slight dampness allowed\n",
    "       Fa\tFair - dampness or some cracking or settling\n",
    "       Po\tPoor - Severe cracking, settling, or wetness\n",
    "       NA\tNo Basement\n",
    "\t\n",
    "Bsmt Exposure: Refers to walkout or garden level walls\n",
    "\n",
    "       Gd\tGood Exposure\n",
    "       Av\tAverage Exposure (split levels or foyers typically score average or above)\t\n",
    "       Mn\tMimimum Exposure\n",
    "       No\tNo Exposure\n",
    "       NA\tNo Basement\n",
    "\t\n",
    "BsmtFin Type 1: Rating of basement finished area\n",
    "\n",
    "       GLQ\tGood Living Quarters\n",
    "       ALQ\tAverage Living Quarters\n",
    "       BLQ\tBelow Average Living Quarters\t\n",
    "       Rec\tAverage Rec Room\n",
    "       LwQ\tLow Quality\n",
    "       Unf\tUnfinshed\n",
    "       NA\tNo Basement\n",
    "\t\t\n",
    "BsmtFin SF 1: Type 1 finished square feet\n",
    "\n",
    "BsmtFin Type 2: Rating of basement finished area (if multiple types)\n",
    "\n",
    "       GLQ\tGood Living Quarters\n",
    "       ALQ\tAverage Living Quarters\n",
    "       BLQ\tBelow Average Living Quarters\t\n",
    "       Rec\tAverage Rec Room\n",
    "       LwQ\tLow Quality\n",
    "       Unf\tUnfinshed\n",
    "       NA\tNo Basement\n",
    "\n",
    "BsmtFin SF 2: Type 2 finished square feet\n",
    "\n",
    "Bsmt Unf SF: Unfinished square feet of basement area\n",
    "\n",
    "Total Bsmt SF: Total square feet of basement area\n",
    "\n",
    "Heating: Type of heating\n",
    "\t\t\n",
    "       Floor\tFloor Furnace\n",
    "       GasA\tGas forced warm air furnace\n",
    "       GasW\tGas hot water or steam heat\n",
    "       Grav\tGravity furnace\t\n",
    "       OthW\tHot water or steam heat other than gas\n",
    "       Wall\tWall furnace\n",
    "\t\t\n",
    "Heating QC: Heating quality and condition\n",
    "\n",
    "       Ex\tExcellent\n",
    "       Gd\tGood\n",
    "       TA\tAverage/Typical\n",
    "       Fa\tFair\n",
    "       Po\tPoor\n",
    "\t\t\n",
    "Central Air: Central air conditioning\n",
    "\n",
    "       N\tNo\n",
    "       Y\tYes\n",
    "\t\t\n",
    "Electrical: Electrical system\n",
    "\n",
    "       SBrkr\tStandard Circuit Breakers & Romex\n",
    "       FuseA\tFuse Box over 60 AMP and all Romex wiring (Average)\t\n",
    "       FuseF\t60 AMP Fuse Box and mostly Romex wiring (Fair)\n",
    "       FuseP\t60 AMP Fuse Box and mostly knob & tube wiring (poor)\n",
    "       Mix\tMixed\n",
    "\t\t\n",
    "1st Flr SF: First Floor square feet\n",
    " \n",
    "2nd Flr SF: Second floor square feet\n",
    "\n",
    "Low Qual Fin SF: Low quality finished square feet (all floors)\n",
    "\n",
    "Gr Liv Area: Above grade (ground) living area square feet\n",
    "\n",
    "Bsmt Full Bath: Basement full bathrooms\n",
    "\n",
    "Bsmt Half Bath: Basement half bathrooms\n",
    "\n",
    "Full Bath: Full bathrooms above grade\n",
    "\n",
    "Half Bath: Half baths above grade\n",
    "\n",
    "Bedroom: Bedrooms above grade (does NOT include basement bedrooms)\n",
    "\n",
    "Kitchen: Kitchens above grade\n",
    "\n",
    "Kitchen Qual: Kitchen quality\n",
    "\n",
    "       Ex\tExcellent\n",
    "       Gd\tGood\n",
    "       TA\tTypical/Average\n",
    "       Fa\tFair\n",
    "       Po\tPoor\n",
    "       \t\n",
    "TotRms Abv Grd: Total rooms above grade (does not include bathrooms)\n",
    "\n",
    "Functional: Home functionality (Assume typical unless deductions are warranted)\n",
    "\n",
    "       Typ\tTypical Functionality\n",
    "       Min1\tMinor Deductions 1\n",
    "       Min2\tMinor Deductions 2\n",
    "       Mod\tModerate Deductions\n",
    "       Maj1\tMajor Deductions 1\n",
    "       Maj2\tMajor Deductions 2\n",
    "       Sev\tSeverely Damaged\n",
    "       Sal\tSalvage only\n",
    "\t\t\n",
    "Fireplaces: Number of fireplaces\n",
    "\n",
    "Fireplace Qu: Fireplace quality\n",
    "\n",
    "       Ex\tExcellent - Exceptional Masonry Fireplace\n",
    "       Gd\tGood - Masonry Fireplace in main level\n",
    "       TA\tAverage - Prefabricated Fireplace in main living area or Masonry Fireplace in basement\n",
    "       Fa\tFair - Prefabricated Fireplace in basement\n",
    "       Po\tPoor - Ben Franklin Stove\n",
    "       NA\tNo Fireplace\n",
    "\t\t\n",
    "Garage Type: Garage location\n",
    "\t\t\n",
    "       2Types\tMore than one type of garage\n",
    "       Attchd\tAttached to home\n",
    "       Basment\tBasement Garage\n",
    "       BuiltIn\tBuilt-In (Garage part of house - typically has room above garage)\n",
    "       CarPort\tCar Port\n",
    "       Detchd\tDetached from home\n",
    "       NA\tNo Garage\n",
    "\t\t\n",
    "Garage Yr Blt: Year garage was built\n",
    "\t\t\n",
    "Garage Finish: Interior finish of the garage\n",
    "\n",
    "       Fin\tFinished\n",
    "       RFn\tRough Finished\t\n",
    "       Unf\tUnfinished\n",
    "       NA\tNo Garage\n",
    "\t\t\n",
    "Garage Cars: Size of garage in car capacity\n",
    "\n",
    "Garage Area: Size of garage in square feet\n",
    "\n",
    "Garage Qual: Garage quality\n",
    "\n",
    "       Ex\tExcellent\n",
    "       Gd\tGood\n",
    "       TA\tTypical/Average\n",
    "       Fa\tFair\n",
    "       Po\tPoor\n",
    "       NA\tNo Garage\n",
    "\t\t\n",
    "Garage Cond: Garage condition\n",
    "\n",
    "       Ex\tExcellent\n",
    "       Gd\tGood\n",
    "       TA\tTypical/Average\n",
    "       Fa\tFair\n",
    "       Po\tPoor\n",
    "       NA\tNo Garage\n",
    "\t\t\n",
    "Paved Drive: Paved driveway\n",
    "\n",
    "       Y\tPaved \n",
    "       P\tPartial Pavement\n",
    "       N\tDirt/Gravel\n",
    "\t\t\n",
    "Wood Deck SF: Wood deck area in square feet\n",
    "\n",
    "Open Porch SF: Open porch area in square feet\n",
    "\n",
    "Enclosed Porch: Enclosed porch area in square feet\n",
    "\n",
    "3Ssn Porch: Three season porch area in square feet\n",
    "\n",
    "Screen Porch: Screen porch area in square feet\n",
    "\n",
    "Pool Area: Pool area in square feet\n",
    "\n",
    "Pool QC: Pool quality\n",
    "\t\t\n",
    "       Ex\tExcellent\n",
    "       Gd\tGood\n",
    "       TA\tAverage/Typical\n",
    "       Fa\tFair\n",
    "       NA\tNo Pool\n",
    "\t\t\n",
    "Fence: Fence quality\n",
    "\t\t\n",
    "       GdPrv\tGood Privacy\n",
    "       MnPrv\tMinimum Privacy\n",
    "       GdWo\tGood Wood\n",
    "       MnWw\tMinimum Wood/Wire\n",
    "       NA\tNo Fence\n",
    "\t\n",
    "Misc Feature: Miscellaneous feature not covered in other categories\n",
    "\t\t\n",
    "       Elev\tElevator\n",
    "       Gar2\t2nd Garage (if not described in garage section)\n",
    "       Othr\tOther\n",
    "       Shed\tShed (over 100 SF)\n",
    "       TenC\tTennis Court\n",
    "       NA\tNone\n",
    "\t\t\n",
    "Misc Val: Value of miscellaneous feature (USD)\n",
    "\n",
    "Mo Sold: Month Sold (MM)\n",
    "\n",
    "Yr Sold: Year Sold (YYYY)\n",
    "\n",
    "Sale Type: Type of sale\n",
    "\t\t\n",
    "       WD \tWarranty Deed - Conventional\n",
    "       CWD\tWarranty Deed - Cash\n",
    "       VWD\tWarranty Deed - VA Loan\n",
    "       New\tHome just constructed and sold\n",
    "       COD\tCourt Officer Deed/Estate\n",
    "       Con\tContract 15% Down payment regular terms\n",
    "       ConLw\tContract Low Down payment and low interest\n",
    "       ConLI\tContract Low Interest\n",
    "       ConLD\tContract Low Down\n",
    "       Oth\tOther\n",
    "\t\t\n",
    "Sale Condition: Condition of sale\n",
    "\n",
    "       Normal\tNormal Sale\n",
    "       Abnorml\tAbnormal Sale -  trade, foreclosure, short sale\n",
    "       AdjLand\tAdjoining Land Purchase\n",
    "       Alloca\tAllocation - two linked properties with separate deeds, typically condo with a garage unit\t\n",
    "       Family\tSale between family members\n",
    "       Partial\tHome was not completed when last assessed (associated with New Homes)\n",
    "       \n",
    "SalePrice: Price of Sale (USD)"
   ]
  },
  {
   "cell_type": "markdown",
   "metadata": {},
   "source": [
    "## Importing Libraries"
   ]
  },
  {
   "cell_type": "code",
   "execution_count": 1,
   "metadata": {
    "collapsed": true
   },
   "outputs": [],
   "source": [
    "import numpy as np\n",
    "import pandas as pd\n",
    "import matplotlib.pyplot as plt\n",
    "import seaborn as sns\n",
    "%matplotlib inline "
   ]
  },
  {
   "cell_type": "code",
   "execution_count": 2,
   "metadata": {
    "collapsed": true
   },
   "outputs": [],
   "source": [
    "from sklearn.model_selection import KFold\n",
    "\n",
    "from sklearn.metrics import mean_squared_error\n",
    "from sklearn import linear_model\n",
    "from sklearn.model_selection import KFold"
   ]
  },
  {
   "cell_type": "markdown",
   "metadata": {},
   "source": [
    "## Loading the Dataset"
   ]
  },
  {
   "cell_type": "code",
   "execution_count": 3,
   "metadata": {
    "collapsed": true
   },
   "outputs": [],
   "source": [
    "data = pd.read_table('AmesHousing.tsv',delimiter=\"\\t\")"
   ]
  },
  {
   "cell_type": "markdown",
   "metadata": {},
   "source": [
    "Let's start by setting up a pipeline of functions that will let us quickly iterate on different models."
   ]
  },
  {
   "cell_type": "code",
   "execution_count": 4,
   "metadata": {
    "collapsed": true
   },
   "outputs": [],
   "source": [
    "def transform_features(data):\n",
    "    return data"
   ]
  },
  {
   "cell_type": "code",
   "execution_count": 5,
   "metadata": {
    "collapsed": true
   },
   "outputs": [],
   "source": [
    "def select_features(data):\n",
    "    return data[['Gr Liv Area', 'SalePrice']]"
   ]
  },
  {
   "cell_type": "code",
   "execution_count": 6,
   "metadata": {
    "collapsed": true
   },
   "outputs": [],
   "source": [
    "def train_and_test(data):\n",
    "    train = data.iloc[:1460]\n",
    "    test = data.iloc[1460:]\n",
    "    \n",
    "    numeric_train = train.select_dtypes(include=['integer', 'float'])\n",
    "    numeric_test = test.select_dtypes(include=['integer', 'float'])\n",
    "    \n",
    "    target = 'SalePrice'\n",
    "    features = numeric_train.columns.drop(target)\n",
    "    \n",
    "    # instantiate\n",
    "    lr = linear_model.LinearRegression()\n",
    "    \n",
    "    # train\n",
    "    lr.fit(train[features], train[target])\n",
    "    \n",
    "    # predict and test\n",
    "    predictions = lr.predict(test[features])\n",
    "    \n",
    "    mse = mean_squared_error(test[target], predictions)\n",
    "    rmse = np.sqrt(mse)\n",
    "    \n",
    "    return rmse\n",
    "    \n",
    "    "
   ]
  },
  {
   "cell_type": "code",
   "execution_count": 7,
   "metadata": {
    "collapsed": false
   },
   "outputs": [
    {
     "name": "stdout",
     "output_type": "stream",
     "text": [
      "57088.25161263909\n"
     ]
    }
   ],
   "source": [
    "# transformed data\n",
    "transform_data = transform_features(data)\n",
    "\n",
    "# filtered data\n",
    "filtered_data = select_features(transform_data)\n",
    "\n",
    "# rmse of data\n",
    "rmse = train_and_test(filtered_data)\n",
    "\n",
    "print(rmse)"
   ]
  },
  {
   "cell_type": "markdown",
   "metadata": {},
   "source": [
    "## Feature Engineering"
   ]
  },
  {
   "cell_type": "code",
   "execution_count": 8,
   "metadata": {
    "collapsed": true
   },
   "outputs": [],
   "source": [
    "### write someth"
   ]
  },
  {
   "cell_type": "markdown",
   "metadata": {},
   "source": [
    "- Which columns contain less than 5% missing values?\n",
    "    - For numerical columns that meet this criteria, let's fill in the missing values using the most popular value for that column.\n",
    "    \n",
    "    \n",
    "- What new features can we create, that better capture the information in some of the features?\n",
    "    - An example of this would be the years_until_remod feature we created in the last lesson.\n",
    "    \n",
    "    \n",
    "- Which columns need to be dropped for other reasons?\n",
    "    - Which columns aren't useful for machine learning?\n",
    "    - Which columns leak data about the final sale?"
   ]
  },
  {
   "cell_type": "markdown",
   "metadata": {},
   "source": [
    "#### Drop any columns with 5% or more missing values:"
   ]
  },
  {
   "cell_type": "code",
   "execution_count": 9,
   "metadata": {
    "collapsed": false
   },
   "outputs": [
    {
     "data": {
      "text/plain": [
       "(2930, 71)"
      ]
     },
     "execution_count": 9,
     "metadata": {},
     "output_type": "execute_result"
    }
   ],
   "source": [
    "# column name and number of missing values\n",
    "num_missing = data.isnull().sum()\n",
    "\n",
    "# Only notnull > 95% and above columns\n",
    "drop_missing_cols = num_missing[(num_missing > len(data)*0.05)].sort_values()\n",
    "\n",
    "# Drop the columns which do not comply\n",
    "data = data.drop(drop_missing_cols.index, axis=1)\n",
    "\n",
    "data.shape"
   ]
  },
  {
   "cell_type": "markdown",
   "metadata": {},
   "source": [
    "#### Drop text columns with missing values"
   ]
  },
  {
   "cell_type": "code",
   "execution_count": 10,
   "metadata": {
    "collapsed": false
   },
   "outputs": [
    {
     "data": {
      "text/plain": [
       "Bsmt Exposure     83\n",
       "BsmtFin Type 2    81\n",
       "BsmtFin Type 1    80\n",
       "Bsmt Qual         80\n",
       "Bsmt Cond         80\n",
       "Mas Vnr Type      23\n",
       "Electrical         1\n",
       "Utilities          0\n",
       "Lot Config         0\n",
       "Land Slope         0\n",
       "Roof Matl          0\n",
       "Land Contour       0\n",
       "Lot Shape          0\n",
       "Street             0\n",
       "Neighborhood       0\n",
       "Condition 1        0\n",
       "Condition 2        0\n",
       "Bldg Type          0\n",
       "House Style        0\n",
       "Roof Style         0\n",
       "Sale Condition     0\n",
       "Exterior 1st       0\n",
       "Exterior 2nd       0\n",
       "Sale Type          0\n",
       "Exter Qual         0\n",
       "Exter Cond         0\n",
       "Foundation         0\n",
       "Heating            0\n",
       "Heating QC         0\n",
       "Central Air        0\n",
       "Kitchen Qual       0\n",
       "Functional         0\n",
       "Paved Drive        0\n",
       "MS Zoning          0\n",
       "dtype: int64"
      ]
     },
     "execution_count": 10,
     "metadata": {},
     "output_type": "execute_result"
    }
   ],
   "source": [
    "text_missing = data.select_dtypes(include = ['object']).isnull().sum().sort_values(ascending=False)\n",
    "text_missing"
   ]
  },
  {
   "cell_type": "markdown",
   "metadata": {},
   "source": [
    "#### Drop text columns with missing values "
   ]
  },
  {
   "cell_type": "code",
   "execution_count": 11,
   "metadata": {
    "collapsed": false
   },
   "outputs": [
    {
     "data": {
      "text/plain": [
       "(2930, 64)"
      ]
     },
     "execution_count": 11,
     "metadata": {},
     "output_type": "execute_result"
    }
   ],
   "source": [
    "drop_columns = text_missing[text_missing >0].index\n",
    "data = data.drop(columns = drop_columns)\n",
    "data.shape"
   ]
  },
  {
   "cell_type": "code",
   "execution_count": 12,
   "metadata": {
    "collapsed": true
   },
   "outputs": [],
   "source": [
    "mode_values = data.mode().iloc[0]\n",
    "data = data.fillna(data.mode().iloc[0])"
   ]
  },
  {
   "cell_type": "code",
   "execution_count": 13,
   "metadata": {
    "collapsed": false
   },
   "outputs": [
    {
     "data": {
      "text/plain": [
       "0"
      ]
     },
     "execution_count": 13,
     "metadata": {},
     "output_type": "execute_result"
    }
   ],
   "source": [
    "data.isnull().sum().sum()"
   ]
  },
  {
   "cell_type": "markdown",
   "metadata": {},
   "source": [
    "#### Creating new features "
   ]
  },
  {
   "cell_type": "code",
   "execution_count": 14,
   "metadata": {
    "collapsed": true
   },
   "outputs": [],
   "source": [
    "data['year_since_built'] = data['Yr Sold'] - data['Year Built']\n",
    "data['year_since_remodel'] = data['Yr Sold'] - data['Year Remod/Add']"
   ]
  },
  {
   "cell_type": "code",
   "execution_count": 15,
   "metadata": {
    "collapsed": false
   },
   "outputs": [
    {
     "data": {
      "text/plain": [
       "2180   -1\n",
       "Name: year_since_built, dtype: int64"
      ]
     },
     "execution_count": 15,
     "metadata": {},
     "output_type": "execute_result"
    }
   ],
   "source": [
    "# Lets check if we have any invalid data in our newly made column of years since built\n",
    "data[data['year_since_built'] < 0]['year_since_built']"
   ]
  },
  {
   "cell_type": "code",
   "execution_count": 16,
   "metadata": {
    "collapsed": false
   },
   "outputs": [
    {
     "data": {
      "text/plain": [
       "1702   -1\n",
       "2180   -2\n",
       "2181   -1\n",
       "Name: year_since_remodel, dtype: int64"
      ]
     },
     "execution_count": 16,
     "metadata": {},
     "output_type": "execute_result"
    }
   ],
   "source": [
    "# Lets check if we have any invalid data in our newly made column of years since remodelled\n",
    "data[data['year_since_remodel'] < 0]['year_since_remodel']"
   ]
  },
  {
   "cell_type": "markdown",
   "metadata": {},
   "source": [
    "Lets drop these invalid entries and also drop the orginal columns. Our newly made columns are more concise."
   ]
  },
  {
   "cell_type": "code",
   "execution_count": 17,
   "metadata": {
    "collapsed": false
   },
   "outputs": [],
   "source": [
    "# Drop rows with invalid data\n",
    "data = data.drop([1702, 2180, 2181], axis=0)\n",
    "\n",
    "# Drop columns no longer needed\n",
    "data = data.drop([\"Year Built\", \"Year Remod/Add\"], axis = 1)"
   ]
  },
  {
   "cell_type": "markdown",
   "metadata": {},
   "source": [
    "##### Lets also drop other columns that are:\n",
    "- not directly useful for Machine Learning \n",
    "- can leak data about the final sale "
   ]
  },
  {
   "cell_type": "code",
   "execution_count": 18,
   "metadata": {
    "collapsed": false
   },
   "outputs": [],
   "source": [
    "# Columns not useful for ML\n",
    "data = data.drop([\"PID\", \"Order\"], axis=1)\n",
    "\n",
    "# Column containing information that can cause data leakage\n",
    "data = data.drop([\"Mo Sold\", \"Sale Condition\", \"Sale Type\", \"Yr Sold\"], axis=1)"
   ]
  },
  {
   "cell_type": "markdown",
   "metadata": {},
   "source": [
    "#### Update the transform_features() function"
   ]
  },
  {
   "cell_type": "code",
   "execution_count": 19,
   "metadata": {
    "collapsed": false
   },
   "outputs": [],
   "source": [
    "def transform_features(data):\n",
    "    # drop numeric columns with more than 5% missing values\n",
    "    num_missing = data.isnull().sum()\n",
    "    drop_ncols = num_missing[num_missing > data.shape[1]*0.05].index\n",
    "    data = data.drop(columns=drop_ncols)\n",
    "    \n",
    "    # drop text columns with any missing values\n",
    "    text_missing = data.select_dtypes(include = ['object']).isnull().sum().sort_values(ascending=False)\n",
    "    drop_tcols = text_missing[text_missing >0].index\n",
    "    data = data.drop(columns=drop_tcols)\n",
    "    \n",
    "    # fill remaining numeric nulls with mode\n",
    "    mode_values = data.mode().iloc[0]\n",
    "    data = data.fillna(data.mode().iloc[0])\n",
    "    \n",
    "    # create new features\n",
    "    data['year_since_built'] = data['Yr Sold'] - data['Year Built']\n",
    "    data['year_since_remodel'] = data['Yr Sold'] - data['Year Remod/Add']\n",
    "\n",
    "    # drop rows invalid data\n",
    "    data = data.drop(index = [1702, 2180, 2181])\n",
    "    \n",
    "    # drop original columns\n",
    "    data = data.drop(columns = [\"Year Built\", \"Year Remod/Add\"])\n",
    "    \n",
    "    # drop columns that are not useful for Machine Learning\n",
    "    data = data.drop(columns=[\"PID\", \"Order\"])\n",
    "\n",
    "    # drop columns that leak info about the final sale\n",
    "    data = data.drop(columns=[\"Mo Sold\", \"Sale Condition\", \"Sale Type\", \"Yr Sold\"])\n",
    "\n",
    "    return data"
   ]
  },
  {
   "cell_type": "code",
   "execution_count": 20,
   "metadata": {
    "collapsed": false
   },
   "outputs": [
    {
     "name": "stdout",
     "output_type": "stream",
     "text": [
      "55275.36731241307\n"
     ]
    }
   ],
   "source": [
    "data = pd.read_csv(\"AmesHousing.tsv\", delimiter=\"\\t\")\n",
    "transformed_data = transform_features(data)\n",
    "selected_data = select_features(selected_data)\n",
    "rmse = train_and_test(selected_data)\n",
    "print(rmse)"
   ]
  },
  {
   "cell_type": "markdown",
   "metadata": {},
   "source": [
    "### Feature Selection"
   ]
  },
  {
   "cell_type": "code",
   "execution_count": 21,
   "metadata": {
    "collapsed": false
   },
   "outputs": [
    {
     "data": {
      "text/plain": [
       "SalePrice        1.000000\n",
       "Overall Qual     0.801206\n",
       "Gr Liv Area      0.717596\n",
       "Garage Cars      0.648361\n",
       "Total Bsmt SF    0.644012\n",
       "Name: SalePrice, dtype: float64"
      ]
     },
     "execution_count": 21,
     "metadata": {},
     "output_type": "execute_result"
    }
   ],
   "source": [
    "# Lets check correlations between numerical columns \n",
    "data_corr = transformed_data.select_dtypes(['float','int']).corr()['SalePrice'].abs().sort_values(ascending=False)\n",
    "data_corr.head()\n",
    "# Bear that these are absolute values!"
   ]
  },
  {
   "cell_type": "markdown",
   "metadata": {},
   "source": [
    "Lets see correlations that are either > 0.3 or < -0.3 and store the column names"
   ]
  },
  {
   "cell_type": "code",
   "execution_count": 22,
   "metadata": {
    "collapsed": false
   },
   "outputs": [
    {
     "data": {
      "text/plain": [
       "Index(['SalePrice', 'Overall Qual', 'Gr Liv Area', 'Garage Cars',\n",
       "       'Total Bsmt SF', 'Garage Area', '1st Flr SF', 'year_since_built',\n",
       "       'Full Bath', 'year_since_remodel', 'TotRms AbvGrd', 'Fireplaces',\n",
       "       'BsmtFin SF 1', 'Wood Deck SF', 'Open Porch SF'],\n",
       "      dtype='object')"
      ]
     },
     "execution_count": 22,
     "metadata": {},
     "output_type": "execute_result"
    }
   ],
   "source": [
    "data_corr_cols = data_corr[data_corr > 0.3].index\n",
    "data_corr_cols"
   ]
  },
  {
   "cell_type": "code",
   "execution_count": 23,
   "metadata": {
    "collapsed": false
   },
   "outputs": [
    {
     "data": {
      "text/html": [
       "<div>\n",
       "<style scoped>\n",
       "    .dataframe tbody tr th:only-of-type {\n",
       "        vertical-align: middle;\n",
       "    }\n",
       "\n",
       "    .dataframe tbody tr th {\n",
       "        vertical-align: top;\n",
       "    }\n",
       "\n",
       "    .dataframe thead th {\n",
       "        text-align: right;\n",
       "    }\n",
       "</style>\n",
       "<table border=\"1\" class=\"dataframe\">\n",
       "  <thead>\n",
       "    <tr style=\"text-align: right;\">\n",
       "      <th></th>\n",
       "      <th>SalePrice</th>\n",
       "      <th>Overall Qual</th>\n",
       "      <th>Gr Liv Area</th>\n",
       "      <th>Garage Cars</th>\n",
       "      <th>Total Bsmt SF</th>\n",
       "      <th>Garage Area</th>\n",
       "      <th>1st Flr SF</th>\n",
       "      <th>year_since_built</th>\n",
       "      <th>Full Bath</th>\n",
       "      <th>year_since_remodel</th>\n",
       "      <th>TotRms AbvGrd</th>\n",
       "      <th>Fireplaces</th>\n",
       "      <th>BsmtFin SF 1</th>\n",
       "      <th>Wood Deck SF</th>\n",
       "      <th>Open Porch SF</th>\n",
       "    </tr>\n",
       "  </thead>\n",
       "  <tbody>\n",
       "    <tr>\n",
       "      <th>0</th>\n",
       "      <td>215000</td>\n",
       "      <td>6</td>\n",
       "      <td>1656</td>\n",
       "      <td>2.0</td>\n",
       "      <td>1080.0</td>\n",
       "      <td>528.0</td>\n",
       "      <td>1656</td>\n",
       "      <td>50</td>\n",
       "      <td>1</td>\n",
       "      <td>50</td>\n",
       "      <td>7</td>\n",
       "      <td>2</td>\n",
       "      <td>639.0</td>\n",
       "      <td>210</td>\n",
       "      <td>62</td>\n",
       "    </tr>\n",
       "    <tr>\n",
       "      <th>1</th>\n",
       "      <td>105000</td>\n",
       "      <td>5</td>\n",
       "      <td>896</td>\n",
       "      <td>1.0</td>\n",
       "      <td>882.0</td>\n",
       "      <td>730.0</td>\n",
       "      <td>896</td>\n",
       "      <td>49</td>\n",
       "      <td>1</td>\n",
       "      <td>49</td>\n",
       "      <td>5</td>\n",
       "      <td>0</td>\n",
       "      <td>468.0</td>\n",
       "      <td>140</td>\n",
       "      <td>0</td>\n",
       "    </tr>\n",
       "    <tr>\n",
       "      <th>2</th>\n",
       "      <td>172000</td>\n",
       "      <td>6</td>\n",
       "      <td>1329</td>\n",
       "      <td>1.0</td>\n",
       "      <td>1329.0</td>\n",
       "      <td>312.0</td>\n",
       "      <td>1329</td>\n",
       "      <td>52</td>\n",
       "      <td>1</td>\n",
       "      <td>52</td>\n",
       "      <td>6</td>\n",
       "      <td>0</td>\n",
       "      <td>923.0</td>\n",
       "      <td>393</td>\n",
       "      <td>36</td>\n",
       "    </tr>\n",
       "    <tr>\n",
       "      <th>3</th>\n",
       "      <td>244000</td>\n",
       "      <td>7</td>\n",
       "      <td>2110</td>\n",
       "      <td>2.0</td>\n",
       "      <td>2110.0</td>\n",
       "      <td>522.0</td>\n",
       "      <td>2110</td>\n",
       "      <td>42</td>\n",
       "      <td>2</td>\n",
       "      <td>42</td>\n",
       "      <td>8</td>\n",
       "      <td>2</td>\n",
       "      <td>1065.0</td>\n",
       "      <td>0</td>\n",
       "      <td>0</td>\n",
       "    </tr>\n",
       "    <tr>\n",
       "      <th>4</th>\n",
       "      <td>189900</td>\n",
       "      <td>5</td>\n",
       "      <td>1629</td>\n",
       "      <td>2.0</td>\n",
       "      <td>928.0</td>\n",
       "      <td>482.0</td>\n",
       "      <td>928</td>\n",
       "      <td>13</td>\n",
       "      <td>2</td>\n",
       "      <td>12</td>\n",
       "      <td>6</td>\n",
       "      <td>1</td>\n",
       "      <td>791.0</td>\n",
       "      <td>212</td>\n",
       "      <td>34</td>\n",
       "    </tr>\n",
       "  </tbody>\n",
       "</table>\n",
       "</div>"
      ],
      "text/plain": [
       "   SalePrice  Overall Qual  Gr Liv Area  Garage Cars  Total Bsmt SF  \\\n",
       "0     215000             6         1656          2.0         1080.0   \n",
       "1     105000             5          896          1.0          882.0   \n",
       "2     172000             6         1329          1.0         1329.0   \n",
       "3     244000             7         2110          2.0         2110.0   \n",
       "4     189900             5         1629          2.0          928.0   \n",
       "\n",
       "   Garage Area  1st Flr SF  year_since_built  Full Bath  year_since_remodel  \\\n",
       "0        528.0        1656                50          1                  50   \n",
       "1        730.0         896                49          1                  49   \n",
       "2        312.0        1329                52          1                  52   \n",
       "3        522.0        2110                42          2                  42   \n",
       "4        482.0         928                13          2                  12   \n",
       "\n",
       "   TotRms AbvGrd  Fireplaces  BsmtFin SF 1  Wood Deck SF  Open Porch SF  \n",
       "0              7           2         639.0           210             62  \n",
       "1              5           0         468.0           140              0  \n",
       "2              6           0         923.0           393             36  \n",
       "3              8           2        1065.0             0              0  \n",
       "4              6           1         791.0           212             34  "
      ]
     },
     "execution_count": 23,
     "metadata": {},
     "output_type": "execute_result"
    }
   ],
   "source": [
    "transformed_data[data_corr_cols].head()"
   ]
  },
  {
   "cell_type": "code",
   "execution_count": 24,
   "metadata": {
    "collapsed": false
   },
   "outputs": [
    {
     "data": {
      "image/png": "iVBORw0KGgoAAAANSUhEUgAAAiQAAAHHCAYAAACPy0PBAAAABHNCSVQICAgIfAhkiAAAAAlwSFlz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\nSUVORK5CYII=\n",
      "text/plain": [
       "<matplotlib.figure.Figure at 0x7f3d75397908>"
      ]
     },
     "metadata": {},
     "output_type": "display_data"
    }
   ],
   "source": [
    "corr_mat = transformed_data[data_corr_cols].corr()\n",
    "# Plot a heat map\n",
    "plt.figure(figsize=(8,6))\n",
    "sns.heatmap(corr_mat)\n",
    "plt.show()"
   ]
  },
  {
   "cell_type": "markdown",
   "metadata": {},
   "source": [
    "Following pairs of columns are strongly correlated\n",
    "\n",
    "- Gr Liv Area and TotRms AbvGrd\n",
    "- Garage Area and Garage Cars\n",
    "\n",
    "But each of pair of the columns is very much related to eachother. By looking at the documentation we can corraborate this as well.\n",
    "It is better to drop either from each pair "
   ]
  },
  {
   "cell_type": "code",
   "execution_count": 25,
   "metadata": {
    "collapsed": true
   },
   "outputs": [],
   "source": [
    "transformed_data = transformed_data.drop(columns=['TotRms AbvGrd', 'Garage Cars'])\n"
   ]
  },
  {
   "cell_type": "markdown",
   "metadata": {},
   "source": [
    "## Categorical Columns "
   ]
  },
  {
   "cell_type": "code",
   "execution_count": 26,
   "metadata": {
    "collapsed": true
   },
   "outputs": [],
   "source": [
    "# List of nominal columns according to the documentation\n",
    "nominal_features = [\"PID\", \"MS SubClass\", \"MS Zoning\", \"Street\", \"Alley\", \"Land Contour\", \"Lot Config\", \"Neighborhood\", \n",
    "                    \"Condition 1\", \"Condition 2\", \"Bldg Type\", \"House Style\", \"Roof Style\", \"Roof Matl\", \"Exterior 1st\", \n",
    "                    \"Exterior 2nd\", \"Mas Vnr Type\", \"Foundation\", \"Heating\", \"Central Air\", \"Garage Type\", \n",
    "                    \"Misc Feature\", \"Sale Type\", \"Sale Condition\"]"
   ]
  },
  {
   "cell_type": "markdown",
   "metadata": {},
   "source": [
    "- Which columns are currently numerical but need to be encoded as categorical instead (because the numbers don't have any semantic meaning)?\n",
    "- If a categorical column has hundreds of unique values (or categories), should we keep it? When we dummy code this column, hundreds of columns will need to be added back to the dataframe.\n",
    "- Which categorical columns have a few unique values but more than 95% of the values in the column belong to a specific category? This would be similar to a low variance numerical feature (no variability in the data for the model to capture)\n",
    "- What are some ways we can explore which categorical columns \"correlate\" well with SalePrice?"
   ]
  },
  {
   "cell_type": "code",
   "execution_count": 27,
   "metadata": {
    "collapsed": false
   },
   "outputs": [],
   "source": [
    "# which categorical columns have we still carried with us? We'll test these \n",
    "transformed_cat_cols = []\n",
    "for col in nominal_features:\n",
    "    if col in transformed_data.columns:\n",
    "        transformed_cat_cols.append(col)"
   ]
  },
  {
   "cell_type": "code",
   "execution_count": 28,
   "metadata": {
    "collapsed": false
   },
   "outputs": [
    {
     "data": {
      "text/plain": [
       "['MS SubClass',\n",
       " 'MS Zoning',\n",
       " 'Street',\n",
       " 'Land Contour',\n",
       " 'Lot Config',\n",
       " 'Neighborhood',\n",
       " 'Condition 1',\n",
       " 'Condition 2',\n",
       " 'Bldg Type',\n",
       " 'House Style',\n",
       " 'Roof Style',\n",
       " 'Roof Matl',\n",
       " 'Exterior 1st',\n",
       " 'Exterior 2nd',\n",
       " 'Foundation',\n",
       " 'Heating',\n",
       " 'Central Air']"
      ]
     },
     "execution_count": 28,
     "metadata": {},
     "output_type": "execute_result"
    }
   ],
   "source": [
    "transformed_cat_cols"
   ]
  },
  {
   "cell_type": "code",
   "execution_count": 29,
   "metadata": {
    "collapsed": true
   },
   "outputs": [],
   "source": [
    "# how many unique values in each categorical column?\n",
    "unique_counts = transformed_data[transformed_cat_cols].apply(lambda col: len(col.value_counts())).sort_values()\n",
    "\n",
    "# lets set cut-off at 10\n",
    "drop_nonuniq_cols = unique_counts[unique_counts > 10].index\n",
    "transformed_data = transformed_data.drop(drop_nonuniq_cols, axis=1)\n"
   ]
  },
  {
   "cell_type": "code",
   "execution_count": 30,
   "metadata": {
    "collapsed": true
   },
   "outputs": [],
   "source": [
    "# select the remaining text columns and convert to categorical\n",
    "text_cols = transformed_data.select_dtypes(include=['object'])\n",
    "for col in text_cols:\n",
    "    transformed_data[col] = transformed_data[col].astype('category')"
   ]
  },
  {
   "cell_type": "code",
   "execution_count": 31,
   "metadata": {
    "collapsed": false
   },
   "outputs": [],
   "source": [
    "# create dummies\n",
    "dummies = pd.get_dummies(transformed_data.select_dtypes(include=['category']))"
   ]
  },
  {
   "cell_type": "code",
   "execution_count": 32,
   "metadata": {
    "collapsed": true
   },
   "outputs": [],
   "source": [
    "# add dummies back to dataframe\n",
    "transformed_data = pd.concat([transformed_data, dummies], axis=1)"
   ]
  },
  {
   "cell_type": "code",
   "execution_count": 33,
   "metadata": {
    "collapsed": false
   },
   "outputs": [],
   "source": [
    "# drop text columns (with 'O' dtype)\n",
    "transformed_data = transformed_data.drop(text_cols,axis=1)"
   ]
  },
  {
   "cell_type": "markdown",
   "metadata": {},
   "source": [
    "#### Update select_features() function"
   ]
  },
  {
   "cell_type": "code",
   "execution_count": 34,
   "metadata": {
    "collapsed": true
   },
   "outputs": [],
   "source": [
    "def select_features(data, coef_cutoff=0.3, unique_cutoff=10):\n",
    "    num_data = data.select_dtypes(include=['float','int'])\n",
    "    num_data_corr = num_data.corr()['SalePrice'].abs().sort_values()\n",
    "    data = data.drop(num_data_corr[num_data_corr < coef_cutoff].index, axis=1)\n",
    "    \n",
    "    nominal_features = [\"PID\", \"MS SubClass\", \"MS Zoning\", \"Street\", \"Alley\", \"Land Contour\", \"Lot Config\", \"Neighborhood\", \n",
    "                    \"Condition 1\", \"Condition 2\", \"Bldg Type\", \"House Style\", \"Roof Style\", \"Roof Matl\", \"Exterior 1st\", \n",
    "                    \"Exterior 2nd\", \"Mas Vnr Type\", \"Foundation\", \"Heating\", \"Central Air\", \"Garage Type\", \n",
    "                    \"Misc Feature\", \"Sale Type\", \"Sale Condition\"]\n",
    "    \n",
    "    transformed_cat_cols = []\n",
    "    for col in nominal_features:\n",
    "        if col in data.columns:\n",
    "            transformed_cat_cols.append(col)\n",
    "            \n",
    "    unique_counts = data[transformed_cat_cols].apply(lambda col: len(col.value_counts())).sort_values()\n",
    "    drop_nonuniq_cols = unique_counts[unique_counts > 10].index\n",
    "    \n",
    "    data = data.drop(drop_nonuniq_cols, axis=1)\n",
    "    \n",
    "    text_cols = data.select_dtypes(['object'])\n",
    "    for col in text_cols:\n",
    "        data[col] = data[col].astype('category')\n",
    "    data = pd.concat([data, pd.get_dummies(data.select_dtypes(include=['category']))], axis=1).drop(text_cols,axis=1)\n",
    "    \n",
    "    return data"
   ]
  },
  {
   "cell_type": "code",
   "execution_count": 57,
   "metadata": {
    "collapsed": false
   },
   "outputs": [],
   "source": [
    "def train_and_test(data, k=0):\n",
    "    num_data = data.select_dtypes(include=['int','float'])\n",
    "    features = num_data.columns.drop(\"SalePrice\")\n",
    "    lr = linear_model.LinearRegression()\n",
    "    target = 'SalePrice'\n",
    "    std_rmse = 0 # for k > 2\n",
    "\n",
    "    \n",
    "    \n",
    "    if k == 0:\n",
    "        train = data.iloc[:1460]\n",
    "        test = data.iloc[1460:]\n",
    "\n",
    "        numeric_train = train.select_dtypes(include=['integer', 'float'])\n",
    "        numeric_test = test.select_dtypes(include=['integer', 'float'])\n",
    "\n",
    "        features = numeric_train.columns.drop(target)\n",
    "\n",
    "        # instantiate\n",
    "        lr = linear_model.LinearRegression()\n",
    "        # train\n",
    "        lr.fit(train[features], train[target])\n",
    "        # predict and test\n",
    "        predictions = lr.predict(test[features])\n",
    "\n",
    "        mse = mean_squared_error(test[target], predictions)\n",
    "        rmse = np.sqrt(mse)\n",
    "\n",
    "        return rmse, std_rmse\n",
    "    elif k == 1:\n",
    "        # RANDOMISE ALL ROWS FROM DATA AND RETURN \n",
    "        shuffled_data = data.sample(frac=1,)\n",
    "        train = data[:1460]\n",
    "        test = data[1460:]\n",
    "        \n",
    "        lr.fit(train[features], train[target])\n",
    "        predictions_one = lr.predict(test[features])   \n",
    "        \n",
    "        mse_one = mean_squared_error(test[target], predictions_one)\n",
    "        rmse_one = np.sqrt(mse_one)\n",
    "        \n",
    "        # Swapping test and train for k==1\n",
    "        \n",
    "        lr.fit(test[features], test[target])\n",
    "        predictions_two = lr.predict(train[features])        \n",
    "       \n",
    "        mse_two = mean_squared_error(train[target], predictions_two)\n",
    "        rmse_two = np.sqrt(mse_two)\n",
    "        \n",
    "        avg_rmse = np.mean([rmse_one, rmse_two])\n",
    "#         print(rmse_one)\n",
    "#         print(rmse_two)\n",
    "        return avg_rmse, std_rmse\n",
    "    else:\n",
    "        kf = KFold(n_splits=k, shuffle=True)\n",
    "        rmse_values = []\n",
    "        for train_index, test_index, in kf.split(data):\n",
    "            train = data.iloc[train_index]\n",
    "            test = data.iloc[test_index]\n",
    "            lr.fit(train[features], train[target])\n",
    "            predictions = lr.predict(test[features])\n",
    "            mse = mean_squared_error(test[target], predictions)\n",
    "            rmse = np.sqrt(mse)\n",
    "            rmse_values.append(rmse)\n",
    "            std_rmse = np.std(rmse_values)\n",
    "#         print(rmse_values)\n",
    "        avg_rmse = np.mean(rmse_values)\n",
    "        return avg_rmse, std_rmse"
   ]
  },
  {
   "cell_type": "code",
   "execution_count": 58,
   "metadata": {
    "collapsed": false
   },
   "outputs": [
    {
     "data": {
      "text/plain": [
       "(34278.950240922044, 0)"
      ]
     },
     "execution_count": 58,
     "metadata": {},
     "output_type": "execute_result"
    }
   ],
   "source": [
    "data = pd.read_csv(\"AmesHousing.tsv\", delimiter=\"\\t\")\n",
    "transformed_data = transform_features(data)\n",
    "selected_data = select_features(transformed_data)\n",
    "rmse = train_and_test(selected_data, k=1)\n",
    "\n",
    "rmse"
   ]
  },
  {
   "cell_type": "markdown",
   "metadata": {},
   "source": [
    "### Lets try to find the value of K with least RMSE  "
   ]
  },
  {
   "cell_type": "code",
   "execution_count": 75,
   "metadata": {
    "collapsed": false
   },
   "outputs": [],
   "source": [
    "list_k = []\n",
    "list_rmse = []\n",
    "list_std = []\n",
    "for k in range(1,13):\n",
    "    list_k.append(k)\n",
    "    rmse, std = train_and_test(selected_data, k=k)\n",
    "    list_rmse.append(rmse)\n",
    "    list_std.append(std)"
   ]
  },
  {
   "cell_type": "markdown",
   "metadata": {},
   "source": [
    "# TBC"
   ]
  },
  {
   "cell_type": "code",
   "execution_count": null,
   "metadata": {
    "collapsed": true
   },
   "outputs": [],
   "source": []
  }
 ],
 "metadata": {
  "anaconda-cloud": {},
  "kernelspec": {
   "display_name": "Python 3",
   "language": "python",
   "name": "python3"
  },
  "language_info": {
   "codemirror_mode": {
    "name": "ipython",
    "version": 3
   },
   "file_extension": ".py",
   "mimetype": "text/x-python",
   "name": "python",
   "nbconvert_exporter": "python",
   "pygments_lexer": "ipython3",
   "version": "3.4.3"
  }
 },
 "nbformat": 4,
 "nbformat_minor": 2
}
